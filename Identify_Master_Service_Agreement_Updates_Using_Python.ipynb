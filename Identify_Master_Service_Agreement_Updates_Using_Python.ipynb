{
  "nbformat": 4,
  "nbformat_minor": 0,
  "metadata": {
    "colab": {
      "provenance": []
    },
    "kernelspec": {
      "name": "python3",
      "display_name": "Python 3"
    },
    "language_info": {
      "name": "python"
    }
  },
  "cells": [
    {
      "cell_type": "markdown",
      "source": [
        "### **Background**\n",
        "\n",
        "In some situations, we want to know what changes have been made to an updated Master Service Agreement. Identifying the changes with human eyes could be tedious; sometimes the change is so small that it could be easily ignored.  \n",
        "\n",
        "This notebook addresses this problem by using Python to extract the text from two different Master Service Agreement files and compare the text sentence by sentence. Python will identify different sentences and print them out for us.  \n",
        "\n",
        "**The different sentences could be:**  \n",
        "\n",
        "**1. Sentences appear in both files, but the sentences are not exactly the same.**\n",
        "\n",
        "**2. Sentences appear in one file but not in the other file.**  \n",
        "\n",
        "\n",
        "\n",
        "The MSA(Master Service Agreement) files used in this notebook are from the Salesforce MSA archive: https://www.salesforce.com/company/legal/MSA-archive/"
      ],
      "metadata": {
        "id": "Qv5M1IQkFE9K"
      }
    },
    {
      "cell_type": "markdown",
      "source": [
        "### **0. Web Scraping to Automatically Download the MSA Files From the Website**\n",
        "\n",
        "Below are the codes to automatically download the MSA files from the Salesforce website to Google Colab and rename those files.   \n",
        "The latest MSA will be named \"Salesforce_MSA_1\", and the larger the number, the older the version."
      ],
      "metadata": {
        "id": "Xgmio2fHICAE"
      }
    },
    {
      "cell_type": "code",
      "execution_count": 1,
      "metadata": {
        "id": "Jle8mHnoH8SV"
      },
      "outputs": [],
      "source": [
        "# import libraries for web scraping\n",
        "import requests\n",
        "import urllib.request\n",
        "from bs4 import BeautifulSoup"
      ]
    },
    {
      "cell_type": "code",
      "source": [
        "# url of the website\n",
        "url = 'https://www.salesforce.com/company/legal/MSA-archive/'\n",
        "\n",
        "# create a response of the website\n",
        "response = requests.get(url)\n",
        "\n",
        "# parse the text of the website\n",
        "soup = BeautifulSoup(response.text, 'html.parser')\n",
        "\n",
        "# find all the links in the website\n",
        "links = soup.find_all('a')\n",
        "\n",
        "file_num = 0\n",
        "for link in links:\n",
        "  # find pdf links\n",
        "  if link['href'].endswith('.pdf'):\n",
        "    file_num += 1\n",
        "    pdf_link = link['href']\n",
        "\n",
        "    # get the url of the pdf link\n",
        "    pdf_url = 'https:' + pdf_link\n",
        "\n",
        "    # get the name of the pdf link\n",
        "    file_name = link.text[8:]\n",
        "\n",
        "    # download the pdf\n",
        "    urllib.request.urlretrieve(pdf_url, 'Salesforce_MSA_'+str(file_num)+'.pdf')\n",
        "    print(file_name, ' downloaded, named as Salesforce_MSA_'+str(file_num))\n",
        "\n",
        "print('Downloaded '+str(file_num)+' files')"
      ],
      "metadata": {
        "colab": {
          "base_uri": "https://localhost:8080/"
        },
        "id": "YyywaWV_JhBf",
        "outputId": "926dc96d-89d5-495a-c977-4d666b58f92b"
      },
      "execution_count": 2,
      "outputs": [
        {
          "output_type": "stream",
          "name": "stdout",
          "text": [
            " Salesforce MSA (December 19, 2022 - Present)  downloaded, named as Salesforce_MSA_1\n",
            " Salesforce MSA (November 18, 2022 - December 18, 2022)  downloaded, named as Salesforce_MSA_2\n",
            " Salesforce MSA (September 15, 2022 - November 17, 2022)  downloaded, named as Salesforce_MSA_3\n",
            " Salesforce MSA (August 15, 2022 - September 14, 2022)   downloaded, named as Salesforce_MSA_4\n",
            " Salesforce MSA (August 4, 2022 - August 14, 2022)   downloaded, named as Salesforce_MSA_5\n",
            " Salesforce MSA (May 16, 2022 - August 3, 2022)  downloaded, named as Salesforce_MSA_6\n",
            " Salesforce MSA (April 4, 2022 - May 15, 2022)  downloaded, named as Salesforce_MSA_7\n",
            " Salesforce MSA (February 18, 2022 - April 3, 2022)  downloaded, named as Salesforce_MSA_8\n",
            " Salesforce MSA (November 22, 2021 - February 17, 2022)  downloaded, named as Salesforce_MSA_9\n",
            " Salesforce MSA (September 27, 2021 - November 21, 2021)  downloaded, named as Salesforce_MSA_10\n",
            " Salesforce MSA (April 23, 2021 - September 26, 2021)  downloaded, named as Salesforce_MSA_11\n",
            " Salesforce MSA (April 12, 2021 - April 22, 2021)  downloaded, named as Salesforce_MSA_12\n",
            " Salesforce MSA (June 6, 2020 - April 11, 2021)  downloaded, named as Salesforce_MSA_13\n",
            " Salesforce MSA (September 1, 2019 - June 5, 2020)  downloaded, named as Salesforce_MSA_14\n",
            " Salesforce MSA (June 1, 2019 - August 31, 2019)  downloaded, named as Salesforce_MSA_15\n",
            " Salesforce MSA (May 1, 2019 - May 31, 2019)  downloaded, named as Salesforce_MSA_16\n",
            " Salesforce MSA (November 10, 2018 - April 30, 2019)  downloaded, named as Salesforce_MSA_17\n",
            " Salesforce MSA (February 1, 2018 - November 9, 2018)  downloaded, named as Salesforce_MSA_18\n",
            " Salesforce MSA (September 12, 2017 - January 31, 2018)  downloaded, named as Salesforce_MSA_19\n",
            " Salesforce MSA (June 23, 2016 - September 11, 2017)  downloaded, named as Salesforce_MSA_20\n",
            " Salesforce MSA (January 9, 2016 - June 22, 2016)  downloaded, named as Salesforce_MSA_21\n",
            " Salesforce MSA (October 21, 2015 - January 8, 2016)  downloaded, named as Salesforce_MSA_22\n",
            " Salesforce MSA (October 8, 2015 - October 20, 2015)  downloaded, named as Salesforce_MSA_23\n",
            " Salesforce MSA (September 1, 2014 - October 7, 2015)  downloaded, named as Salesforce_MSA_24\n",
            " Salesforce MSA (November 27, 2013 - August 31, 2014)  downloaded, named as Salesforce_MSA_25\n",
            " Salesforce MSA (July 24, 2013 â November 26, 2013)  downloaded, named as Salesforce_MSA_26\n",
            " Salesforce MSA (May 31, 2013 â July 23, 2013)  downloaded, named as Salesforce_MSA_27\n",
            " Salesforce MSA (January 7, 2013 â May 30, 2013)  downloaded, named as Salesforce_MSA_28\n",
            " Salesforce MSA (September 15, 2011 â January 6, 2013)  downloaded, named as Salesforce_MSA_29\n",
            " Salesforce MSA (December 1, 2010 â September 14, 2011)  downloaded, named as Salesforce_MSA_30\n",
            " Salesforce MSA (June 21, 2010 â November 30, 2010)  downloaded, named as Salesforce_MSA_31\n",
            " Salesforce MSA (May 7, 2009 â June 20, 2010)  downloaded, named as Salesforce_MSA_32\n",
            " Salesforce MSA (April 2, 2009 â May 6, 2009)  downloaded, named as Salesforce_MSA_33\n",
            " Salesforce MSA (February 5, 2009 â April 1, 2009)  downloaded, named as Salesforce_MSA_34\n",
            " Salesforce MSA (October 17, 2008 â February 4, 2009)  downloaded, named as Salesforce_MSA_35\n",
            " Salesforce MSA (March 13, 2008 â October 16, 2008)  downloaded, named as Salesforce_MSA_36\n",
            " Salesforce MSA (July 18, 2007 â March 12, 2008)  downloaded, named as Salesforce_MSA_37\n",
            " Salesforce MSA (February 14, 2006 â July 17, 2007)  downloaded, named as Salesforce_MSA_38\n",
            " Salesforce MSA (December 1, 2005 â February 13, 2006)  downloaded, named as Salesforce_MSA_39\n",
            " Salesforce MSA (July 8, 2005 â November 30, 2005)  downloaded, named as Salesforce_MSA_40\n",
            " Salesforce MSA (February 28, 2005 â July 7, 2005)  downloaded, named as Salesforce_MSA_41\n",
            " Salesforce MSA (December 30, 2004 â February 27, 2005)  downloaded, named as Salesforce_MSA_42\n",
            " Salesforce MSA (October 8, 2004 â December 29, 2004)  downloaded, named as Salesforce_MSA_43\n",
            " Salesforce MSA (July 30, 2004 â October 7, 2004)  downloaded, named as Salesforce_MSA_44\n",
            " Salesforce MSA (March 21, 2004 â July 29, 2004)  downloaded, named as Salesforce_MSA_45\n",
            " Salesforce MSA (November 2, 2003 â March 20, 2004)  downloaded, named as Salesforce_MSA_46\n",
            " Salesforce MSA (September 16, 2003 â November 1, 2003)  downloaded, named as Salesforce_MSA_47\n",
            " Salesforce MSA (June 30, 2003 â September 15, 2003)  downloaded, named as Salesforce_MSA_48\n",
            " Salesforce MSA (February 20, 2003 â June 29, 2003)  downloaded, named as Salesforce_MSA_49\n",
            " Salesforce MSA (April 30, 2002 â February 19, 2003)  downloaded, named as Salesforce_MSA_50\n",
            " Salesforce MSA (April 1, 2002 â April 29, 2002)  downloaded, named as Salesforce_MSA_51\n",
            " Salesforce MSA (February 15, 2002 â March 31, 2002)  downloaded, named as Salesforce_MSA_52\n",
            " Salesforce MSA (January 1, 2002 â February 14, 2002)  downloaded, named as Salesforce_MSA_53\n",
            " Salesforce MSA (1999 â December 31, 2001)  downloaded, named as Salesforce_MSA_54\n",
            "Downloaded 54 files\n"
          ]
        }
      ]
    },
    {
      "cell_type": "markdown",
      "source": [
        "### **1. Extracting Text From PDF Files**\n",
        "\n",
        "Below are the codes to define a function to extract text from a PDF file:"
      ],
      "metadata": {
        "id": "IslAeU9pfYZs"
      }
    },
    {
      "cell_type": "code",
      "source": [
        "!pip install pdfminer.six"
      ],
      "metadata": {
        "id": "X3Dili246TIC"
      },
      "execution_count": null,
      "outputs": []
    },
    {
      "cell_type": "code",
      "source": [
        "# import libraries for extracting the text\n",
        "from IPython.lib.pretty import StringIO\n",
        "from io import StringIO\n",
        "from pdfminer.pdfinterp import PDFResourceManager, PDFPageInterpreter\n",
        "from pdfminer.converter import TextConverter\n",
        "from pdfminer.layout import LAParams\n",
        "from pdfminer.pdfpage import PDFPage"
      ],
      "metadata": {
        "id": "LgpZPPEL6S8u"
      },
      "execution_count": 4,
      "outputs": []
    },
    {
      "cell_type": "code",
      "source": [
        "def extract_text_from_pdf(pdf_name):\n",
        "  '''\n",
        "  This function takes in a PDF file name as a parameter and returns the text content of the PDF file as a string\n",
        "  \n",
        "  '''\n",
        "\n",
        "  with open(str(pdf_name)+'.pdf', 'rb') as file:\n",
        "    # create a PDF resource manager object to store resources\n",
        "    resource_manager = PDFResourceManager()\n",
        "\n",
        "    # create a string buffer object to store the extracted text from the PDF file\n",
        "    string_io = StringIO()\n",
        "\n",
        "    # create a text converter object to convert the PDF content into text\n",
        "    converter = TextConverter(resource_manager, string_io, codec='utf-8', laparams = LAParams(char_margin=5, all_texts=True))\n",
        "\n",
        "    # creates a PDF page interpreter object to process the PDF pages and extract the text content\n",
        "    interpreter = PDFPageInterpreter(resource_manager, converter)\n",
        "\n",
        "    # extract the text from each page\n",
        "    for page in PDFPage.get_pages(file, caching=True, check_extractable=True):\n",
        "      interpreter.process_page(page)\n",
        "\n",
        "    # get the text content stored in the string_io buffer object\n",
        "    text = string_io.getvalue()\n",
        "  \n",
        "  return text"
      ],
      "metadata": {
        "id": "yPW3TF275j7F"
      },
      "execution_count": 5,
      "outputs": []
    },
    {
      "cell_type": "markdown",
      "source": [
        "### **2. Cleaning Text Using Regular Expression**\n",
        "\n",
        "There could be some messy formatting on the text, caused during extracting the text from PDF files (for example, extra spaces between words). Cleaning the messy formatting can help AI model better tokenize the text into sentences, and also reduce the influence of different formatting when comparing two documents. \n",
        "\n",
        "Furthermore, there could be some unique characteristics in the particular files we are dealing with (for example, the foot noting of each page). These unwanted information should be remove before we comparing two documents if we want the result of comparision to be less redundant. In this situation, the cleaning rules have to be set up on a case-by-case basis, so some parts of the codes below are customized to clean Salesforce MSA files based on the unique characteristics of these files."
      ],
      "metadata": {
        "id": "G5xW4eCMUYWL"
      }
    },
    {
      "cell_type": "code",
      "source": [
        "# import library for cleaning string\n",
        "import re"
      ],
      "metadata": {
        "id": "LE6C3EMpMnjz"
      },
      "execution_count": 6,
      "outputs": []
    },
    {
      "cell_type": "code",
      "source": [
        "def clean_text(text_string):\n",
        "  '''\n",
        "  This function takes a string and returned the cleaned string based on the regex rules\n",
        "\n",
        "  '''\n",
        "\n",
        "  # remove line breakers\n",
        "  cleaned_text = text_string.replace('\\n', '')\n",
        "\n",
        "  # remove extra whitespaces\n",
        "  cleaned_text = re.sub(r'\\s+', ' ', cleaned_text)\n",
        "\n",
        "  # clean extra whitespaces before a set of punctuations\n",
        "  cleaned_text = re.sub(r'\\s+([-.,;:)#/&*”>%@])', r'\\1', cleaned_text)\n",
        "\n",
        "  # clean extra whitespaces after a set of punctuations\n",
        "  cleaned_text = re.sub(r'([-(#/&*“<@]+)(\\s+)', r'\\1', cleaned_text)\n",
        "\n",
        "  # remove \"Back to Top\" navigator in the pdf file\n",
        "  cleaned_text = cleaned_text.replace('Back to Top', '')\n",
        "\n",
        "  # remove page footing of each page\n",
        "  cleaned_text = re.sub(r'Page \\d{1,2} of \\d{1,2}', '', cleaned_text)\n",
        "  cleaned_text = re.sub(r'SFDC-MSA, [A-Za-z]+ \\d{1,2}, \\d{4}', '', cleaned_text)\n",
        "  cleaned_text = re.sub(r'SFDC-MSA [A-Za-z]+ \\d{1,2}, \\d{4}', '', cleaned_text)\n",
        "  cleaned_text = re.sub(r'SFDC-MSA [A-Za-z]+ \\d{4}', '', cleaned_text)\n",
        "  cleaned_text = re.sub(r'SFDC-MSA [A-Za-z]+ \\d{1,2} \\d{4}', '', cleaned_text)\n",
        "  \n",
        "  # remove extra whitespaces\n",
        "  cleaned_text = re.sub(r'\\s+', ' ', cleaned_text)\n",
        "\n",
        "  return cleaned_text"
      ],
      "metadata": {
        "id": "0cRSpZfWqh3h"
      },
      "execution_count": 74,
      "outputs": []
    },
    {
      "cell_type": "markdown",
      "source": [
        "### **3. Using A Pre-trained NLP Model to Tokenize Text into Sentences**\n",
        "\n",
        "After cleaning up the text, the next step is to split the text into sentences so we can compare sentences from two different MSA.  \n",
        "\n",
        "spaCy is a popular NLP library that provides a pre-trained sentence tokenizer, which is used to split the text into individual sentences. The spaCy sentence tokenizer uses complex algorithms and machine learning models to accurately identify sentence boundaries in text data. It can handle a wide variety of text data, including text in multiple languages, text with different writing styles, and text with complex punctuation and sentence structures."
      ],
      "metadata": {
        "id": "1bc1mW0sf_nq"
      }
    },
    {
      "cell_type": "code",
      "source": [
        "!pip install spacy"
      ],
      "metadata": {
        "id": "KAAh6MhxGoIg"
      },
      "execution_count": null,
      "outputs": []
    },
    {
      "cell_type": "code",
      "source": [
        "import spacy"
      ],
      "metadata": {
        "id": "AYR12sJkuhMe"
      },
      "execution_count": null,
      "outputs": []
    },
    {
      "cell_type": "code",
      "source": [
        "# define a function to use spaCy's pre-trained sentence tokenizer model\n",
        "def sentencize_text(text):\n",
        "  '''\n",
        "  This function takes in a string of text and returns a list of sentences.\n",
        "  \n",
        "  '''\n",
        "  # Load the English NLP model\n",
        "  nlp = spacy.load(\"en_core_web_sm\")\n",
        "  \n",
        "  # The 'nlp' object is used to create documents\n",
        "  doc = nlp(text)\n",
        "  sentences_list = [sent.text.strip() for sent in doc.sents]\n",
        "\n",
        "  return sentences_list"
      ],
      "metadata": {
        "id": "wKxT92CnMqvh"
      },
      "execution_count": 10,
      "outputs": []
    },
    {
      "cell_type": "markdown",
      "source": [
        "### **4. Comparing Two Files Sentence by Sentence**\n",
        "\n",
        "Below are the codes to define a function to compare the text of 2 PDF files sentence by sentence:"
      ],
      "metadata": {
        "id": "a7ryq6Rt8bWQ"
      }
    },
    {
      "cell_type": "code",
      "source": [
        "# import the library for string by string comparing\n",
        "import difflib"
      ],
      "metadata": {
        "id": "CMhabUCxb0oH"
      },
      "execution_count": 11,
      "outputs": []
    },
    {
      "cell_type": "code",
      "source": [
        "# a function to identify different sentences in 2 PDF files\n",
        "def find_different_sentences():\n",
        "  '''\n",
        "  This function takes two PDF file names from the user and prints out the different sentences between the two files.\n",
        "    \n",
        "  '''\n",
        "\n",
        "  # prompt the user to enter the names of two PDF files\n",
        "  pdf_name_1 = input('Enter the first file name and press enter: ')\n",
        "  pdf_name_2 = input('Enter the second file name and press enter: ')\n",
        "\n",
        "  # extract the text from the two PDF files\n",
        "  pdf1_text = extract_text_from_pdf(pdf_name_1)\n",
        "  pdf2_text = extract_text_from_pdf(pdf_name_2)\n",
        "\n",
        "  # clean the extracted text\n",
        "  pdf1_cleaned_text = clean_text(pdf1_text)\n",
        "  pdf2_cleaned_text = clean_text(pdf2_text)\n",
        "\n",
        "  # split the cleaned text into sentences\n",
        "  pdf1_sentences = sentencize_text(pdf1_cleaned_text)\n",
        "  pdf2_sentences = sentencize_text(pdf2_cleaned_text)\n",
        "\n",
        "  # compare the sentences of the two PDF files and stores the differences in a list\n",
        "  diff = difflib.ndiff(pdf1_sentences, pdf2_sentences)\n",
        "\n",
        "  # store the different sentence in a list\n",
        "  differences = [line for line in diff if (line.startswith('- ') or line.startswith('+ '))]\n",
        "\n",
        "  # print the different sentences along with the file name they belong to\n",
        "  if differences:\n",
        "    print(\"Below are the differences:\\n\")\n",
        "\n",
        "    for line in differences:\n",
        "      if line.startswith('- '):\n",
        "        line = 'Sentence in the ' + str(pdf_name_1) + ':' + line[1:]\n",
        "        print(line)\n",
        "      else:\n",
        "        line = 'Sentence in the ' + str(pdf_name_2) + ':' + line[1:]\n",
        "        print(line)\n",
        "\n",
        "  else:\n",
        "    print(\"The PDF files are identical\")"
      ],
      "metadata": {
        "id": "pn6HpVQ6Xt21"
      },
      "execution_count": 57,
      "outputs": []
    },
    {
      "cell_type": "markdown",
      "source": [
        "### **5. Testing for Salesforce MSA Files**\n",
        "\n",
        "Below are the codes to test the function `find_different_sentences()` with the Salesforce MSA files:\n",
        "\n",
        "\n"
      ],
      "metadata": {
        "id": "FhvaEFc0BAob"
      }
    },
    {
      "cell_type": "code",
      "source": [
        "find_different_sentences()"
      ],
      "metadata": {
        "colab": {
          "base_uri": "https://localhost:8080/"
        },
        "id": "5Rh8auZOvOwh",
        "outputId": "38a1247c-ad4c-45f7-f3cc-c7a6cb10a0c5"
      },
      "execution_count": 22,
      "outputs": [
        {
          "output_type": "stream",
          "name": "stdout",
          "text": [
            "Enter the first file name and press enter: Salesforce_MSA_1\n",
            "Enter the second file name and press enter: Salesforce_MSA_2\n",
            "Below are the differences:\n",
            "\n",
            "Sentence in the Salesforce_MSA_1: This Agreement was last updated on December 19, 2022.\n",
            "Sentence in the Salesforce_MSA_2: This Agreement was last updated on November 18, 2022.\n",
            "Sentence in the Salesforce_MSA_1: With respect to Customers domiciled in the United Kingdom, Section 12.3 “Entire Agreement and Order of Precedence” of this Agreement is replaced with the following section: 12.3 Entire Agreement and Order of Precedence.\n",
            "Sentence in the Salesforce_MSA_2: Section 12.3 “Entire Agreement and Order of Precedence” of this Agreement is replaced with the following section: 12.3 Entire Agreement and Order of Precedence.\n"
          ]
        }
      ]
    },
    {
      "cell_type": "code",
      "source": [
        "find_different_sentences()"
      ],
      "metadata": {
        "colab": {
          "base_uri": "https://localhost:8080/"
        },
        "id": "lVgz3SKr8R7w",
        "outputId": "950bb078-e959-430f-cd34-b7b140246e26"
      },
      "execution_count": 26,
      "outputs": [
        {
          "output_type": "stream",
          "name": "stdout",
          "text": [
            "Enter the first file name and press enter: Salesforce_MSA_2\n",
            "Enter the second file name and press enter: Salesforce_MSA_3\n",
            "Below are the differences:\n",
            "\n",
            "Sentence in the Salesforce_MSA_2: This Agreement was last updated on November 18, 2022.\n",
            "Sentence in the Salesforce_MSA_3: This Agreement was last updated on, September 15, 2022.\n",
            "Sentence in the Salesforce_MSA_2: Customer will not permit any User to access or use any Service or Content in a U.S.-embargoed country or region (currently the Crimea, Luhansk or Donetsk regions, Cuba, Iran, North Korea, or Syria) or as may be updated from time to time at https://www.salesforce.com/company/legal/compliance/ or in violation of any U.S. export law or regulation.\n",
            "Sentence in the Salesforce_MSA_3: Customer will not permit any User to access or use any Service or Content in a U.S.-embargoed country or region (currently the Crimea, Luhansk or Donetsk regions, Cuba, Iran, North Korea, Sudan or Syria) or as may be updated from time to time at https://www.salesforce.com/company/legal/compliance/ or in violation of any U.S. export law or regulation.\n",
            "Sentence in the Salesforce_MSA_2: SFDC reserves the right to provide any invoice copy in electronic form via email in addition to the electronic invoicing described herein. 12.17 Local Law Requirements: United Kingdom.\n",
            "Sentence in the Salesforce_MSA_3: SFDC reserves the right to provide any invoice copy in electronic form via email in addition to the electronic invoicing described herein.\n",
            "Sentence in the Salesforce_MSA_2: Section 12.3 “Entire Agreement and Order of Precedence” of this Agreement is replaced with the following section: 12.3 Entire Agreement and Order of Precedence.\n",
            "Sentence in the Salesforce_MSA_2: This Agreement is the entire agreement between SFDC and Customer regarding Customer’s use of Services and Content and supersedes all prior and contemporaneous agreements, proposals or representations, written or oral, concerning its subject matter.\n",
            "Sentence in the Salesforce_MSA_2: No representation, undertaking or promise shall be taken to have been given or be implied from anything said or written in negotiations between the parties prior to this Agreement except as expressly stated in this Agreement.\n",
            "Sentence in the Salesforce_MSA_2: Neither party shall have any remedy in respect of any untrue statement made by the other upon which that party relied in entering this Agreement (unless such untrue statement was made fraudulently) and that party's only remedies shall be for breach of contract as provided in this Agreement.\n",
            "Sentence in the Salesforce_MSA_2: The parties agree that any term or condition stated in a Customer purchase order or in any other Customer order documentation (excluding Order Forms) is void.\n",
            "Sentence in the Salesforce_MSA_2: In the event of any conflict or inconsistency among the following documents, the order of precedence shall be: (1) the applicable Order Form, (2) this Agreement, and (3) the Documentation.\n",
            "Sentence in the Salesforce_MSA_2: Titles and headings of sections of this Agreement are for convenience only and shall not affect the construction of any provision of this Agreement.\n"
          ]
        }
      ]
    },
    {
      "cell_type": "markdown",
      "source": [
        "In the output above, there is a chunk of \"Sentence in the Salesforce_MSA_2\" without corresponding \"Sentence in the Salesforce_MSA_3\". This means that these lines only appear in Salesforce_MSA_2 - they are newly added content in the newer version of MSA."
      ],
      "metadata": {
        "id": "8U65KiJzbACk"
      }
    },
    {
      "cell_type": "code",
      "source": [
        "find_different_sentences()"
      ],
      "metadata": {
        "colab": {
          "base_uri": "https://localhost:8080/"
        },
        "id": "Cd-jGwi7JCfK",
        "outputId": "086c9fdc-fd56-45cd-db5a-653e490e3ef0"
      },
      "execution_count": 52,
      "outputs": [
        {
          "output_type": "stream",
          "name": "stdout",
          "text": [
            "Enter the first file name and press enter: Salesforce_MSA_3\n",
            "Enter the second file name and press enter: Salesforce_MSA_4\n",
            "Below are the differences:\n",
            "\n",
            "Sentence in the Salesforce_MSA_3: This Agreement was last updated on, September 15, 2022.\n",
            "Sentence in the Salesforce_MSA_4: This Agreement was last updated on August 15, 2022.\n",
            "Sentence in the Salesforce_MSA_3: During an applicable subscription term (a) this Agreement, the Order Forms and the Documentation will accurately describe the applicable administrative, physical, and technical safeguards for protection of the security, confidentiality and integrity of Customer Data, (b) SFDC will not materially decrease the overall security of the Services, (c) the Services will perform materially in accordance with the applicable Documentation, and (d) subject to the “Integration with Non-SFDC Applications” section above, SFDC will not materially decrease the overall functionality of the Services.\n",
            "Sentence in the Salesforce_MSA_4: Pendant une période de souscription en vigueur, (a) le présent Contrat, les Formulaires de Commande et la Documentation décriront de manière précise les mesures de protection techniques, physiques et administratives mises en œuvre pour assurer la sécurité, la confidentialité et l'intégrité des Données du Client, (b) SFDC ne réduira pas de manière substantielle la sécurité globale des Services, (c) les Services fonctionneront substantiellement en conformité avec la Documentation applicable, et (d) sous réserve des stipulations de l'article « Intégration avec des Applications non SFDC » ci-dessus, SFDC ne réduira pas de manière substantielle les fonctionnalités générales des Services.\n",
            "Sentence in the Salesforce_MSA_3: (4) a new Section 12.12.3 is added as follows: 12.12.3 Language.\n",
            "Sentence in the Salesforce_MSA_4: (4) a new Section 12.12.3 is added as follows: 12.12.3 Langue.\n",
            "Sentence in the Salesforce_MSA_3: The Parties agree that this Agreement and/or any Documentation and other information or policies referenced or attached to this Agreement may be in English.\n",
            "Sentence in the Salesforce_MSA_4: Les parties conviennent que le Contrat et/ou toute Documentation ainsi que tout autre information ou politique référencée ou attachée à ce Contrat peuvent être en langue anglaise.\n",
            "Sentence in the Salesforce_MSA_3: (5) a new Section 12.12.4 is added as follows: 12.12.4 Independence Towards Third Parties.\n",
            "Sentence in the Salesforce_MSA_4: (5) a new Section 12.12.4 is added as follows: 12.12.4 Indépendance vis-à-vis des tiers.\n",
            "Sentence in the Salesforce_MSA_3: For the avoidance of doubt, any third parties, including those Customer contracted with to provide consulting and/or implementation services in relation to the Services, are independent of SFDC and SFDC shall in no event be responsible for their acts or omissions, including when such acts or omissions impact Customer’s use of the Services.\n",
            "Sentence in the Salesforce_MSA_4: A toutes fins utiles, il est précisé que tout tiers, en ce compris ceux avec lesquels le Client a contracté pour fournir des services de conseil et/ou d’intégration en lien avec les Services, sont indépendants de SFDC et\n",
            "Sentence in the Salesforce_MSA_4: SFDC ne sera en aucun cas responsable de leurs faits, y compris lorsque ces faits impactent l'utilisation des Services par le Client.\n",
            "Sentence in the Salesforce_MSA_3: 8.4 Remedies Resulting from Defects.\n",
            "Sentence in the Salesforce_MSA_4: 8.4 Remedies resulting from Defects.\n",
            "Sentence in the Salesforce_MSA_3: In the “Refund or Payment upon Termination” section, sentence 1 and sentence 3 shall apply accordingly.\n",
            "Sentence in the Salesforce_MSA_4: The “Refund or Payment upon Termination” section, sentence and 1 and sentence 3 shall apply accordingly.\n"
          ]
        }
      ]
    },
    {
      "cell_type": "code",
      "source": [
        "find_different_sentences()"
      ],
      "metadata": {
        "colab": {
          "base_uri": "https://localhost:8080/"
        },
        "id": "_NLsHAKrJSIi",
        "outputId": "39f81600-5fcd-4633-bd2b-3306df22ca4c"
      },
      "execution_count": 54,
      "outputs": [
        {
          "output_type": "stream",
          "name": "stdout",
          "text": [
            "Enter the first file name and press enter: Salesforce_MSA_4\n",
            "Enter the second file name and press enter: Salesforce_MSA_5\n",
            "Below are the differences:\n",
            "\n",
            "Sentence in the Salesforce_MSA_4: This Agreement was last updated on August 15, 2022.\n",
            "Sentence in the Salesforce_MSA_5: This Agreement was last updated on August 4, 2022.\n",
            "Sentence in the Salesforce_MSA_4: Legal Department-Level 1, Block A, Nova Atria North, Sandyford Business District, Dublin 18, Ireland Salesforce.com Sarl, Route de la Longeraie 9, Morges, 1110, Switzerland, attn: Director, EMEA Sales Operations, with a copy to attn.:\n",
            "Sentence in the Salesforce_MSA_5: Legal Department-3rd and 4th Floor, 1 Central Park Block G, Central Park, Leopardstown, Dublin 18, Ireland Salesforce.com Sarl, Route de la Longeraie 9, Morges, 1110, Switzerland, attn: Director, EMEA Sales Operations, with a copy to attn.:\n"
          ]
        }
      ]
    },
    {
      "cell_type": "code",
      "source": [
        "find_different_sentences()"
      ],
      "metadata": {
        "colab": {
          "base_uri": "https://localhost:8080/"
        },
        "id": "0H9zl0_XvUr9",
        "outputId": "9e5d7df5-0e48-4c50-8dbb-f12b2d8f446c"
      },
      "execution_count": 60,
      "outputs": [
        {
          "output_type": "stream",
          "name": "stdout",
          "text": [
            "Enter the first file name and press enter: Salesforce_MSA_5\n",
            "Enter the second file name and press enter: Salesforce_MSA_6\n",
            "Below are the differences:\n",
            "\n",
            "Sentence in the Salesforce_MSA_5: This Agreement was last updated on August 4, 2022.\n",
            "Sentence in the Salesforce_MSA_6: This Agreement was last updated on May 16, 2022.\n",
            "Sentence in the Salesforce_MSA_5: Customer will defend SFDC and its Affiliates against any claim, demand, suit or proceeding made or brought against SFDC by a third party (a) alleging that the combination of a Non-SFDC Application or configuration provided by Customer and used with the Services, infringes or misappropriates such third party’s intellectual property rights, or (b) arising from (i) Customer’s use of the Services or Content in an unlawful manner or in violation of the Agreement, the Documentation, or Order Form, (ii) any Customer Data or Customer’s use of Customer Data with the Services, or (iii) a Non-SFDC Application provided by Customer(each a “Claim Against SFDC”), and will indemnify SFDC from any damages, attorney fees and costs finally awarded against SFDC as a result of, or for any amounts paid by SFDC under a settlement approved by Customer in writing of, a Claim Against SFDC, provided SFDC (A) promptly gives Customer written notice of the Claim Against SFDC, (B) gives Customer sole control of the defense and settlement of the Claim Against SFDC (except that Customer may not settle any Claim Against SFDC unless it unconditionally releases SFDC of all liability), and (C) gives Customer all reasonable assistance, at Customer’s expense.\n",
            "Sentence in the Salesforce_MSA_6: Customer will defend SFDC and its Affiliates against any claim, demand, suit or proceeding made or brought against SFDC by a third party (a) alleging that the combination of a Non-SFDC Application or configuration provided by Customer and used with the Services, infringes or misappropriates such third party’s intellectual property rights, or (b) arising from (i) Customer’s use of the Services or Content in an unlawful manner or in violation of the Agreement, the Documentation, or Order Form, (ii) any Customer Data or Customer’s use of Customer Data with the Services, or (iii) a Non-SFDC Application provided by Customer(each a “Claim Against SFDC”), and will indemnify SFDC from any damages, attorney fees and costs finally awarded against SFDC as a result of, or for any amounts paid by SFDC under a settlement approved by Customer in writing of, a Claim Against SFDC, provided SFDC (a) promptly gives Customer written notice of the Claim Against SFDC, (b) gives Customer sole control of the defense and settlement of the Claim Against SFDC (except that Customer may not settle any Claim Against SFDC unless it unconditionally releases SFDC of all liability), and (c) gives Customer all reasonable assistance, at Customer’s expense.\n",
            "Sentence in the Salesforce_MSA_5: Customer will not permit any User to access or use any Service or Content in a U.S.-embargoed country or region (currently the Crimea, Luhansk or Donetsk regions, Cuba, Iran, North Korea, Sudan or Syria) or as may be updated from time to time at https://www.salesforce.com/company/legal/compliance/or in violation of any U.S. export law or regulation.\n",
            "Sentence in the Salesforce_MSA_6: Customer will not permit any User to access or use any Service or Content in a U.S.-embargoed country or region (currently Cuba, Iran, North Korea, Syria or Crimea) or in violation of any U.S. export law or regulation.\n",
            "Sentence in the Salesforce_MSA_5: For Customers domiciled in North or South America If Customer is domiciled in: Any country other than Brazil or Canada The SFDC entity entering into this Agreement is: Salesforce, Inc. (f/k/a salesforce.com, inc.), a Delaware corporation Brazil Canada Salesforce Tecnologia Ltda. salesforce.com\n",
            "Sentence in the Salesforce_MSA_5: Canada Corporation, a Nova Scotia corporation Notices should be addressed to: Governing law is:\n",
            "Sentence in the Salesforce_MSA_5: Courts with Salesforce Tower, 415 Mission Street, 3rd Floor, San Francisco, California, 94105, U.S.A., attn: VP, Worldwide Sales Operations, with a copy to attn: General Counsel Av.\n",
            "Sentence in the Salesforce_MSA_6: If Customer is domiciled in: The United States of America, Mexico or a Country in Central or South America or the Caribbean The SFDC entity entering into this Agreement is: Salesforce, Inc. (f/k/a salesforce.com, inc.), a Delaware corporation Notices should be addressed to: Governing law is: Courts with Salesforce Tower, 415 Mission Street, 3rd Floor, San Francisco, California, 94105, U.S.A., attn: VP, Worldwide Sales Operations, with a copy to attn: General Counsel.\n",
            "Sentence in the Salesforce_MSA_6: California and controlling United States federal law exclusive jurisdiction are: San Francisco, California, U.S.A. Brazil Canada France Germany\n",
            "Sentence in the Salesforce_MSA_6: India Italy Spain Salesforce Tecnologia Ltda.\n",
            "Sentence in the Salesforce_MSA_6: salesforce.com\n",
            "Sentence in the Salesforce_MSA_6: Canada Corporation, a Nova Scotia corporation salesforce.com France, a French S.A.S company with a share capital of 37,000 €, registered with the Paris Trade Registry under number 483 993 226 RCS Paris, Registered office: 3 Avenue Octave Gréard, 75007 Paris, France salesforce.com Germany GmbH, a limited liability company, incorporated in Germany Salesforce.com India Private Limited, a company incorporated under the provisions of the Companies Act, 1956 of India Salesforce.com Italy S.r.l., an Italian limited liability company having its registered address at Piazza Filippo Meda 5, 20121 Milan (MI), VAT/Fiscal code n. 04959160963 Salesforce Systems Spain, S.L., a limited liability company incorporated in Spain United Kingdom Salesforce UK Limited, a limited liability company incorporated in England Brazil São Paulo, SP, Brazil Ontario and controlling Canadian federal law Toronto, Ontario, Canada France Paris, France Germany Munich, Germany India Bangalore, India Italy Milan, Italy Spain Madrid, Spain England London, England Av.\n",
            "Sentence in the Salesforce_MSA_5: Jornalista Roberto Marinho, 85, 14º Andar-Cidade Monções, CEP 04576-010 São Paulo-SP Salesforce Tower, 415 Mission Street, 3rd Floor, San Francisco, California, 94105, U.S.A., attn: VP, Worldwide Sales Operations, with a copy to attn:\n",
            "Sentence in the Salesforce_MSA_6: Jornalista Roberto Marinho, 85, 14º Andar-Cidade Monções, CEP 04576-010 São Paulo-SP Salesforce Tower, 415 Mission Street, 3rd Floor, San Francisco, California, 94105, U.S.A., attn: VP, Worldwide Sales Operations, with a copy to attn: General Counsel.\n",
            "Sentence in the Salesforce_MSA_6: Salesforce.com Sarl, Route de la Longeraie 9, Morges, 1110, Switzerland, attn: Director, EMEA Sales Operations, with a copy to attn.:\n",
            "Sentence in the Salesforce_MSA_6: Legal Department-Service Juridique, 3 Avenue Octave Gréard, 75007 Paris, France.\n",
            "Sentence in the Salesforce_MSA_6: Salesforce.com Sarl, Route de la Longeraie 9, Morges, 1110, Switzerland, attn: Director, EMEA Sales Operations, with a copy to attn.:\n",
            "Sentence in the Salesforce_MSA_5: General Counsel exclusive jurisdiction are: California and controlling United States federal law San Francisco, California, U.S.A. Brazil Ontario and controlling Canadian federal law São Paulo, SP, Brazil Toronto, Ontario, Canada For Customers domiciled in Europe, the Middle East, or Africa Notices should be addressed to: The SFDC entity entering into this Agreement is: SFDC Ireland Limited, a limited liability company incorporated in Ireland England Governing law is: Courts with exclusive jurisdiction are: London, England France Paris, France Salesforce.com Sarl, Route de la Longeraie 9, Morges, 1110, Switzerland, attn: Director, EMEA Sales Operations, with a copy to attn.:\n",
            "Sentence in the Salesforce_MSA_5: Legal Department-3rd and 4th Floor, 1 Central Park Block G, Central Park, Leopardstown, Dublin 18, Ireland Salesforce.com Sarl, Route de la Longeraie 9, Morges, 1110, Switzerland, attn: Director, EMEA Sales Operations, with a copy to attn.:\n",
            "Sentence in the Salesforce_MSA_5: Legal Department-Service Juridique, 3 Avenue Octave Gréard, 75007 Paris, France If Customer is domiciled in: Any country other than France, Germany, Italy, Spain, or the United Kingdom France Germany salesforce.com\n",
            "Sentence in the Salesforce_MSA_5: France, a French S.A.S company with a share capital of 37,000 €, registered with the Paris Trade Registry under number 483 993 226 RCS Paris, Registered office: 3 Avenue Octave Gréard, 75007 Paris, France salesforce.com Germany GmbH, a limited liability company, incorporated in Germany Germany Munich, Germany Salesforce.com Sarl, Route de la Longeraie 9, Morges, 1110, Switzerland, attn: Director, EMEA Sales Operations, with a copy to attn.:\n",
            "Sentence in the Salesforce_MSA_5: Legal Department-Erika-Mann-Strasse 31-37, 80636 München, Germany Italy Spain salesforce.com\n",
            "Sentence in the Salesforce_MSA_6: Legal Department-Erika-Mann-Strasse 31-37, 80636 München, Germany.\n",
            "Sentence in the Salesforce_MSA_6: Salesforce.com India Private Limited Torrey Pines, 3rd Floor, Embassy Golflinks Software Business Park Bangalore Karnataka 560071, India Salesforce.com Sarl, Route de la Longeraie 9, Morges, 1110, Switzerland, attn: Director, EMEA Sales Operations, with a copy to attn.:\n",
            "Sentence in the Salesforce_MSA_5: Italy S.r.l., an Italian limited liability company having its registered address at Piazza Filippo Meda 5, 20121 Milan (MI), VAT/Fiscal code n. 04959160963\n",
            "Sentence in the Salesforce_MSA_5: Salesforce Systems Spain, S.L., a limited liability company incorporated in Spain United Kingdom Salesforce UK Limited, a limited liability company incorporated in England Salesforce.com Sarl, Route de la Longeraie 9, Morges, 1110, Switzerland, attn: Director, EMEA Sales Operations, with a copy to attn.:\n",
            "Sentence in the Salesforce_MSA_5: Legal Department Italy Milan, Italy Spain Madrid, Spain England London, England Salesforce.com Sarl, Route de la Longeraie 9, Morges, 1110, Switzerland, attn: Director, EMEA Sales Operations, with a copy to attn.:\n",
            "Sentence in the Salesforce_MSA_6: Legal Department Salesforce.com Sarl, Route de la Longeraie 9, Morges, 1110, Switzerland, attn: Director, EMEA Sales Operations, with a copy to attn.:\n",
            "Sentence in the Salesforce_MSA_5: Legal Department-Paseo de la Castellana 79, Madrid, 28046, Spain Salesforce.com Sarl, Route de la Longeraie 9, Morges, 1110, Switzerland, attn: Director, EMEA Sales Operations, with a copy to attn: Legal Department, Salesforce UK Limited, Floor 26 Salesforce Tower, 110 Bishopsgate, London, EC2N 4AY, United Kingdom For Customers domiciled in Asia or the Pacific Region If Customer is domiciled in: Any country other than Australia, India, Japan, or New Zealand Australia or New Zealand The SFDC entity entering into this Agreement is: salesforce.com Singapore Pte Ltd, a Singapore private limited company SFDC Australia Pty Ltd India Japan salesforce.com\n",
            "Sentence in the Salesforce_MSA_5: India Private Limited, a company incorporated under the provisions of the Companies Act, 1956 of India Salesforce Japan Co., Ltd. (f/k/a Kabushiki Kaisha Salesforce.com), a Japan corporation Notices should be addressed to: Governing law is: Courts with exclusive jurisdiction are: Singapore Singapore New South Wales, Australia New South Wales, Australia India Bangalore, India Japan Tokyo, Japan 5 Temasek Boulevard#13-01, Suntec Tower 5, Singapore, 038985, attn: Director, APAC Sales Operations, with a copy to attn:\n",
            "Sentence in the Salesforce_MSA_6: Legal Department-Paseo de la Castellana 79, Madrid, 28046, Spain Salesforce.com Sarl, Route de la Longeraie 9, Morges, 1110, Switzerland, attn: Director, EMEA Sales Operations, with a copy to attn: Legal Department, Salesforce UK Limited, Floor 26\n",
            "Sentence in the Salesforce_MSA_6: Salesforce A Country in Europe, the Middle East or Africa, other than France, Germany, Italy, Spain, and the United Kingdom Japan A Country in Asia or the Pacific region, other than Japan, Australia or New Zealand Australia or New Zealand SFDC Ireland Limited, a limited liability company incorporated in Ireland Salesforce Japan Co., Ltd. (f/k/a Kabushiki Kaisha Salesforce.com), a Japan corporation Salesforce.com Singapore Pte Ltd, a Singapore private limited company SFDC Australia Pty Ltd Tower, 110 Bishopsgate, London, EC2N 4AY, United Kingdom.\n",
            "Sentence in the Salesforce_MSA_6: Salesforce.com Sarl, Route de la Longeraie 9, Morges, 1110, Switzerland, attn: Director, EMEA Sales Operations, with a copy to attn.:\n",
            "Sentence in the Salesforce_MSA_6: Legal Department-3rd and 4th Floor, 1 Central Park Block G, Central Park, Leopardstown, Dublin 18, Ireland JP Tower 12F, 2-7-2 Marunouchi, Chiyoda-ku, Tokyo 100-7012, Japan, attn: Senior Director, Japan Sales Operations, with a copy to attn: General Counsel.\n",
            "Sentence in the Salesforce_MSA_6: 5 Temasek Boulevard#13-01, Suntec Tower 5, Singapore, 038985, attn: Director, APAC Sales Operations, with a copy to attn: General Counsel.\n",
            "Sentence in the Salesforce_MSA_5: General Counsel 201 Sussex Street, Darling Park Tower 3, Level 12, Sydney NSW 2000, attn: Senior Director, Finance with a copy to attn:\n",
            "Sentence in the Salesforce_MSA_6: 201 Sussex Street, Darling Park Tower 3, Level 12, Sydney NSW 2000, attn: Senior Director, Finance with a copy to attn: General Counsel.\n",
            "Sentence in the Salesforce_MSA_6: England London, England Japan Tokyo, Japan Singapore Singapore New South Wales, Australia New South Wales, Australia 12.10 Manner of Giving Notice.\n",
            "Sentence in the Salesforce_MSA_5: General Counsel salesforce.com\n",
            "Sentence in the Salesforce_MSA_5: India Private Limited Torrey Pines, 3rd Floor, Embassy Golflinks Software Business Park Bangalore Karnataka 560071, India 1-1-3, Marunouchi, Chiyoda-ku, Tokyo 100-0005, Japan, attn: Senior Director, Japan Sales Operations, with a copy to attn: General Counsel 12.10 Manner of Giving Notice.\n",
            "Sentence in the Salesforce_MSA_5: Customer acknowledges that SFDC has adopted an Organization, Management and Control Model pursuant to Legislative Decree 231/2001 to prevent crimes provided for therein and commits to comply with the principles contained in the above Legislative Decree 231/2001 and in the SFDC link:\n",
            "Sentence in the Salesforce_MSA_6: Customer acknowledges that SFDC has adopted an Organization, Management and Control Model pursuant to Legislative Decree 231/2001 to prevent crimes provided for therein and commits to comply with the principles contained in the above Legislative Decree 231/2001 and in the SFDC Code link: https://www.salesforce.com/content/dam/web/en_us/www/documents/legal/compliance%20documents/salesforce-code-of-cond uct.pdf.\n",
            "Sentence in the Salesforce_MSA_5: Code https://www.salesforce.com/content/dam/web/en_us/www/documents/legal/compliance%20documents/salesforce-code-of-cond uct.pdf.\n"
          ]
        }
      ]
    },
    {
      "cell_type": "code",
      "source": [
        "find_different_sentences()"
      ],
      "metadata": {
        "colab": {
          "base_uri": "https://localhost:8080/"
        },
        "id": "h0dbrFMOhjI4",
        "outputId": "b7435025-dca0-4979-ae42-b39a56888903"
      },
      "execution_count": 61,
      "outputs": [
        {
          "output_type": "stream",
          "name": "stdout",
          "text": [
            "Enter the first file name and press enter: Salesforce_MSA_6\n",
            "Enter the second file name and press enter: Salesforce_MSA_7\n",
            "Below are the differences:\n",
            "\n",
            "Sentence in the Salesforce_MSA_6: This Agreement was last updated on May 16, 2022.\n",
            "Sentence in the Salesforce_MSA_7: This Agreement was last updated on April 4, 2022.\n",
            "Sentence in the Salesforce_MSA_6: California and controlling United States federal law exclusive jurisdiction are: San Francisco, California, U.S.A. Brazil Canada France Germany\n",
            "Sentence in the Salesforce_MSA_7: California and controlling United States federal law exclusive jurisdiction are: San Francisco, California, U.S.A. Brazil Canada France Germany Italy\n",
            "Sentence in the Salesforce_MSA_6: India Italy Spain Salesforce Tecnologia Ltda.\n",
            "Sentence in the Salesforce_MSA_7: Spain Salesforce Tecnologia Ltda.\n",
            "Sentence in the Salesforce_MSA_6: Canada Corporation, a Nova Scotia corporation salesforce.com France, a French S.A.S company with a share capital of 37,000 €, registered with the Paris Trade Registry under number 483 993 226 RCS Paris, Registered office: 3 Avenue Octave Gréard, 75007 Paris, France salesforce.com Germany GmbH, a limited liability company, incorporated in Germany Salesforce.com India Private Limited, a company incorporated under the provisions of the Companies Act, 1956 of India Salesforce.com Italy S.r.l., an Italian limited liability company having its registered address at Piazza Filippo Meda 5, 20121 Milan (MI), VAT/Fiscal code n. 04959160963 Salesforce Systems Spain, S.L., a limited liability company incorporated in Spain United Kingdom Salesforce UK Limited, a limited liability company incorporated in England Brazil São Paulo, SP, Brazil Ontario and controlling Canadian federal law Toronto, Ontario, Canada France Paris, France Germany Munich, Germany India Bangalore, India Italy Milan, Italy Spain Madrid, Spain England London, England Av.\n",
            "Sentence in the Salesforce_MSA_7: Canada Corporation, a Nova Scotia corporation salesforce.com France, a French S.A.S company with a share capital of 37,000 €, registered with the Paris Trade Registry under number 483 993 226 RCS Paris, Registered office: 3 Avenue Octave Gréard, 75007 Paris, France salesforce.com Germany GmbH, a limited liability company, incorporated in Germany Salesforce.com Italy S.r.l., an Italian limited liability company having its registered address at Piazza Filippo Meda 5, 20121 Milan (MI), VAT/Fiscal code n. 04959160963\n",
            "Sentence in the Salesforce_MSA_7: Salesforce Systems Spain, S.L., a limited liability company incorporated in Spain United Kingdom Salesforce UK Limited, a limited liability company incorporated in England A Country in Europe, the Middle East or Africa, other than France, Germany, SFDC Ireland Limited, a limited liability company incorporated in Ireland Av.\n",
            "Sentence in the Salesforce_MSA_6: Salesforce.com India Private Limited Torrey Pines, 3rd Floor, Embassy Golflinks Software Business Park Bangalore Karnataka 560071, India Salesforce.com Sarl, Route de la Longeraie 9, Morges, 1110, Switzerland, attn: Director, EMEA Sales Operations, with a copy to attn.:\n",
            "Sentence in the Salesforce_MSA_7: Salesforce.com Sarl, Route de la Longeraie 9, Morges, 1110, Switzerland, attn: Director, EMEA Sales Operations, with a copy to attn.:\n",
            "Sentence in the Salesforce_MSA_6: Legal Department-Paseo de la Castellana 79, Madrid, 28046, Spain Salesforce.com Sarl, Route de la Longeraie 9, Morges, 1110, Switzerland, attn: Director, EMEA Sales Operations, with a copy to attn: Legal Department, Salesforce UK Limited, Floor 26\n",
            "Sentence in the Salesforce_MSA_7: Legal Department-Paseo de la Castellana 79, Madrid, 28046, Spain Salesforce.com Sarl, Route de la Longeraie 9, Morges, 1110, Switzerland, attn: Director, EMEA Sales Operations, with a copy to attn: Legal Department, Salesforce UK Limited, Floor 26 Salesforce Tower, 110 Bishopsgate, London, EC2N 4AY, United Kingdom.\n",
            "Sentence in the Salesforce_MSA_6: Salesforce A Country in Europe, the Middle East or Africa, other than France, Germany, Italy, Spain, and the United Kingdom Japan A Country in Asia or the Pacific region, other than Japan, Australia or New Zealand Australia or New Zealand SFDC Ireland Limited, a limited liability company incorporated in Ireland Salesforce Japan Co., Ltd. (f/k/a Kabushiki Kaisha Salesforce.com), a Japan corporation Salesforce.com Singapore Pte Ltd, a Singapore private limited company SFDC Australia Pty Ltd Tower, 110 Bishopsgate, London, EC2N 4AY, United Kingdom.\n",
            "Sentence in the Salesforce_MSA_6: Legal Department-3rd and 4th Floor, 1 Central Park Block G, Central Park, Leopardstown, Dublin 18, Ireland JP Tower 12F, 2-7-2 Marunouchi, Chiyoda-ku, Tokyo 100-7012, Japan, attn: Senior Director, Japan Sales Operations, with a copy to attn: General Counsel.\n",
            "Sentence in the Salesforce_MSA_7: Legal Department-3rd and Brazil São Paulo, SP, Brazil Ontario and controlling Canadian federal law Toronto, Ontario, Canada France Paris, France Germany Munich, Germany Italy Milan, Italy Spain Madrid, Spain England London, England England London, England Italy, Spain, and the United Kingdom Japan A Country in Asia or the Pacific region, other than Japan, Australia or New Zealand Australia or New Zealand Salesforce Japan Co., Ltd. (f/k/a Kabushiki Kaisha Salesforce.com), a Japan corporation Salesforce.com Singapore Pte Ltd, a Singapore private limited company SFDC Australia Pty Ltd 4th Floor, 1 Central Park Block G, Central Park, Leopardstown, Dublin 18, Ireland JP Tower 12F, 2-7-2 Marunouchi, Chiyoda-ku, Tokyo 100-7012, Japan, attn: Senior Director, Japan Sales Operations, with a copy to attn: General Counsel.\n",
            "Sentence in the Salesforce_MSA_6: England London, England Japan Tokyo, Japan Singapore Singapore New South Wales, Australia New South Wales, Australia 12.10 Manner of Giving Notice.\n",
            "Sentence in the Salesforce_MSA_7: Japan Tokyo, Japan Singapore Singapore New South Wales, Australia New South Wales, Australia 12.10 Manner of Giving Notice.\n",
            "Sentence in the Salesforce_MSA_6: 12.16 Local Law Requirements: India.\n",
            "Sentence in the Salesforce_MSA_6: With respect to Customers domiciled in India, the following shall apply: 12.16.1 Venue and Arbitration A. Subject to the “Arbitration” Section below, the courts located in Bangalore, India shall have exclusive jurisdiction over any dispute relating to this Agreement, and each party hereby consents to the exclusive jurisdiction of such courts.\n",
            "Sentence in the Salesforce_MSA_6: Without prejudice to the generality of the foregoing, the courts at Bengaluru, India shall have exclusive jurisdiction on matters arising from, relating to, or in connection with an award made under the “Arbitration” Section below.\n",
            "Sentence in the Salesforce_MSA_6: B. Arbitration.\n",
            "Sentence in the Salesforce_MSA_6: In the event of any dispute, controversy or claim between the Parties hereto arising out of or relating to this Agreement, the Parties shall first seek to resolve the dispute in good faith through informal discussion.\n",
            "Sentence in the Salesforce_MSA_6: If such dispute, controversy, or claim cannot be resolved informally within a period of 10 (ten) business days from the date on which the dispute arose, the Parties agree that it shall be settled by binding arbitration to be held before a panel consisting of 3 (three arbitrators), where each Party shall appoint an arbitrator and such arbitrators shall appoint the third and presiding arbitrator.\n",
            "Sentence in the Salesforce_MSA_6: The arbitration shall be conducted in accordance with provisions of the (Indian) Arbitration and Conciliation Act, 1996, as amended from time to time (Arbitration Act).\n",
            "Sentence in the Salesforce_MSA_6: The seat and venue of the arbitration shall be Bangalore, India.\n",
            "Sentence in the Salesforce_MSA_6: The language of the arbitration shall be English.\n",
            "Sentence in the Salesforce_MSA_6: The Parties agree that any of them may seek interim measures under section 9 of the Arbitration Act, including injunctive relief in relation to the provisions of this Agreement or the Parties' performance of it from courts in Bengaluru, India, without prejudice to\n",
            "Sentence in the Salesforce_MSA_6: any other right\n",
            "Sentence in the Salesforce_MSA_6: the Parties may have under the Arbitration Act and other applicable laws.\n",
            "Sentence in the Salesforce_MSA_6: The arbitration panel's decision shall be final, conclusive and binding on the parties to the arbitration.\n",
            "Sentence in the Salesforce_MSA_6: The Parties shall each pay one-half of the costs and expenses of such arbitration, and each shall separately pay its respective counsel fees and expenses.\n",
            "Sentence in the Salesforce_MSA_6: The prevailing Party may, in the judgement of the arbitration panel, be entitled to recover its fees and expenses.\n",
            "Sentence in the Salesforce_MSA_6: All dispute resolution proceedings, all matters pertaining to such proceedings and all documents and submissions made pursuant thereto shall be strictly confidential and subject to the provisions of “Confidentiality” Section of this Agreement.\n",
            "Sentence in the Salesforce_MSA_6: 12.16.2 Section 5.2 “Invoicing and Payment” of this Agreement is replaced with the following section: 5.2 Invoicing and Payment 5.2.1 Invoicing and Payment.\n",
            "Sentence in the Salesforce_MSA_6: Unless otherwise stated in the Order Form, invoiced fees are due net 30 days from the invoice date.\n",
            "Sentence in the Salesforce_MSA_6: Customer is responsible for providing complete and accurate billing and contact information to SFDC and notifying SFDC of any changes to such information.\n",
            "Sentence in the Salesforce_MSA_6: The parties acknowledge that invoices are also to be submitted electronically by SFDC in accordance with the “Electronic Invoicing” section below through the Government of India’s e-invoicing system (“GST Portal”) and any delay due to such submission shall not affect the foregoing payment term.\n",
            "Sentence in the Salesforce_MSA_6: Customer shall be responsible for providing complete and accurate billing and contact information to SFDC and shall notify SFDC of any changes to such information.\n",
            "Sentence in the Salesforce_MSA_6: 5.2.2 Electronic Invoicing.\n",
            "Sentence in the Salesforce_MSA_6: Customer shall provide to SFDC at least the following information in writing to facilitate electronic invoicing:\n",
            "Sentence in the Salesforce_MSA_6: Customers full registered company/legal entity name, registered office address, goods and services tax identification number, address and/or relevant information required under applicable law.\n",
            "Sentence in the Salesforce_MSA_6: In any event, the parties shall cooperate diligently to enable such electronic invoicing process.\n",
            "Sentence in the Salesforce_MSA_6: Any error/delay in issuance of the electronic invoice due to: (a) the provision by Customer of incorrect or insufficient invoicing information preventing SFDC from successfully submitting the electronic invoice to the GST Portal; or (b) the GST Portal and/or any other government authority (or their designated agent/agency) not being able to duly and effectively process such invoice; or (c) any event which requires SFDC to issue an invoice again; shall not result in an extension of the payment term set out in the “Invoicing and Payment” section above, and such term shall still be calculated from the date of the original invoice.\n",
            "Sentence in the Salesforce_MSA_6: SFDC reserves the right to provide any invoice copy in electronic form via email in addition to the electronic invoicing described herein.\n"
          ]
        }
      ]
    },
    {
      "cell_type": "code",
      "source": [
        "find_different_sentences()"
      ],
      "metadata": {
        "colab": {
          "base_uri": "https://localhost:8080/"
        },
        "id": "456Ig0ChvSF2",
        "outputId": "49be0dc5-658d-407b-dc50-884a8bbcc69f"
      },
      "execution_count": 63,
      "outputs": [
        {
          "output_type": "stream",
          "name": "stdout",
          "text": [
            "Enter the first file name and press enter: Salesforce_MSA_9\n",
            "Enter the second file name and press enter: Salesforce_MSA_10\n",
            "Below are the differences:\n",
            "\n",
            "Sentence in the Salesforce_MSA_9: This Agreement was last updated on November 22, 2021.\n",
            "Sentence in the Salesforce_MSA_10: This Agreement was last updated on September 27, 2021.\n",
            "Sentence in the Salesforce_MSA_9: “Documentation” at https://trust.salesforce.com/en/trust-and-compliance-documentation/and its usage guides and policies, as updated from time to time, accessible via help.salesforce.com or login to the applicable Service.\n",
            "Sentence in the Salesforce_MSA_10: “Documentation” means the applicable Service’s Trust and Compliance documentation at https://trust.salesforce.com/en/trust-and-compliance-documentation/and its usage guides and policies, as updated from time to time, accessible via help.salesforce.com or login to the applicable Service.\n",
            "Sentence in the Salesforce_MSA_9: documentation Compliance applicable Service’s means Trust and the “Free Services” means Services that SFDC makes available to Customer free of charge.\n",
            "Sentence in the Salesforce_MSA_10: “Free Services” means Services that SFDC makes available to Customer free of charge.\n",
            "Sentence in the Salesforce_MSA_9: by than Customer 2.2 Protection of Customer Data.\n",
            "Sentence in the Salesforce_MSA_10: 2.2 Protection of Customer Data.\n",
            "Sentence in the Salesforce_MSA_9: Those safeguards will include, but will not be limited to, measures designed to prevent unauthorized access to or disclosure of Customer Data (other at https://www.salesforce.com/company/legal/agreements.jsp (“DPA”) posted as of the Effective Date are hereby incorporated by reference.\n",
            "Sentence in the Salesforce_MSA_10: Those safeguards will include, but will not be limited to, measures designed to prevent unauthorized access to or disclosure of Customer Data (other than by Customer or Users).\n",
            "Sentence in the Salesforce_MSA_10: The terms of the data processing addendum at https://www.salesforce.com/company/legal/agreements.jsp (“DPA”) posted as of the Effective Date are hereby incorporated by reference.\n",
            "Sentence in the Salesforce_MSA_9: After such 30-day period, SFDC will have no obligation to maintain processing addendum Users).\n",
            "Sentence in the Salesforce_MSA_9: terms data The the or of or provide any Customer Data, and as provided in the Documentation will thereafter delete or destroy all copies of Customer Data in its systems or otherwise in its possession or control, unless legally prohibited.\n",
            "Sentence in the Salesforce_MSA_10: After such 30-day period, SFDC will have no obligation to maintain or provide any Customer Data, and as provided in the Documentation will thereafter delete or destroy all copies of Customer Data in its systems or otherwise in its possession or control, unless legally prohibited.\n",
            "Sentence in the Salesforce_MSA_9: salesforce.com\n",
            "Sentence in the Salesforce_MSA_10: Av.\n",
            "Sentence in the Salesforce_MSA_10: Jornalista Roberto Marinho, 85, 14º Andar-Cidade Monções, CEP 04576-010 São Paulo-SP Brazil Brazil salesforce.com\n",
            "Sentence in the Salesforce_MSA_10: Salesforce Systems Spain, S.L.U., a limited liability company incorporated in Spain Salesforce Tower, 415 Mission Street, 3rd Floor, San Francisco, California, 94105, U.S.A., attn: VP, Worldwide Sales Operations, with a copy to attn: General Counsel.\n",
            "Sentence in the Salesforce_MSA_9: Salesforce Systems Spain, S.L.U., a limited liability company incorporated in Spain United Kingdom Salesforce UK Limited, a limited liability company incorporated in England A Country in Europe, the Middle East or Africa, other than France, Germany, SFDC Ireland Limited, a limited liability company incorporated in Ireland Av.\n",
            "Sentence in the Salesforce_MSA_9: Jornalista Roberto Marinho, 85, 14º Andar-Cidade Monções, CEP 04576-010 São Paulo-SP Salesforce Tower, 415 Mission Street, 3rd Floor, San Francisco, California, 94105, U.S.A., attn: VP, Worldwide Sales Operations, with a copy to attn: General Counsel.\n",
            "Sentence in the Salesforce_MSA_9: Salesforce.com Sarl, Route de la Longeraie 9, Morges, 1110, Switzerland, attn: Director, EMEA Sales Operations, with a copy to attn.:\n",
            "Sentence in the Salesforce_MSA_9: Legal Department-3rd and Brazil São Paulo, SP, Brazil Ontario and controlling Canadian federal law Toronto, Ontario, Canada France Paris, France Germany Munich, Germany Italy Milan, Italy Spain Madrid, Spain England London, England England London, England Italy, Spain, and the United Kingdom Japan Kabushiki Kaisha Salesforce.com, a Japan corporation A Country in Asia or the Pacific region, other than Japan, Australia or New Zealand Australia or New Zealand Salesforce.com Singapore Pte Ltd, a Singapore private limited company SFDC Australia Pty Ltd 4th Floor, 1 Central Park Block G, Central Park, Leopardstown, Dublin 18, Ireland JP Tower 12F, 2-7-2 Marunouchi, Chiyoda-ku, Tokyo 100-7012, Japan, attn: Senior Director, Japan Sales Operations, with a copy to attn: General Counsel.\n",
            "Sentence in the Salesforce_MSA_10: Salesforce.com Sarl, Route de la Longeraie 9, Morges, 1110, Switzerland, attn: Director, EMEA Ontario and controlling Canadian federal law Toronto, Ontario, Canada France Paris, France Germany Munich, Germany Italy Milan, Italy Spain Madrid, Spain England London, England England London, England United Kingdom Salesforce UK Limited, a limited liability company incorporated in England A Country in Europe, the Middle East or Africa, other than SFDC Ireland Limited, a limited liability company incorporated in Ireland France, Germany, Italy, Spain, and the United Kingdom Japan A Country in Asia or the Pacific region, other than Japan, Australia or New Zealand Australia or New Zealand Sales Operations, with a copy to attn.:\n",
            "Sentence in the Salesforce_MSA_10: Legal Department-3rd and 4th Floor, 1 Central Park Block G, Central Park, Leopardstown, Dublin 18, Ireland JP Tower 12F, 2-7-2 Marunouchi, Chiyoda-ku, Tokyo 100-7012, Japan, attn: Senior Director, Japan Sales Operations, with a copy to attn: General Counsel.\n",
            "Sentence in the Salesforce_MSA_9: 201 Sussex Street, Darling Park Tower 3, Level 12, Sydney NSW 2000, attn: Senior Director, Finance with a copy to attn: General Counsel.\n",
            "Sentence in the Salesforce_MSA_10: Kabushiki Kaisha Salesforce.com, a Japan corporation Salesforce.com Singapore Pte Ltd, a Singapore private limited company Japan Tokyo, Japan Singapore Singapore SFDC Australia Pty Ltd 201 Sussex Street, Darling Park Tower 3, Level 12, Sydney NSW 2000, attn: Senior Director, Finance with a copy to attn: General Counsel.\n",
            "Sentence in the Salesforce_MSA_9: Japan Tokyo, Japan Singapore Singapore New South Wales, Australia New South Wales, Australia 12.10 Manner of Giving Notice.\n",
            "Sentence in the Salesforce_MSA_10: New South Wales, Australia New South Wales, Australia 12.10 Manner of Giving Notice.\n",
            "Sentence in the Salesforce_MSA_9: Customer acknowledges that SFDC has adopted an Organization, Management and Control Model pursuant to Legislative Decree 231/2001 to prevent crimes provided for therein and commits to comply with the principles contained in the above Legislative Decree 231/2001 and in the SFDC Code link: https://www.salesforce.com/content/dam/web/en_us/www/documents/legal/compliance%20documents/salesforce-code-of-cond uct.pdf.\n",
            "Sentence in the Salesforce_MSA_10: Customer acknowledges that SFDC has adopted an Organization, Management and Control Model pursuant to Legislative Decree 231/2001 to prevent crimes provided for therein and commits to comply with the principles contained in the above Legislative Decree 231/2001 and in the SFDC Code of link: available https://www.salesforce.com/content/dam/web/en_us/www/documents/legal/compliance%20documents/salesforce-code-of-conduct.pdf.\n",
            "Sentence in the Salesforce_MSA_9: following available Conduct which the of at is 12.15 Local Law Requirements: Spain.\n",
            "Sentence in the Salesforce_MSA_10: following Conduct which the at is 12.15 Local Law Requirements: Spain.\n"
          ]
        }
      ]
    },
    {
      "cell_type": "code",
      "source": [
        "find_different_sentences()"
      ],
      "metadata": {
        "colab": {
          "base_uri": "https://localhost:8080/"
        },
        "id": "W1Q3tLEnvUJk",
        "outputId": "c2b08369-6e4c-449a-b808-9a0a08ac461c"
      },
      "execution_count": 64,
      "outputs": [
        {
          "output_type": "stream",
          "name": "stdout",
          "text": [
            "Enter the first file name and press enter: Salesforce_MSA_10\n",
            "Enter the second file name and press enter: Salesforce_MSA_11\n",
            "Below are the differences:\n",
            "\n",
            "Sentence in the Salesforce_MSA_10: This Agreement was last updated on September 27, 2021.\n",
            "Sentence in the Salesforce_MSA_11: This Agreement was last updated on April 23, 2021.\n",
            "Sentence in the Salesforce_MSA_10: “Content” means information obtained by SFDC from publicly available sources or its third-party content providers and made available to Customer through the Services, Beta Services or pursuant to an Order Form, as more fully described in the Documentation.\n",
            "Sentence in the Salesforce_MSA_11: “Content” means information obtained by SFDC from publicly available sources or its third party content providers and made available to Customer through the Services, Beta Services or pursuant to an Order Form, as more fully described in the Documentation.\n",
            "Sentence in the Salesforce_MSA_10: “Documentation” means the applicable Service’s Trust and Compliance documentation at https://trust.salesforce.com/en/trust-and-compliance-documentation/and its usage guides and policies, as updated from time to time, accessible via help.salesforce.com or login to the applicable Service.\n",
            "Sentence in the Salesforce_MSA_10: “Free Services” means Services that SFDC makes available to Customer free of charge.\n",
            "Sentence in the Salesforce_MSA_11: “Documentation” at https://trust.salesforce.com/en/trust-and-compliance-documentation/and its usage guides and policies, as updated from time to time, accessible via help.salesforce.com or login to the applicable Service.\n",
            "Sentence in the Salesforce_MSA_11: documentation Compliance applicable Service’s means Trust and the “Free Services” means Services that SFDC makes available to Customer free of charge.\n",
            "Sentence in the Salesforce_MSA_10: “Marketplace” means an online directory, catalog or marketplace of applications that interoperate with the Services, including, for example, the AppExchange at http://www.salesforce.com/appexchange, Mulesoft Anypoint Exchange at https://www.mulesoft.com/exchange, or the Heroku Elements Marketplace at https://elements.heroku.com/, and any successor websites.\n",
            "Sentence in the Salesforce_MSA_11: “Marketplace” means an online directory, catalog or marketplace of applications that interoperate with the Services, including, for example, the AppExchange at http://www.salesforce.com/appexchange, or the Heroku add-ons catalog at https://elements.heroku.com/, and any successor websites.\n",
            "Sentence in the Salesforce_MSA_10: “Non-SFDC Application” means Web-based, mobile, offline or other software functionality that interoperates with a Service, that is provided by Customer or a third party and/or listed on a Marketplace including as Salesforce Labs or under similar designation.\n",
            "Sentence in the Salesforce_MSA_11: “Non-SFDC Application” means a Web-based, mobile, offline or other software application functionality that interoperates with a Service, that is provided by Customer or a third party and/or listed on a Marketplace including as Salesforce Labs or under similar designation.\n",
            "Sentence in the Salesforce_MSA_10: SFDC will (a) make the Services and Content available to Customer pursuant to this Agreement, and the applicable Order Forms and Documentation, (b) provide applicable SFDC standard support for the Purchased Services to Customer at no additional charge, and/or upgraded support if purchased, (c) use commercially reasonable efforts to make the online Purchased Services available 24 hours a day, 7 days a week, except for: (i) planned downtime (of which SFDC shall give advance electronic notice), and (ii) any unavailability caused by circumstances beyond SFDC’s reasonable control, including, for example, an act of God, act of government, flood, fire, earthquake, civil unrest, act of terror, strike or other labor problem (other than one involving SFDC employees), Internet service provider failure or delay, Non-SFDC Application, or denial of service attack, and (d) provide the Services in accordance with laws and government regulations applicable to SFDC’s provision of its Services to its customers generally (i.e., without regard for Customer’s particular use of the Services), and subject to Customer’s and Users’ use of the Services in accordance with this Agreement, the Documentation and the applicable Order Form.\n",
            "Sentence in the Salesforce_MSA_11: SFDC will (a) make the Services and Content available to Customer pursuant to this Agreement, and the applicable Order Forms and Documentation, (b) provide applicable SFDC standard support for the Purchased Services to Customer at no additional charge, and/or upgraded support if purchased, (c) use commercially reasonable efforts to make the online Purchased Services available 24 hours a day, 7 days a week, except for: (i) planned downtime (of which SFDC shall give advance electronic notice), and (ii) any unavailability caused by circumstances beyond SFDC’s reasonable control, including, for example, an act of God, act of government, flood, fire, earthquake, civil unrest, act of terror, strike or other labor problem (other than one involving SFDC employees), Internet service provider failure or delay, Non-SFDC Application, or denial of service attack, and (d) provide the Services in accordance with laws and government regulations applicable to SFDC’s provision of its Services to its customers generally (i.e., without regard for Customer’s particular use of the Services), and subject to Customer’s use of the Services in accordance with this Agreement, the Documentation and the applicable Order Form. or by The than Users).\n",
            "Sentence in the Salesforce_MSA_10: 2.2 Protection of Customer Data.\n",
            "Sentence in the Salesforce_MSA_11: Customer 2.2 Protection of Customer Data.\n",
            "Sentence in the Salesforce_MSA_11: Those safeguards will include, but will not be limited to, measures designed to prevent unauthorized access to or disclosure of Customer Data at (other https://www.salesforce.com/company/legal/agreements.jsp (“DPA”) posted as of the Effective Date are hereby incorporated by reference.\n",
            "Sentence in the Salesforce_MSA_11: To the extent Personal Data from the European Economic Area (EEA), the United Kingdom and Switzerland are processed by SFDC, its Processor Binding Corporate Rules, the EU-US and/or Swiss-US Privacy Shield, and/or the Standard Contractual Clauses shall apply, as further set forth in the DPA.\n",
            "Sentence in the Salesforce_MSA_10: Those safeguards will include, but will not be limited to, measures designed to prevent unauthorized access to or disclosure of Customer Data (other than by Customer or Users).\n",
            "Sentence in the Salesforce_MSA_10: The terms of the data processing addendum at https://www.salesforce.com/company/legal/agreements.jsp (“DPA”) posted as of the Effective Date are hereby incorporated by reference.\n",
            "Sentence in the Salesforce_MSA_10: To the extent Personal Data from the European Economic Area (EEA), the United Kingdom and Switzerland are processed by SFDC, its Processor Binding Corporate Rules,, and/or the Standard Contractual Clauses shall apply, as further set forth in the DPA.\n",
            "Sentence in the Salesforce_MSA_10: 2.3 SFDC Personnel.\n",
            "Sentence in the Salesforce_MSA_11: processing addendum terms data the of 2.3 SFDC Personnel.\n",
            "Sentence in the Salesforce_MSA_10: Customer will not (a) make any Service or Content available to anyone other than Customer or Users, or use any Service or Content for the benefit of anyone other than Customer or its Affiliates, unless expressly stated otherwise in an Order Form or the Documentation, (b) sell, resell, license, sublicense, distribute, rent or lease any Service or Content, or include any Service or Content in a service bureau or outsourcing offering, (c) use a Service or Non-SFDC Application to store or transmit infringing, libelous, or otherwise unlawful or tortious material, or to store or transmit material in violation of third-party privacy rights, (d) use a Service or Non-SFDC Application to store or transmit Malicious Code, (e) interfere with or disrupt the integrity or performance of any Service or third-party data contained therein, (f) attempt to gain unauthorized access to any Service or Content or its related systems or networks, (g) permit direct or indirect access to or use of any Services or Content in a way that circumvents a contractual usage limit, or use any Services to access, copy or use any of SFDC intellectual property except as permitted under this Agreement, an Order Form, or the Documentation, (h) modify, copy, or create derivative works of a Service or any part, feature, function or user interface thereof, (i) copy Content except as permitted herein or in an Order Form or the Documentation, (j) frame or mirror any part of any Service or Content, other than framing on Customer's own intranets or otherwise for its own internal business purposes or as permitted in the Documentation, (k) except to the extent permitted by applicable law, disassemble, reverse engineer, or decompile a Service or Content or access it to (1) build a competitive product or service, (2) build a product or service using similar ideas, features, functions or graphics of the Service, (3) copy any ideas, features, functions or graphics of the Service, or (4) determine whether the Services are within the scope of any patent.\n",
            "Sentence in the Salesforce_MSA_11: Customer will not (a) make any Service or Content available to anyone other than Customer or Users, or use any Service or Content for the benefit of anyone other than Customer or its Affiliates, unless expressly stated otherwise in an Order Form or the Documentation, (b) sell, resell, license, sublicense, distribute, make available, rent or lease any Service or Content, or include any Service or Content in a service bureau or outsourcing offering, (c) use a Service or Non-SFDC Application to store or transmit infringing, libelous, or otherwise unlawful or tortious material, or to store or transmit material in violation of third-party privacy rights, (d) use a Service or Non-SFDC Application to store or transmit Malicious Code, (e) interfere with or disrupt the integrity or performance of any Service or third-party data contained therein, (f) attempt to gain unauthorized access to any Service or Content or its related systems or networks, (g) permit direct or indirect access to or use of any Services or Content in a way that circumvents a contractual usage limit, or use any Services to access or use any of SFDC intellectual property except as permitted under this Agreement, an Order Form, or the Documentation, (h) modify, copy, or create derivative works based on a Service or any part, feature, function or user interface thereof, (i) copy Content except as permitted herein or in an Order Form or the Documentation, (j) frame or mirror any part of any Service or Content, other than framing on Customer's own intranets or otherwise for its own internal business purposes or as permitted in the Documentation, (k) except to the extent permitted by applicable law, disassemble, reverse engineer, or decompile a Service or Content or access it to (1) build a competitive product or service, (2) build a product or service using similar ideas, features, functions or graphics of the Service, (3) copy any ideas, features, functions or graphics of the Service, or (4) determine whether the Services are within the scope of any patent.\n",
            "Sentence in the Salesforce_MSA_10: If Customer receives notice, including from SFDC, that Content or a Non-SFDC Application may no longer be used or must be removed, modified and/or disabled to avoid violating applicable law, third-party rights, or the Acceptable Use and External Facing Services Policy, Customer will promptly do so.\n",
            "Sentence in the Salesforce_MSA_10: If Customer does not take required action, including deleting any Content Customer may have downloaded from the Services, in accordance with the above, or if in SFDC’s judgment continued violation is likely to reoccur, SFDC may disable the applicable Content, Service and/or Non-SFDC Application.\n",
            "Sentence in the Salesforce_MSA_10: If requested by SFDC, Customer shall confirm deletion and discontinuance of use of such Content and/or Non-SFDC Application in writing and SFDC shall be authorized to provide a copy of such confirmation to any such third-party claimant or governmental authority, as applicable.\n",
            "Sentence in the Salesforce_MSA_10: In addition, if SFDC is required by any third-party rights holder to remove Content, or receives information that Content provided to Customer may violate applicable law or third-party rights, SFDC may discontinue Customer’s access to Content through the Services.\n",
            "Sentence in the Salesforce_MSA_11: If Customer receives notice that Content or a Non-SFDC Application must be removed, modified and/or disabled to avoid violating applicable law, third-party rights, or the Acceptable Use and External Facing Services Policy, Customer will promptly do so.\n",
            "Sentence in the Salesforce_MSA_11: If Customer does not take required action in accordance with the above, or if in SFDC’s judgment continued violation is likely to reoccur, SFDC may disable the applicable Content, Service and/or Non-SFDC Application.\n",
            "Sentence in the Salesforce_MSA_11: If requested by SFDC, Customer shall confirm such deletion and discontinuance of use in writing and SFDC shall be authorized to provide a copy of such confirmation to any such third party claimant or governmental authority, as applicable.\n",
            "Sentence in the Salesforce_MSA_11: In addition, if SFDC is required by any third party rights holder to remove Content, or receives information that Content provided to Customer may violate applicable law or third-party rights, SFDC may discontinue Customer’s access to Content through the Services.\n",
            "Sentence in the Salesforce_MSA_10: Customer grants to SFDC and its Affiliates a worldwide, perpetual, irrevocable, royalty-free license to use, distribute, disclose, and make and incorporate into its services any suggestion, enhancement request, recommendation, correction or other feedback provided by Customer or Users relating to the operation of SFDC’s or its Affiliates’ services.\n",
            "Sentence in the Salesforce_MSA_11: Customer grants to SFDC and its Affiliates a worldwide, perpetual, irrevocable, royalty-free license to use and incorporate into its services any suggestion, enhancement request, recommendation, correction or other feedback provided by Customer or Users relating to the operation of SFDC’s or its Affiliates’ services.\n",
            "Sentence in the Salesforce_MSA_10: However, Confidential Information does not include any information that (i) is or becomes generally known to the public without breach of any obligation owed to the Disclosing Party, (ii) was known to the Receiving Party prior to its disclosure by the Disclosing Party without breach of any obligation owed to the Disclosing Party, (iii) is received from a third party without knowledge of any breach of any obligation owed to the Disclosing Party, or (iv) was independently developed by the Receiving Party.\n",
            "Sentence in the Salesforce_MSA_11: However, Confidential Information does not include any information that (i) is or becomes generally known to the public without breach of any obligation owed to the Disclosing Party, (ii) was known to the Receiving Party prior to its disclosure by the Disclosing Party without breach of any obligation owed to the Disclosing Party, (iii) is received from a third party without breach of any obligation owed to the Disclosing Party, or (iv) was independently developed by the Receiving Party.\n",
            "Sentence in the Salesforce_MSA_10: Notwithstanding the foregoing, SFDC may disclose the terms of this Agreement and any applicable Order Form to a contractor or Non-SFDC Application Provider to the extent necessary to perform SFDC’s obligations under this Agreement, under terms of confidentiality materially as protective as set forth herein.\n",
            "Sentence in the Salesforce_MSA_11: Notwithstanding the foregoing, SFDC may disclose the terms of this Agreement and any applicable Order Form to a subcontractor or Non-SFDC Application Provider to the extent necessary to perform SFDC’s obligations under this Agreement, under terms of confidentiality materially as protective as set forth herein.\n",
            "Sentence in the Salesforce_MSA_11: CONTENT AND BETA SERVICES ARE PROVIDED “AS IS,” AND AS AVAILABLE EXCLUSIVE OF ANY WARRANTY WHATSOEVER.\n",
            "Sentence in the Salesforce_MSA_10: SERVICES PROVIDED FREE OF CHARGE, CONTENT AND BETA SERVICES ARE PROVIDED “AS IS,”\n",
            "Sentence in the Salesforce_MSA_10: AND AS AVAILABLE EXCLUSIVE OF ANY WARRANTY WHATSOEVER.\n",
            "Sentence in the Salesforce_MSA_10: The above defense and indemnification obligations do not apply if (I) the allegation does not state with specificity that the Services are the basis of the Claim Against Customer; (II) a Claim Against Customer arises from the use or combination of the Services or any part thereof with software, hardware, data, or processes not provided by SFDC, if the Services or use thereof would not infringe without such combination; (III) a Claim Against Customer arises from Services under an Order Form for which there is no charge; or (IV) a Claim against Customer arises from Content, a Non-SFDC Application or Customer’s breach of this Agreement, the Documentation or applicable Order Forms.\n",
            "Sentence in the Salesforce_MSA_11: The above defense and indemnification obligations do not apply if (1) the allegation does not state with specificity that the Services are the basis of the Claim Against Customer; (2) a Claim Against Customer arises from the use or combination of the Services or any part thereof with software, hardware, data, or processes not provided by SFDC, if the Services or use thereof would not infringe without such combination; (3) a Claim Against Customer arises from Services under an Order Form for which there is no charge; or (4) a Claim against Customer arises from Content, a Non-SFDC Application or Customer’s breach of this Agreement, the Documentation or applicable Order Forms.\n",
            "Sentence in the Salesforce_MSA_10: Customer will defend SFDC and its Affiliates against any claim, demand, suit or proceeding made or brought against SFDC by a third party (a) alleging that the combination of a Non-SFDC Application or configuration provided by Customer and used with the Services, infringes or misappropriates such third party’s intellectual property rights, or (b) arising from (i) Customer’s use of the Services or Content in an unlawful manner or in violation of the Agreement, the Documentation, or Order Form, (ii) any Customer Data or Customer’s use of Customer Data with the Services, or (iii) a Non-SFDC Application provided by Customer(each a “Claim Against SFDC”), and will indemnify SFDC from any damages, attorney fees and costs finally awarded against SFDC as a result of, or for any amounts paid by SFDC under a settlement approved by Customer in writing of, a Claim Against SFDC, provided SFDC (a) promptly gives Customer written notice of the Claim Against SFDC, (b) gives Customer sole control of the defense and settlement of the Claim Against SFDC (except that Customer may not settle any Claim Against SFDC unless it unconditionally releases SFDC of all liability), and (c) gives Customer all reasonable assistance, at Customer’s expense.\n",
            "Sentence in the Salesforce_MSA_11: Customer will defend SFDC and its Affiliates against any claim, demand, suit or proceeding made or brought against SFDC by a third party alleging (a) that any Customer Data or Customer’s use of Customer Data with the Services, (b) a Non-SFDC Application provided by Customer, or (c) the combination of a Non-SFDC Application provided by Customer and used with the Services, infringes or misappropriates such third party’s intellectual property rights, or arising from Customer’s use of the Services or Content in an unlawful manner or in violation of the Agreement, the Documentation, or Order Form (each a “Claim Against SFDC”), and will indemnify SFDC from any damages, attorney fees and costs finally awarded against SFDC as a result of, or for any amounts paid by SFDC under a settlement approved by Customer in writing of, a Claim Against SFDC, provided SFDC (a) promptly gives Customer written notice of the Claim Against SFDC, (b) gives Customer sole control of the defense and settlement of the Claim Against SFDC (except that Customer may not settle any Claim Against SFDC unless it unconditionally releases SFDC of all liability), and (c) gives Customer all reasonable assistance, at Customer’s expense.\n",
            "Sentence in the Salesforce_MSA_10: This “Mutual Indemnification” section states the indemnifying party’s sole liability to, and the indemnified party’s exclusive remedy against, the other party for any third-party claim described in this section.\n",
            "Sentence in the Salesforce_MSA_11: This “Mutual Indemnification” section states the indemnifying party’s sole liability to, and the indemnified party’s exclusive remedy against, the other party for any third party claim described in this section.\n",
            "Sentence in the Salesforce_MSA_10: Except as otherwise specified in an Order Form, subscriptions will automatically renew for additional one year terms, unless either party gives the other written notice (email acceptable) at least 30 days before the end of the relevant subscription term.\n",
            "Sentence in the Salesforce_MSA_11: Except as otherwise specified in an Order Form, subscriptions will automatically renew for additional periods equal to the expiring subscription term or one year (whichever is shorter), unless either party gives the other written notice (email acceptable) at least 30 days before the end of the relevant subscription term.\n",
            "Sentence in the Salesforce_MSA_10: SFDC and Customer each represents that it is not on any U.S. government denied-party list.\n",
            "Sentence in the Salesforce_MSA_11: SFDC and Customer each represents that it is not named on any U.S. government denied-party list.\n",
            "Sentence in the Salesforce_MSA_10: Customer will not permit any User to access or use any Service or Content in a U.S.-embargoed country or region (currently Cuba, Iran, North Korea, Syria or Crimea) or in violation of any U.S. export law or regulation.\n",
            "Sentence in the Salesforce_MSA_11: Customer will not permit any User to access or use any Service or Content in a U.S.-embargoed country or region (currently Cuba, Iran, North Korea, Sudan, Syria or Crimea) or in violation of any U.S. export law or regulation.\n",
            "Sentence in the Salesforce_MSA_10: The SFDC entity entering into this Agreement is: salesforce.com, inc., a Delaware corporation If Customer is domiciled in: The United States of America, Mexico or a Country in Central or South America or the Caribbean Notices should be addressed to: Governing law is: Courts with Salesforce Tower, 415 Mission Street, 3rd Floor, San Francisco, California, 94105, U.S.A., attn: VP, Worldwide Sales Operations, with a copy to attn: General Counsel.\n",
            "Sentence in the Salesforce_MSA_11: Notices should be addressed to: Governing law is: Courts with The SFDC entity entering into this Agreement is: salesforce.com, inc., a Delaware corporation If Customer is domiciled in: The United States of America, Mexico or a Country in Central or South America or the Caribbean Salesforce Tower, 415 Mission Street, 3rd Floor, San Francisco, California, 94105, U.S.A., attn: VP, Worldwide Sales Operations, with a copy to attn: General Counsel.\n",
            "Sentence in the Salesforce_MSA_10: California and controlling United States federal law exclusive jurisdiction are: San Francisco, California, U.S.A. Brazil Canada France Germany Italy\n",
            "Sentence in the Salesforce_MSA_11: California and controlling United States federal law exclusive jurisdiction are: San Francisco, California, U.S.A. São Paulo, SP, Brazil Salesforce Tecnologia Ltda.\n",
            "Sentence in the Salesforce_MSA_10: Spain Salesforce Tecnologia Ltda.\n",
            "Sentence in the Salesforce_MSA_10: Jornalista Roberto Marinho, 85, 14º Andar-Cidade Monções, CEP 04576-010 São Paulo-SP Brazil Brazil salesforce.com\n",
            "Sentence in the Salesforce_MSA_11: Jornalista Roberto Marinho, 85, 14º Andar-Cidade Monções, CEP 04576-010 São Paulo-SP Brazil Brazil Canada France Germany Italy Spain salesforce.com\n",
            "Sentence in the Salesforce_MSA_10: Legal Department Salesforce.com Sarl, Route de la Longeraie 9, Morges, 1110, Switzerland, attn: Director, EMEA Sales Operations, with a copy to attn.:\n",
            "Sentence in the Salesforce_MSA_11: Legal Department Ontario and controlling Canadian federal law Toronto, Ontario, Canada France Paris, France Germany Munich, Germany Italy Milan, Italy Salesforce.com Sarl, Route de la Longeraie 9, Morges, 1110, Switzerland, attn: Director, EMEA Sales Operations, with a copy to Spain Madrid, Spain United Kingdom Salesforce UK Limited (f/k/a salesforce.com EMEA Limited), a limited liability company incorporated in England SFDC Ireland Limited, a limited liability company incorporated in Ireland A Country in Europe, the Middle East or Africa, other than France, Germany, Italy, Spain, and the United Kingdom Japan Kabushiki Kaisha Salesforce.com, a Japan corporation Salesforce.com Singapore Pte Ltd, a Singapore private limited company A Country in Asia or the Pacific region, other than Japan, Australia or New Zealand Australia or New Zealand attn.:\n",
            "Sentence in the Salesforce_MSA_10: Legal Department-Paseo de la Castellana 79, Madrid, 28046, Spain Salesforce.com Sarl, Route de la Longeraie 9, Morges, 1110, Switzerland, attn: Director, EMEA Sales Operations, with a copy to attn: Legal Department, Salesforce UK Limited, Floor 26 Salesforce Tower, 110 Bishopsgate, London, EC2N 4AY, United Kingdom.\n",
            "Sentence in the Salesforce_MSA_11: Legal Department-Paseo de la Castellana 79, Madrid, 28046, Spain Salesforce.com Sarl, Route de la Longeraie 9, Morges, 1110, Switzerland, attn: Director, EMEA Sales Operations, with a copy to attn: Legal Department, Salesforce UK Limited (f/k/a salesforce.com EMEA Limited), Floor 26 Salesforce Tower, 110 Bishopsgate, London, EC2N 4AY, United Kingdom.\n",
            "Sentence in the Salesforce_MSA_10: Salesforce.com Sarl, Route de la Longeraie 9, Morges, 1110, Switzerland, attn: Director, EMEA Ontario and controlling Canadian federal law Toronto, Ontario, Canada France Paris, France Germany Munich, Germany Italy Milan, Italy Spain Madrid, Spain England London, England England London, England United Kingdom Salesforce UK Limited, a limited liability company incorporated in England A Country in Europe, the Middle East or Africa, other than SFDC Ireland Limited, a limited liability company incorporated in Ireland France, Germany, Italy, Spain, and the United Kingdom Japan A Country in Asia or the Pacific region, other than Japan, Australia or New Zealand Australia or New Zealand Sales Operations, with a copy to attn.:\n",
            "Sentence in the Salesforce_MSA_11: Salesforce.com Sarl, Route de la Longeraie 9, Morges, 1110, Switzerland, attn: Director, EMEA Sales Operations, with a copy to attn.:\n",
            "Sentence in the Salesforce_MSA_10: Kabushiki Kaisha Salesforce.com, a Japan corporation Salesforce.com Singapore Pte Ltd, a Singapore private limited company Japan Tokyo, Japan Singapore Singapore SFDC Australia Pty Ltd 201 Sussex Street, Darling Park Tower 3, Level 12, Sydney NSW 2000, attn: Senior Director, Finance with a copy to attn: General Counsel.\n",
            "Sentence in the Salesforce_MSA_11: England London, England England London, England Japan Tokyo, Japan Singapore Singapore SFDC Australia Pty Ltd 201 Sussex Street, Darling Park Tower 3, Level 12, Sydney NSW 2000, attn: Senior Director, Finance with a copy to attn: General Counsel.\n",
            "Sentence in the Salesforce_MSA_10: Customer acknowledges that SFDC has adopted an Organization, Management and Control Model pursuant to Legislative Decree 231/2001 to prevent crimes provided for therein and commits to comply with the principles contained in the above Legislative Decree 231/2001 and in the SFDC Code of link: available https://www.salesforce.com/content/dam/web/en_us/www/documents/legal/compliance%20documents/salesforce-code-of-conduct.pdf.\n",
            "Sentence in the Salesforce_MSA_11: Customer acknowledges that SFDC has adopted an Organization, Management and Control Model pursuant to Legislative Decree 231/2001 to prevent crimes provided for therein and commits to comply with the principles contained in the above Legislative Decree 231/2001 and in the SFDC Code link: https://www.salesforce.com/content/dam/web/en_us/www/documents/legal/compliance%20documents/salesforce-code-of-cond uct.pdf.\n",
            "Sentence in the Salesforce_MSA_10: following Conduct which the at is 12.15 Local Law Requirements: Spain.\n",
            "Sentence in the Salesforce_MSA_11: following available Conduct which the of at is 12.15 Local Law Requirements: Spain.\n"
          ]
        }
      ]
    },
    {
      "cell_type": "code",
      "source": [
        "find_different_sentences()"
      ],
      "metadata": {
        "colab": {
          "base_uri": "https://localhost:8080/"
        },
        "id": "n0-A-NLwklHF",
        "outputId": "c94fb7fe-532a-461e-b7dc-7350b8fad366"
      },
      "execution_count": 65,
      "outputs": [
        {
          "output_type": "stream",
          "name": "stdout",
          "text": [
            "Enter the first file name and press enter: Salesforce_MSA_11\n",
            "Enter the second file name and press enter: Salesforce_MSA_12\n",
            "Below are the differences:\n",
            "\n",
            "Sentence in the Salesforce_MSA_11: This Agreement was last updated on April 23, 2021.\n",
            "Sentence in the Salesforce_MSA_12: This Agreement was last updated on April 12, 2021.\n",
            "Sentence in the Salesforce_MSA_11: It is effective between Customer and SFDC as of the date of Customer’s accepting this Agreement (the “Effective Date”).\n",
            "Sentence in the Salesforce_MSA_12: It is effective between Customer and SFDC as of the date of Customer’s accepting this Agreement.\n"
          ]
        }
      ]
    },
    {
      "cell_type": "code",
      "source": [
        "find_different_sentences()"
      ],
      "metadata": {
        "id": "rah6yL1fhgii",
        "colab": {
          "base_uri": "https://localhost:8080/"
        },
        "outputId": "24564ca8-5ff5-4fb4-ec16-b60dae8e25c3"
      },
      "execution_count": 66,
      "outputs": [
        {
          "output_type": "stream",
          "name": "stdout",
          "text": [
            "Enter the first file name and press enter: Salesforce_MSA_20\n",
            "Enter the second file name and press enter: Salesforce_MSA_21\n",
            "Below are the differences:\n",
            "\n",
            "Sentence in the Salesforce_MSA_20: This Agreement was last updated on June 23rd, 2016.\n",
            "Sentence in the Salesforce_MSA_21: This Agreement was last updated on January 9, 2016.\n",
            "Sentence in the Salesforce_MSA_20: “Marketplace” means an online directory, catalog or marketplace of applications that interoperate with the Services, including, for example, the AppExchange located at http://www.salesforce.com/appexchange, ExactTarget’s HubExchange located at https://hubexchange.exacttarget.com/, or the Heroku add-ons catalog located at https://elements.heroku.com/, and any successor websites.\n",
            "Sentence in the Salesforce_MSA_21: “Marketplace” means an online directory, catalog or marketplace of applications that interoperate with the Services, including, for example, the AppExchange located at http://www.salesforce.com/appexchange, ExactTarget’s HubExchange located at https://hubexchange.exacttarget.com/, or the Heroku add-ons catalog located at https://addons.heroku.com/, and any successor websites.\n",
            "Sentence in the Salesforce_MSA_20: For the purposes of the Standard Contractual Clauses in Schedule 3 to the DPA, You are the data exporter, and Your acceptance of this Agreement shall be treated as Your signature of the Standard Contractual Clauses and appendices.\n",
            "Sentence in the Salesforce_MSA_21: For the purposes of the Standard Contractual Clauses in Attachment 1 to the DPA, You are the data exporter, and Your acceptance of this Agreement shall be treated as Your signature of the Standard Contractual Clauses and appendices.\n",
            "Sentence in the Salesforce_MSA_20: 4.4 Usage Restrictions.\n",
            "Sentence in the Salesforce_MSA_20: 4.5 External-Facing Services.\n",
            "Sentence in the Salesforce_MSA_21: 4.4 External-Facing Services.\n",
            "Sentence in the Salesforce_MSA_20: 4.6 Removal of Content and Non-Salesforce.com Applications.\n",
            "Sentence in the Salesforce_MSA_21: 4.5 Removal of Content and Non-Salesforce.com Applications.\n",
            "Sentence in the Salesforce_MSA_21: Term of Subscriptions.\n",
            "Sentence in the Salesforce_MSA_20: If You are domiciled in: You are contracting with: Notices should be addressed to: The governing law is: The courts having exclusive jurisdiction are: The United States of America, Mexico or a Country in Central or South America or the Caribbean salesforce.com, inc., a Delaware corporation Canada salesforce.com Canada Corporation, a Nova Scotia corporation The Landmark@One Market, Suite 300, San Francisco, California, 94105, U.S.A., attn: VP, Worldwide Sales Operations, with a copy to attn: General Counsel.\n",
            "Sentence in the Salesforce_MSA_21: If You are domiciled in: You are contracting with: Notices should be addressed to: The governing law is: The United States of America, Mexico or a Country in Central or South America or the Caribbean salesforce.com, inc., a Delaware corporation Canada salesforce.com Canada Corporation, a Nova Scotia corporation The Landmark@One Market, Suite 300, San Francisco, California, 94105, U.S.A., attn: VP, Worldwide Sales Operations, with a copy to attn: General Counsel.\n",
            "Sentence in the Salesforce_MSA_20: The Landmark@One Market, Suite 300, San Francisco, California, 94105, U.S.A., attn: VP, Worldwide Sales Operations, with a copy to attn: General Counsel.\n",
            "Sentence in the Salesforce_MSA_21: California and controlling United States federal law The Landmark@One Market, Suite 300, San Francisco, California, 94105, U.S.A., attn: VP, Worldwide Sales Operations, with a copy to attn: General Counsel.\n",
            "Sentence in the Salesforce_MSA_20: California and controlling United States federal law SanFrancisco, California, U.S.A. Toronto, Ontario, Canada Ontario and controlling Canadian federal law A Country in Europe, the Middle East or Africa EMEA salesforce.com Limited, a limited liability company incorporated in England Japan Kabushiki Kaisha Salesforce.com, a Japan corporation A Country in Asia or the Pacific region, other than Japan Salesforce.com Singapore Pte Ltd, a Singapore limited private company 9, Salesforce.com Sarl, Route de la Longeraie Morges, 1110, Switzerland, attn: Director, EMEA Sales Operations, with a copy to attn: General Counsel.\n",
            "Sentence in the Salesforce_MSA_20: JP Tower 12F, 2-7-2 Marunouchi, Chiyoda-ku, Tokyo 100-7012, Japan, attn: England Japan England Tokyo, Japan Senior Director, Japan Sales Operations, with a copy to attn: General Counsel.\n",
            "Sentence in the Salesforce_MSA_21: Ontario and controlling Canadian federal law A Country in Europe, the Middle East or Africa EMEA salesforce.com Limited, a limited liability company incorporated in England Japan Kabushiki Kaisha Salesforce.com, a Japan corporation England Salesforce.com Sarl, Route de la Longeraie Morges, 1110, Switzerland, attn: Director, EMEA Sales Operations, with a copy to attn: General Counsel.\n",
            "Sentence in the Salesforce_MSA_21: 9, The courts having exclusive jurisdiction are: San Francisco, California, U.S.A. Toronto, Ontario, Canada England Japan Tokyo, Japan JP Tower 12F, 2-7-2 Marunouchi, Chiyoda-ku, Tokyo 100-7012, Japan, attn: Senior Director, Japan Sales Operations, with a copy to attn: General Counsel.\n",
            "Sentence in the Salesforce_MSA_20: 9 Temasek Boulevard#40-01, Suntec Tower 2, Singapore, 038989, attn: Director, APAC Sales Operations, with a copy to attn: General Counsel.\n",
            "Sentence in the Salesforce_MSA_21: Singapore Singapore 9 Temasek Boulevard#40-01, Suntec Tower 2, Singapore, 038989, attn: Director, APAC Sales Operations, with a copy to attn: General Counsel.\n",
            "Sentence in the Salesforce_MSA_20: Singapore Singapore 13.2.\n",
            "Sentence in the Salesforce_MSA_21: A Country in Asia or the Pacific region, other than Japan Salesforce.com Singapore Pte Ltd, a Singapore private limited company 13.2.\n"
          ]
        }
      ]
    },
    {
      "cell_type": "code",
      "source": [
        "find_different_sentences()"
      ],
      "metadata": {
        "id": "n5pfnmgmhooY",
        "colab": {
          "base_uri": "https://localhost:8080/"
        },
        "outputId": "a3c5ae18-8d7b-4b60-804d-a584833bc5e4"
      },
      "execution_count": 69,
      "outputs": [
        {
          "output_type": "stream",
          "name": "stdout",
          "text": [
            "Enter the first file name and press enter: Salesforce_MSA_30\n",
            "Enter the second file name and press enter: Salesforce_MSA_31\n",
            "Below are the differences:\n",
            "\n",
            "Sentence in the Salesforce_MSA_30: Master Subscription Agreement THIS MASTER SUBSCRIPTION AGREEMENT (“AGREEMENT”) GOVERNS YOUR FREE TRIAL OF THE SERVICES.\n",
            "Sentence in the Salesforce_MSA_31: http://www.salesforce.com/company/msa.jsp Master Subscription Agreement THIS MASTER SUBSCRIPTION AGREEMENT (“AGREEMENT”) GOVERNS YOUR 30-DAY FREE TRIAL OF THE SERVICES.\n",
            "Sentence in the Salesforce_MSA_30: This Agreement was last updated on December 1, 2010.\n",
            "Sentence in the Salesforce_MSA_31: This Agreement was last updated on January 31, 2009.\n",
            "Sentence in the Salesforce_MSA_31: Definitions 2. 30-Day Free Trial 3.\n",
            "Sentence in the Salesforce_MSA_30: Definitions 2.\n",
            "Sentence in the Salesforce_MSA_30: Free Trial 3.\n",
            "Sentence in the Salesforce_MSA_30: \"Purchased Services\" means Services that You or Your Affiliates purchase under an Order Form, as distinguished from those provided pursuant to a free trial.\n",
            "Sentence in the Salesforce_MSA_31: \"Purchased Services\" means Services that You or Your Affiliates purchase under an Order Form, as distinguished from those provided pursuant to a 30-day free trial.\n",
            "Sentence in the Salesforce_MSA_30: \"Services\" means the online, Web-based applications and platform provided by Us via http://www.salesforce.com and/or other designated websites as described in the User Guide, that are ordered by You as part of a free trial or under an Order Form, including associated offline components but excluding Third Party Applications.\n",
            "Sentence in the Salesforce_MSA_31: \"Services\" means the online, Web-based applications and platform provided by Us via http://www.salesforce.com and/or other designated websites as described in the User Guide, that are ordered by You as part of a 30-day free trial or under an Order Form, including associated offline components but excluding Third Party Applications.\n",
            "Sentence in the Salesforce_MSA_30: You acknowledge that You have had the opportunity to review the User Guide during the free trial described in Section 2 (30-Day Free Trial) below.\n",
            "Sentence in the Salesforce_MSA_31: You acknowledge that You have had the opportunity to review the User Guide during the 30-day free trial described in Section 2 (30-Day Free Trial) below.\n",
            "Sentence in the Salesforce_MSA_30: 2. FREE TRIAL\n",
            "Sentence in the Salesforce_MSA_31: 2. 30-DAY FREE TRIAL\n",
            "Sentence in the Salesforce_MSA_30: We will make one or more Services available to You on a trial basis free of charge until the earlier of (a) the end of the free trial period for which you registered or are registering to use the applicable Service or (b) the start date of any Purchased Services ordered by You.\n",
            "Sentence in the Salesforce_MSA_31: We will make one or more Services available to You on a trial basis free of charge until the earlier of (a) the thirtieth day after Your acceptance of this Agreement or (b) the start date of any Purchased Services ordered by You.\n",
            "Sentence in the Salesforce_MSA_30: ANY DATA YOU ENTER INTO THE SERVICES, AND ANY CUSTOMIZATIONS MADE TO THE SERVICES BY OR FOR YOU, DURING YOUR FREE TRIAL WILL BE PERMANENTLY LOST UNLESS YOU PURCHASE A SUBSCRIPTION TO THE SAME SERVICES AS THOSE COVERED BY THE TRIAL, PURCHASE UPGRADED SERVICES, OR EXPORT SUCH DATA, BEFORE THE END OF THE TRIAL PERIOD.\n",
            "Sentence in the Salesforce_MSA_31: ANY DATA YOU ENTER INTO THE SERVICES, AND ANY CUSTOMIZATIONS MADE TO THE SERVICES BY OR FOR YOU, DURING YOUR 30-DAY FREE TRIAL WILL BE PERMANENTLY LOST UNLESS YOU PURCHASE A SUBSCRIPTION TO THE SAME SERVICES AS THOSE COVERED BY THE TRIAL, PURCHASE UPGRADED SERVICES, OR EXPORT SUCH DATA, BEFORE THE END OF THE 30-DAY TRIAL PERIOD.\n",
            "Sentence in the Salesforce_MSA_30: YOU CANNOT TRANSFER DATA ENTERED OR CUSTOMIZATIONS MADE DURING THE FREE TRIAL TO A SERVICE THAT WOULD BE A DOWNGRADE FROM THAT COVERED BY THE TRIAL (E.G., FROM ENTERPRISE EDITION TO PROFESSIONAL EDITION OR FROM PROFESSIONAL EDITION TO GROUP EDITION); THEREFORE, IF YOU PURCHASE A SERVICE THAT WOULD BE A DOWNGRADE FROM THAT COVERED BY THE TRIAL, YOU MUST EXPORT YOUR DATA BEFORE THE END OF THE TRIAL PERIOD OR YOUR DATA WILL BE PERMANENTLY LOST.\n",
            "Sentence in the Salesforce_MSA_31: YOU CANNOT TRANSFER DATA ENTERED OR CUSTOMIZATIONS MADE DURING THE 30-DAY FREE TRIAL TO A SERVICE THAT WOULD BE A DOWNGRADE FROM THAT COVERED BY THE TRIAL (E.G., FROM ENTERPRISE EDITION TO PROFESSIONAL EDITION OR FROM PROFESSIONAL EDITION TO GROUP EDITION); THEREFORE, IF YOU PURCHASE A SERVICE THAT WOULD BE A DOWNGRADE FROM THAT COVERED BY THE TRIAL, YOU MUST EXPORT YOUR DATA BEFORE THE END OF THE 30-DAY TRIAL PERIOD OR YOUR DATA WILL BE PERMANENTLY LOST.\n",
            "Sentence in the Salesforce_MSA_30: NOTWITHSTANDING SECTION 9 (WARRANTIES AND DISCLAIMERS), DURING THE FREE TRIAL THE SERVICES ARE PROVIDED “AS-IS” WITHOUT ANY WARRANTY.\n",
            "Sentence in the Salesforce_MSA_31: NOTWITHSTANDING SECTION 9 (WARRANTIES AND DISCLAIMERS), DURING THE 30-DAY FREE TRIAL THE SERVICES ARE PROVIDED “AS-IS” WITHOUT ANY WARRANTY.\n",
            "Sentence in the Salesforce_MSA_30: If You elect to use the Services for a free trial period and do not purchase a subscription before the end of that period, this Agreement will terminate at the end of the free trial period.\n",
            "Sentence in the Salesforce_MSA_31: If You elect to use the Services for a 30-day free trial period and do not purchase a subscription before the end of that period, this Agreement will terminate at the end of the 30-day free trial period.\n",
            "Sentence in the Salesforce_MSA_31: If You are domiciled in: You are contracting with: A Country in North, South or Central America or the Caribbean Salesforce.com, inc., The Landmark@One Market, Suite 300, San Francisco, California, 94105, U.S.A. A Country in Europe, the Middle East or Africa salesforce.com\n",
            "Sentence in the Salesforce_MSA_31: Sàrl, Rue St-Louis 2, Morges, 1110, Switzerland The governing law is: The courts having exclusive jurisdiction are: California and controlling United States federal law San Francisco, California, U.S.A. Switzerland Switzerland Notices should be addressed to: VP, Worldwide Sales Operations Fax: +1-415-901-7040 Director, EMEA Sales Operations Fax +41-21-6953701 Japan Salesforce.com Kabushiki Kaisha, Ebisu Business Tower 18F 1-19-19 Ebisu, Shibuya-ku, Tokyo, 150-0013, Japan Director, Japan Sales Operations Fax +81-3-5793-8302 A Country in Asia or the Pacific region, other than Japan Salesforce.com Singapore Pte Ltd, 9 Temasek Boulevard#40-01, Suntec Tower 2, Singapore, 038989 Director, APAC Sales Operations Fax +65 6302 5777 Japan Tokyo, Japan Singapore Singapore 13.2.\n",
            "Sentence in the Salesforce_MSA_30: If You are domiciled in: You are contracting with: A Country in North, South or Central America or the Caribbean A Country in Europe, the Middle East or Africa Salesforce.com, inc., The Landmark@One Market, Suite 300, San Francisco, California, 94105, U.S.A. salesforce.com\n",
            "Sentence in the Salesforce_MSA_30: Sàrl, Route de la Longeraie 9, Morges, 1110, Switzerland Japan Salesforce.com Kabushiki Kaisha, Japan A Country in Asia or the Pacific region, other than Japan Salesforce.com Singapore Pte Ltd, 9 Temasek Boulevard#40-01, Suntec Tower 2, Singapore, 038989 Notices should be addressed to: VP, Worldwide Sales Operations Fax: +1-415-901-7040 Director, EMEA Sales Operations Fax +41-21-6953701 Director, Japan Sales Operations Fax +81-3-5793-8302 Director, APAC Sales Operations Fax +65 6302\n",
            "Sentence in the Salesforce_MSA_30: 5777\n",
            "Sentence in the Salesforce_MSA_30: The governing law is: The courts having exclusive jurisdiction are: California and controlling United States federal law San Francisco, California, U.S.A. Switzerland Switzerland Japan Tokyo, Japan Singapore Singapore 13.2.\n"
          ]
        }
      ]
    },
    {
      "cell_type": "code",
      "source": [
        "find_different_sentences()"
      ],
      "metadata": {
        "colab": {
          "base_uri": "https://localhost:8080/"
        },
        "id": "MZAWT6Y7k3WY",
        "outputId": "39238d07-b5b8-4cba-c9c8-127072d26d4b"
      },
      "execution_count": 72,
      "outputs": [
        {
          "output_type": "stream",
          "name": "stdout",
          "text": [
            "Enter the first file name and press enter: Salesforce_MSA_40\n",
            "Enter the second file name and press enter: Salesforce_MSA_41\n",
            "Below are the differences:\n",
            "\n",
            "Sentence in the Salesforce_MSA_40: Master Subscription Agreement BY CLICKING THE \"I ACCEPT\" BUTTON DISPLAYED AS PART OF THE ORDERING PROCESS, YOU AGREE TO THE FOLLOWING TERMS AND CONDITIONS (THE \"AGREEMENT\") GOVERNING YOUR USE OF SALESFORCE.COM'S ONLINE SERVICE, INCLUDING OFFLINE COMPONENTS (COLLECTIVELY, THE \"SERVICE\").\n",
            "Sentence in the Salesforce_MSA_41: Master Subscription Agreement Master Subscription Agreement BY CLICKING THE \"I ACCEPT\" BUTTON DISPLAYED AS PART OF THE ORDERING PROCESS, YOU AGREE TO THE FOLLOWING TERMS AND CONDITIONS (THE \"AGREEMENT\") GOVERNING YOUR USE OF SALESFORCE.COM'S ONLINE SERVICE (THE \"SERVICE\").\n",
            "Sentence in the Salesforce_MSA_40: Intellectual Property Ownership Salesforce.com alone (and its licensors, where applicable) shall own all right, title and interest, including all related Intellectual Property Rights, in and to the Salesforce.com Technology, the Content and the Service and any suggestions, ideas, enhancement requests, feedback, recommendations or other information provided by you or any other party relating to the Service.\n",
            "Sentence in the Salesforce_MSA_41: Intellectual Property Ownership Salesforce.com alone (and its licensors, where applicable) shall own all right, title and interest, including all related Intellectual Property Rights, in and to the salesforce.com Technology, the Content and the Service and any suggestions, ideas, enhancement requests, feedback, recommendations or other information provided by you or any other party relating to the Service.\n",
            "Sentence in the Salesforce_MSA_40: Delinquent invoices (accounts in arrears) are subject to interest of 1.0% per month on any outstanding balance, or the maximum permitted by law, whichever is less, plus all expenses of collection.\n",
            "Sentence in the Salesforce_MSA_41: Delinquent invoices (accounts in arrears) are subject to interest of 1% per month on any outstanding balance, or the maximum permitted by law, whichever is less, plus all expenses of collection.\n",
            "Sentence in the Salesforce_MSA_40: The user of this site (\"User\") acknowledges and agrees that the site shall not be used, and none of the underlying information, software, or technology may be transferred or otherwise exported or re-exported to countries as to which the United States, Switzerland and/or the European Union maintains an embargo (collectively, \"Embargoed Countries\"), or to or by a national or resident thereof, or any person or entity on the U.S. Department of Treasury's List of Specially Designated Nationals or the U.S. Department of Commerce's Table of Denial Orders (collectively, \"Designated Nationals\").\n",
            "Sentence in the Salesforce_MSA_41: The user of this site (\"User\") acknowledges and agrees that the site shall not be used, and none of the underlying information, software, or technology may be transferred or otherwise exported or re-exported to countries as to which the United States, Switzerland and/or the European Union maintain an embargo (collectively, \"Embargoed Countries\"), or to or by a national or resident thereof, or any person or entity on the U.S. Department of Treasury's List of Specially Designated Nationals or the U.S. Department of Commerce's Table of Denial Orders (collectively, \"Designated Nationals\").\n",
            "Sentence in the Salesforce_MSA_40: De la Dent d'Oche, CH1024 Ecublens, Switzerland, in either case, addressed to the attention of: Chief Financial Officer.\n",
            "Sentence in the Salesforce_MSA_41: De la Dent d’Oche, CH1024 Ecublens, Switzerland, in either case, addressed to the attention of: Chief Financial Officer.\n",
            "Sentence in the Salesforce_MSA_40: Sàrl, a limited liability company, having its registered office at Ch. de la Dent d'Oche, CH1024 Ecublens, Switzerland; \"Salesforce.com Technology\" means all of salesforce.com's proprietary technology (including software, hardware, products, processes, algorithms, user interfaces, know-how, techniques, designs and other tangible or intangible technical material or information) made available to you by salesforce.com in providing the Service; \"Service(s)\" means the specific edition of salesforce.com's online customer relationship management, billing, data analysis, or other corporate ERP services identified during the ordering process, developed, operated, and maintained by salesforce.com, accessible via http://www.salesforce.com or another designated web site or IP address, or ancillary online or offline products and services provided to you by salesforce.com, to which you are being granted access under this Agreement, including the Saleforce.com Technology and the Content; \"User(s)\" means your employees, representatives, consultants, contractors or agents who are authorized to use the Service and have been supplied user identifications and passwords by you (or by salesforce.com at your request).\n",
            "Sentence in the Salesforce_MSA_41: Sàrl, a limited liability company, having its registered office at Ch. de la Dent d’Oche, CH1024 Ecublens, Switzerland; \"Salesforce.com Technology\" means all of salesforce.com's proprietary technology (including software, hardware, products, processes, algorithms, user interfaces, know-how, techniques, designs and other tangible or intangible technical material or information) made available to you by salesforce.com in providing the Service; \"Service(s)\" means the specific edition of salesforce.com's online customer relationship management, billing, data analysis, or other corporate ERP services identified during the ordering process, developed, operated, and maintained by salesforce.com, accessible via http://www.salesforce.com or another designated web site or IP address, or ancillary services rendered to you by salesforce.com, to which you are being granted access under this Agreement, including the Saleforce.com Technology and the Content; \"User(s)\" means your employees, representatives, consultants, contractors or agents who are authorized to use the Service and have been supplied user identifications and passwords by you (or by salesforce.com at your request).\n",
            "Sentence in the Salesforce_MSA_41: © Copyright 2000-2005 salesforce.com, inc. • All rights reserved •\n",
            "Sentence in the Salesforce_MSA_41: Various trademarks held by their respective owners.\n"
          ]
        }
      ]
    },
    {
      "cell_type": "code",
      "source": [
        "find_different_sentences()"
      ],
      "metadata": {
        "colab": {
          "base_uri": "https://localhost:8080/"
        },
        "id": "R-z-aTkZk34u",
        "outputId": "1163c0b2-9e95-48af-8302-886d269691f6"
      },
      "execution_count": 73,
      "outputs": [
        {
          "output_type": "stream",
          "name": "stdout",
          "text": [
            "Enter the first file name and press enter: Salesforce_MSA_50\n",
            "Enter the second file name and press enter: Salesforce_MSA_51\n",
            "Below are the differences:\n",
            "\n",
            "Sentence in the Salesforce_MSA_50: ONLINE SERVICE AGREEMENT 30-Apr-02 IMPORTANT.\n",
            "Sentence in the Salesforce_MSA_51: ONLINE SERVICE AGREEMENT 10-Apr-02 IMPORTANT.\n",
            "Sentence in the Salesforce_MSA_50: Welcome Customer’s registration for, or use of, the Service shall be taken to be Customer’s acceptance of, and agreement to, the terms of this Agreement including terms contained in any materials available on the salesforce.com website incorporated by reference herein, including but not limited to the Privacy and Security Statements.\n",
            "Sentence in the Salesforce_MSA_51: Welcome As part of the Service, salesforce.com will provide Customer with use of the Service, including a browser interface and data encryption, transmission, access and storage.\n",
            "Sentence in the Salesforce_MSA_51: Customer’s registration for, or use of, the Service shall be deemed to be Customer’s agreement to abide by this Agreement including any materials available on the salesforce.com website incorporated by reference herein, including but not limited to the Use Guidelines, Privacy, and Security Statements.\n",
            "Sentence in the Salesforce_MSA_50: User Accounts A User account is required to access the Service and may be accessed and used only by Users.\n",
            "Sentence in the Salesforce_MSA_50: To open a User account, Customer must complete the registration process by providing salesforce.com with current, complete and accurate information as prompted by the registration form.\n",
            "Sentence in the Salesforce_MSA_50: In registering for the Service, Customer must submit accurate, current and complete information about Customer and promptly update such information.\n",
            "Sentence in the Salesforce_MSA_50: Should salesforce.com suspect that such information is untrue, inaccurate, not current or incomplete, salesforce.com has the right to suspend or terminate Customer’s use of the Service.\n",
            "Sentence in the Salesforce_MSA_50: Users must choose a personal, non-transferable password.\n",
            "Sentence in the Salesforce_MSA_50: User accounts cannot be shared or used by more than one individual.\n",
            "Sentence in the Salesforce_MSA_50: For the purposes of this Agreement, one User account equals a single license.\n",
            "Sentence in the Salesforce_MSA_50: A User account can be transferred to a new user only if a previous user becomes inactive and is unable to access the Service.\n",
            "Sentence in the Salesforce_MSA_50: Salesforce.com or its designee shall have the right to periodically (no more than twice per year) audit the number of users, user names and licenses to ensure compliance with this Agreement.\n",
            "Sentence in the Salesforce_MSA_50: Charges and Payment of Fees Customer will pay all fees and charges to its account in accordance with the fees, charges, and billing terms in effect at the time a fee or charge is due and payable.\n",
            "Sentence in the Salesforce_MSA_51: Charges and Payment of Fees Customer will pay all fees or charges to its account in accordance with the fees, charges, and billing terms in effect at the time a fee or charge is due and payable.\n",
            "Sentence in the Salesforce_MSA_50: The initial charges will be equal to the current number of total User licenses requested multiplied by the User license fee currently in effect.\n",
            "Sentence in the Salesforce_MSA_51: The initial charges will be equal to the current number of total User licenses requested times the User license fee currently in effect.\n",
            "Sentence in the Salesforce_MSA_50: Customer must provide salesforce.com with valid credit card or approved purchase order information as a condition to signing up for the Service, or if requesed by Salesforce.com, acceptable credit information.\n",
            "Sentence in the Salesforce_MSA_51: Customer must provide salesforce.com with valid credit card or approved purchase order information as a condition to signing up for the Service.\n",
            "Sentence in the Salesforce_MSA_50: Added licenses will be subject to the following: (i) the term of the added licenses will be coterminous with the term of the preexisting licenses (either their Initial Term or renewal term) (ii) the license fee for the added licenses will be the then current, generally applicable license fee; and (iii) licenses added in the middle of a billing period will be charged for in that billing period, on a pro rata basis, as well as in the subsequent billing period.\n",
            "Sentence in the Salesforce_MSA_50: Variation of Fees and Charges Salesforce.com reserves the right to change the fees, the terms of this Agreement, or applicable charges and usage policies and to introduce new charges at any time, upon at least 30 days prior notice to Customer, which notice may be provided by e-mail.\n",
            "Sentence in the Salesforce_MSA_50: This provision will cease to apply when lesser User license terms are converted to annual User licenses.\n",
            "Sentence in the Salesforce_MSA_51: Added licenses will be subject to the following: (i) added licenses will be coterminous with the preexisting License Term (either Initial Term or renewal term) (ii) the license fee for the added licenses will be the then current, generally applicable license fee; and (iii) licenses added in the middle of a billing period will be charged for that billing period, on a pro rata basis, as well as the subsequent billing period.\n",
            "Sentence in the Salesforce_MSA_51: Salesforce.com reserves the right to change the fees, applicable charges and usage policies and to introduce new charges at any time, upon at least 30 days prior notice to Customer, which notice may be provided by e-mail.\n",
            "Sentence in the Salesforce_MSA_51: Excess Data Storage Fees.\n",
            "Sentence in the Salesforce_MSA_50: Excess Data Storage Fees The maximum disk storage space provided to Customer for storage of Customer Data at no additional charge is a cumulative of 10 MB per User license.\n",
            "Sentence in the Salesforce_MSA_51: The maximum disk storage space provided to Customer at no additional charge is a cumulative of 10 MB per User license.\n",
            "Sentence in the Salesforce_MSA_50: Salesforce.com reserves the right to establish or modify its general practices and limits concerning storage of Customer Data.\n",
            "Sentence in the Salesforce_MSA_51: Salesforce.com reserves the right to establish or modify its general practices and limits concerning storage of Your Data.\n",
            "Sentence in the Salesforce_MSA_50: The renewal charge will be equal to the then-current number of total User licenses multiplied by the then-current license fee in effect at the time of renewal.\n",
            "Sentence in the Salesforce_MSA_51: The renewal charge will be equal to the then-current number of total User licenses times the then-current license fee in effect at the time of renewal.\n",
            "Sentence in the Salesforce_MSA_50: Customer must provide salesforce.com with complete and accurate billing and contact information.\n",
            "Sentence in the Salesforce_MSA_51: Customer agrees to provide salesforce.com with complete and accurate billing and contact information.\n",
            "Sentence in the Salesforce_MSA_50: This information shall include Customer’s legal company name, street address, e-mail address, and name and telephone number of an authorized billing contact and License Administrator.\n",
            "Sentence in the Salesforce_MSA_51: This information includes Customer’s legal company name, street address, e-mail address, and name and telephone number of an authorized billing contact and License Administrator.\n",
            "Sentence in the Salesforce_MSA_50: Customer must update this information within 30 days of any change to it.\n",
            "Sentence in the Salesforce_MSA_51: Customer agrees to update this information within 30 days of any change to it.\n",
            "Sentence in the Salesforce_MSA_50: If the contact information Customer has provided is false, fraudulent or is not updated as required by this Agreement, salesforce.com reserves the right to terminate Customer’s access to the Service, in addition to any other legal remedies salesforce.com may have.\n",
            "Sentence in the Salesforce_MSA_51: If the contact information Customer has provided is false or fraudulent, salesforce.com reserves the right to terminate Customer’s access to the Service in addition to any other legal remedies.\n",
            "Sentence in the Salesforce_MSA_50: If paying by other means, invoices will be generated at the start of a license or billing period and approximately one month in advance of the start of any renewal or subsequent billing period and shall be due within 30 days from the date of invoice.\n",
            "Sentence in the Salesforce_MSA_51: If paying by other means, invoices will be generated at the start of a license or billing period and approximately one month in advance of the start of any renewal or subsequent billing period and shall be due within 30 days.\n",
            "Sentence in the Salesforce_MSA_50: Unless salesforce.com in its discretion determines otherwise: (i) entities with headquarters and a majority of Users resident in the United States will be billed in U.S. dollars and will be subject to U.S. payment terms and pricing schemes (\"U.S. Customers\"); (ii) entities with headquarters and a majority of Users resident in Japan will be billed in Japanese yen and will be subject to Japanese payment terms and pricing schemes (\"Japanese Customers\"); and (iii) all other entities will be billed in U.S. dollars, Euros or local currency and will be subject to either U.S. or non-U.S. payment terms and pricing schemes at the discretion of salesforce.com (\"Non-U.S./Japan Customers\").\n",
            "Sentence in the Salesforce_MSA_51: Unless salesforce.com in its discretion determines otherwise: (i) entities with headquarters and a majority of users resident in the United States will be billed in U.S. dollars and subject to U.S. payment terms and pricing schemes (\"U.S. Customers\"); (ii) entities with headquarters and a majority of users resident in Japan will be billed in Japanese yen and subject to Japanese payment terms and pricing schemes (\"Japanese Customers\"); and (iii) all other entities will be billed in U.S. dollars, Euros or local currency and be subject to either U.S. or non-U.S. payment terms and pricing schemes at the discretion of salesforce.com (\"Non-U.S./Japan Customers\").\n",
            "Sentence in the Salesforce_MSA_51: If Customer believes that the bill is incorrect, Customer must contact us in writing within 60 days of the invoice date of the invoice containing the amount in question to be eligible to receive an adjustment or credit.\n",
            "Sentence in the Salesforce_MSA_51: Non-Payment In addition to any other rights granted to salesforce.com herein, salesforce.com reserves the right to suspend or terminate this Agreement and Customer’s access to the Service if Customer’s account becomes delinquent (falls into arrears).\n",
            "Sentence in the Salesforce_MSA_50: If Customer believes that its bill is incorrect, Customer must contact salesforce.com in writing within 60 days of the date of the disputed invoice to be eligible to receive an adjustment or credit.\n",
            "Sentence in the Salesforce_MSA_50: Non-Payment In addition to any other rights or remedies at law or under this Agreement, salesforce.com reserves the right to suspend or terminate this Agreement and Customer’s access to the Service, without liability to the Customer for such termination, until such amounts are paid in full.\n",
            "Sentence in the Salesforce_MSA_50: if Customer’s account becomes delinquent (falls into arrears).\n",
            "Sentence in the Salesforce_MSA_50: Delinquent invoices are subject to interest of 1.5% per month on the outstanding balance, or the maximum rate permitted by law, whichever is less, plus all salesforce.com's expenses of collection.\n",
            "Sentence in the Salesforce_MSA_51: Delinquent invoices (accounts in arrears) are subject to interest of 1.5% per month on any outstanding balance, or the maximum permitted by law, whichever is less, plus all expenses of collection.\n",
            "Sentence in the Salesforce_MSA_50: Customer will continue to be charged for User licenses during any period of suspension..\n",
            "Sentence in the Salesforce_MSA_51: Customer will continue to be charged for User licenses during any period of suspension.\n",
            "Sentence in the Salesforce_MSA_51: If Customer or salesforce.com initiate termination of this Agreement, Customer will be obligated to pay the balance due on Customer’s account computed in accordance with the Charges and Payment of Fees section above.\n",
            "Sentence in the Salesforce_MSA_50: Salesforce.com may charge such unpaid fees to Customer’s credit card or otherwise bill Customer for such unpaid fees.\n",
            "Sentence in the Salesforce_MSA_51: Customer agrees that salesforce.com may charge such unpaid fees to Customer’s credit card or otherwise bill Customer for such unpaid fees.\n",
            "Sentence in the Salesforce_MSA_51: Suspension of Service\n",
            "Sentence in the Salesforce_MSA_51: In the event Customer’s account becomes thirty (30) days or more overdue, in addition to and not in lieu of any of its other rights or remedies under this Agreement, salesforce.com reserves the right to suspend the Service provided to Customer.\n",
            "Sentence in the Salesforce_MSA_50: Salesforce.com has no obligation to retain the Customer Data if the account is delinquent for more than 30 days, and such Customer Data may be irretrievably deleted if the account is unpaid after 30 days. Privacy&Security\n",
            "Sentence in the Salesforce_MSA_51: Customer agrees and acknowledges that salesforce.com has no obligation to retain the Customer Data if the account is more than 30 days overdue, and such Customer Data will be irretrievably deleted if the account is unpaid after 30 days. Privacy&Security\n",
            "Sentence in the Salesforce_MSA_50: Salesforce.com’s privacy and security policies may be viewed at http://www.salesforce.com.\n",
            "Sentence in the Salesforce_MSA_51: Salesforce.com’s privacy and security policies may be viewed at http://www.salesforce.com (homepage footer).\n",
            "Sentence in the Salesforce_MSA_50: Reservation of Rights Customer acknowledges that in providing the Service salesforce.com utilizes the Salesforce.com Technology, which is covered by intellectual property rights owned or licensed by salesforce.com (\"Salesforce.com IP Rights\").\n",
            "Sentence in the Salesforce_MSA_50: Other than as expressly set forth in this Agreement, no license or other rights in the Salesforce.com IP Rights are granted to the Customer, and all such rights are hereby expressly reserved.\n",
            "Sentence in the Salesforce_MSA_50: License Grants Salesforce.com grants Customer and its Users a non-exclusive, non-transferable, non-sublicensable right to access and use the Servicefor the purpose for which it is made available to Customer and otherwise in accordance with this Agreement.\n",
            "Sentence in the Salesforce_MSA_50: Customer grants to salesforce.com the non-exclusive license to use, copy, store, modify, transmit and display Customer Data solely to the extent necessary to provide the Service to Customer.\n",
            "Sentence in the Salesforce_MSA_50: Customer shall not (i) modify or make derivative works based on the Salesforce.com Technology; (ii) disassemble, reverse engineer, or decompile any of the Salesforce.com Technology (iii) commercially exploit the Service in any way; or (iv) create Internet “links” to or from the Service, or “frame” or “mirror” any of Salesforce.com's content which forms part of the Service (other than on Customers’ own internal intranets).\n",
            "Sentence in the Salesforce_MSA_50: Suggestions, ideas and feedback Salesforce.com shall have the unrestricted right to use or act upon any suggestions, ideas, enhancement requests, feedback, recommendations or other information (other than Customer Data) provided by Customer or any other party relating to the Service.\n",
            "Sentence in the Salesforce_MSA_51: License Grants Salesforce.com grants Customer a non-exclusive, non-transferable worldwide right to use the Service, solely for Customer’s own internal business purposes subject to the terms of this Agreement.\n",
            "Sentence in the Salesforce_MSA_51: Subject to the terms of this Agreement, Customer grants to salesforce.com the non-exclusive, worldwide, right to use, copy, store, transmit and display Customer Data solely to the extent necessary to provide the Service as requested by Customer.\n",
            "Sentence in the Salesforce_MSA_51: Customer shall not (i) license, sublicense, sell, resell, transfer, assign, distribute or otherwise make available to any third party the Service or the Content, (ii) modify or make derivative works based upon the salesforce.com Technology or the Content; (iii) commercially exploit the Service or the Content in any way, or (iv) create Internet “links” to the Service or “frame” or “mirror” any Content contained in, or accessible from, the Service on any other server, wireless or Internet-based device.\n",
            "Sentence in the Salesforce_MSA_51: Salesforce.com shall not use the Customer Data for any purpose other than to provide the Service to Customer.\n",
            "Sentence in the Salesforce_MSA_51: All rights not expressly granted to Customer are reserved by salesforce.com and its licensors.\n",
            "Sentence in the Salesforce_MSA_51: Restrictions Customer shall not (i) license, sublicense, sell, resell, transfer, assign, distribute or otherwise make available to any third party the Service or the Content, (ii) modify or make derivative works based upon the salesforce.com Technology or the Content; (iii) commercially exploit the Service or the Content in any way, or (iv) create Internet “links” to the Service or “frame” or “mirror” any Content contained in, or accessible from, the Service on any other server, wireless or Internet-based device.\n",
            "Sentence in the Salesforce_MSA_51: Salesforce.com shall not use the Customer Data for any purpose other than to provide the Service to Customer.\n",
            "Sentence in the Salesforce_MSA_51: Customer is advised to consult with Customer’s broker or other financial representative to verify pricing information prior to the execution of any security trade based upon the Content.\n",
            "Sentence in the Salesforce_MSA_50: Customer Responsibilities Customer is responsible for any and all activities that occur under Customer’s User accounts.\n",
            "Sentence in the Salesforce_MSA_51: Customer Responsibilities Customer is responsible for any and all activities that occur under Customer’s user accounts.\n",
            "Sentence in the Salesforce_MSA_51: Customer shall: (i) notify salesforce.com immediately of any unauthorized use of any password or account or any other known or suspected breach of security; (ii) report to salesforce.com immediately and use reasonable efforts to stop immediately any copying or distribution of Content that is known or suspected by Customer or its Users; (iii) assure that use of the Service shall at all times comply with all applicable local, state, federal, and international laws, regulations, and conventions, including without limitation those related to data privacy, international communications, and the exportation of technical or personal data; (iv) assure that use of the Service by Customer’s Users shall at all times conform to the Use Guidelines; and (v) not impersonate another salesforce.com user or provide false identity information to gain access to or use the Service.\n",
            "Sentence in the Salesforce_MSA_51: Account Information and Data All data submitted by Customer to the Service, whether posted by Customer or by third parties, shall remain the sole property of Customer or such third parties, as applicable, unless specifically notified in advance.\n",
            "Sentence in the Salesforce_MSA_51: Customer, not salesforce.com, shall have sole responsibility for the accuracy, quality, integrity, legality, reliability, appropriateness and copyright of all Customer Data, and salesforce.com shall not be responsible or liable for the deletion, correction, destruction, damage, loss or failure to store any Data.\n",
            "Sentence in the Salesforce_MSA_50: Customer shall: (i) notify salesforce.com immediately of any unauthorized use of any password or account or any other known or suspected breach of security or unauthorized access to the Service; (ii) report to salesforce.com immediately and use reasonable efforts to stop immediately any copying or distribution of Salesforce.com Technology that is known or suspected by Customer or its Users; (iii) assure that use of the Service shall at all times comply with all applicable local, state, federal, and international laws, regulations, and conventions, including without limitation those related to data privacy, international communications, and the exportation of technical or personal data; (iv) ensure that a User does not impersonate any other salesforce.com User, or any other user, or provide false identity information to gain access to or use the Service; (vi) use the Service solely for its internal business purposes as contemplated by this Agreement; or (vii) not use the Service to: (a) send spam or any other form of duplicative and unsolicited messages other than marketing and promotional messages to Customer’s clients and prospective clients as contemplated by the Service; (b) harvest, collect, gather or assemble information or data regarding other users without their consent; (c) knowingly transmit through or post on the Service unlawful, immoral, libelous, tortuous, infringing, defamatory, threatening, vulgar, or obscene material or material harmful to minors; (d) knowingly transmit material containing software viruses or other harmful or deleterious computer code, files, scripts, agents, or programs; (e) knowingly interfere with or disrupt the integrity or performance of the Service or the data contained therein; (f) attempt to gain unauthorized access to the Service, computer systems or networks related to the Service; or (g) harass or interfere with another user’s use and enjoyment of the Service.\n",
            "Sentence in the Salesforce_MSA_50: Account Information and Data All data submitted by Customer to the Service, whether posted by Customer or by third parties on Customer's behalf, shall remain the sole property of Customer or such third parties, as applicable.\n",
            "Sentence in the Salesforce_MSA_50: Customer, not salesforce.com, shall have sole responsibility for ensuring the accuracy, quality, integrity, legality, reliability and appropriateness of all Customer Data, and for ensuring that the use of the Customer Data will not infringe the copyright, or any other rights, of any third party.\n",
            "Sentence in the Salesforce_MSA_50: Salesforce.com shall not be responsible or liable for the deletion, correction, destruction, damage, loss or failure to store any Customer Data.\n",
            "Sentence in the Salesforce_MSA_50: Salesforce.com reserves the right to withhold, remove and/or discard Customer Data without notice for any breach by Customer, including, without limitation, Customer’s non-payment.\n",
            "Sentence in the Salesforce_MSA_51: Salesforce.com reserves the right to withhold, remove and/or discard Customer Data without notice for any breach, including, without limitation, Customer’s non-payment.\n",
            "Sentence in the Salesforce_MSA_50: Upon termination for cause by salesforce.com, Customer’s right to access or use Customer Data immediately ceases, and salesforce.com shall have no obligation to maintain or forward any Customer Data.\n",
            "Sentence in the Salesforce_MSA_51: Upon termination for cause, Customer’s right to access or use Customer Data immediately ceases, and salesforce.com shall have no obligation to maintain or forward any Customer Data.\n",
            "Sentence in the Salesforce_MSA_50: Customer must comply with all applicable local, state, national and foreign laws, treaties and regulations in connection with the use of the Service.\n",
            "Sentence in the Salesforce_MSA_51: Customer agrees to abide by all applicable local, state, national and foreign laws, treaties and regulations in connection with the Service.\n",
            "Sentence in the Salesforce_MSA_51: In addition, Customer agrees to adhere to the Use Guidelines accessible at http://www.salesforce.com, which may be updated by salesforce.com in its sole discretion from time to time.\n",
            "Sentence in the Salesforce_MSA_51: Termination/Reduction in Service Level\n",
            "Sentence in the Salesforce_MSA_50: Term This Agreement commences on the Effective Date.\n",
            "Sentence in the Salesforce_MSA_51: This Agreement commences on the Effective Date.\n",
            "Sentence in the Salesforce_MSA_51: This Agreement will automatically renew upon the expiration of the Initial Term.\n",
            "Sentence in the Salesforce_MSA_50: Renewal&Conversion of License Term This Agreement and the User licenses will automatically renew upon the expiration of the Initial Term for a renewal term equal to the Initial Term, unless Customer chooses to convert the duration of monthly or quarterly User licenses into annual User licenses, by submitting an Order Form specifying that Customer elects to renew its User license annually.\n",
            "Sentence in the Salesforce_MSA_50: If such an Order Form is submitted by Customer and accepted by salesforce.com, those provisions of this Agreement which are expressly stated to “cease to apply when lesser User license terms are converted to annual User licenses” will be deemed deleted and will, from the effective date of the converted annual User license, cease to form part of the Agreement between salesforce.com and Customer.\n",
            "Sentence in the Salesforce_MSA_50: Termination at Will Either party may terminate this Agreement by notifying the other party in writing at least 30 days prior to the end of the then current term.\n",
            "Sentence in the Salesforce_MSA_51: Either party may terminate this Agreement or reduce the level of service by notifying the other party in writing at least 30 days prior to the end of the then current term.\n",
            "Sentence in the Salesforce_MSA_50: In the case of free trials, notifications provided by salesforce.com to Customer through the Service indicating the remaining number of days in the free trial shall constitute notice of termination from salesforce.com.\n",
            "Sentence in the Salesforce_MSA_51: In the case of free trials, notifications provided through the Service indicating the remaining number of days in the free trial shall constitute notice of termination.\n",
            "Sentence in the Salesforce_MSA_50: Upon termination, Customer will be entitled to a refund of any prepaid charges attributable to any period starting after the effective date of termination.\n",
            "Sentence in the Salesforce_MSA_50: In the event that Customer terminates this Agreement, and provided that at the effective date of termination Customer is not in breach of any term of this Agreement, salesforce.com will make available to Customer a file of its Customer Data within 30 days of termination if Customer so requests at the time notice of termination is given.\n",
            "Sentence in the Salesforce_MSA_51: Reductions of Service shall not be effective until You have reduced Your data storage amount commensurate with the reduced number of User licenses.\n",
            "Sentence in the Salesforce_MSA_51: You will be billed for the period from the date you initiate the termination/reduction and reduce data storage commensurate with the reduced number of licenses up to and including the date one month following the date you initiated the termination/reduction at the service level prior to such termination/reduction.\n",
            "Sentence in the Salesforce_MSA_51: Upon termination/reduction, you will be granted a refund of any prepaid charges applicable to the period starting one month after our receipt of your written notice of the termination/reduction.\n",
            "Sentence in the Salesforce_MSA_51: In the event that Customer terminates this Agreement (other than by reason of Customer’s breach), salesforce.com will make available to Customer a file of its Customer Data within 30 days of termination if Customer so requests at the time notice of termination is given.\n",
            "Sentence in the Salesforce_MSA_50: Salesforce.com has no obligation to retain the Customer Data, and may delete such Customer Data, more than 30 days after termination.\n",
            "Sentence in the Salesforce_MSA_51: Customer agrees and acknowledges that salesforce.com has no obligation to retain the Customer Data, and may delete such Customer Data, more than 30 days after termination.\n",
            "Sentence in the Salesforce_MSA_50: This provision will cease to apply when lesser User license terms are converted to annual User licenses.\n",
            "Sentence in the Salesforce_MSA_50: Termination for Cause Any breach of Customer’s payment obligations, unauthorized use of the salesforce.com Technology or Service will be deemed a material breach of this Agreement.\n",
            "Sentence in the Salesforce_MSA_51: Termination for Cause Any breach of Customer’s payment obligations, Use Guidelines, unauthorized use of the Salesforce.com Technology or Service will be deemed a material breach of this Agreement.\n",
            "Sentence in the Salesforce_MSA_50: Salesforce.com, in its sole discretion, may terminate (i) Customer’s password, account or use of the Service if Customer breaches or otherwise fails to comply with this Agreement; and (ii) this Agreement if Customer is in material breach.\n",
            "Sentence in the Salesforce_MSA_51: Salesforce.com, in its sole discretion, may terminate Customer’s password, account or use of the Service if Customer breaches or otherwise fail to comply with this Agreement.\n",
            "Sentence in the Salesforce_MSA_50: Salesforce.com has no obligation to retain the Customer Data, and will delete such Customer Data, if Customer has materially breached this Agreement, including but not limited to failure to pay outstanding fees, and such breach has not been cured within 30 days of notice of such breach.\n",
            "Sentence in the Salesforce_MSA_51: Customer agrees and acknowledges that salesforce.com has no obligation to retain the Customer Data, and will delete such Customer Data, if Customer has materially breached this Agreement, including but not limited to failure to pay outstanding fees, and such breach has not been cured within 30 days of notice of such breach.\n",
            "Sentence in the Salesforce_MSA_50: Third Party Providers\n",
            "Sentence in the Salesforce_MSA_51: Salesforce.com Ownership Salesforce.com alone (and its licensors, where applicable) shall own all right, title and interest, including all related Intellectual Property Rights, in and to the Salesforce.com Technology, the Content and the Service and any suggestions, ideas, enhancement requests, feedback, recommendations or other information provided by Customer or any other party relating to the Service.\n",
            "Sentence in the Salesforce_MSA_51: This Agreement is not a sale and does not convey any rights of ownership in or related to the Service, Salesforce.com Technology or Intellectual Property owned by salesforce.com to Customer.\n",
            "Sentence in the Salesforce_MSA_51: The salesforce.com name, the salesforce.com logo, and the product names associated with the Service are trademarks of salesforce.com or third parties, and no right or license is granted to use them.\n",
            "Sentence in the Salesforce_MSA_50: During use of the Service, Customer may enter into correspondence with, purchase goods and/or services from, or participate in promotions of advertisers or sponsors showing their goods and/or services through the Service.\n",
            "Sentence in the Salesforce_MSA_51: Third Party Rights During use of the Service, Customer may enter into correspondence with, purchase goods and/or services from, or participate in promotions of advertisers or sponsors showing their goods and/or services through the Service.\n",
            "Sentence in the Salesforce_MSA_50: Salesforce.com is providing these links to Customer only as a matter of convenience, and in no event shall salesforce.com or its licensors be responsible for any content, products, or other materials on or available from such sites.\n",
            "Sentence in the Salesforce_MSA_51: Salesforce.com is providing these links to Customer only as a matter of convenience, and in no event shall salesforce.com or its licensors be responsible for any content, products, or other materials on or available from such sites.salesforce.com provides its services to Customer pursuant to the terms of this Agreement.\n",
            "Sentence in the Salesforce_MSA_50: Salesforce.com provides its services to Customer pursuant to the terms of this Agreement, but Customer recognizes, that certain third-party providers of ancillary software, hardware, or services may require Customer’s agreement to additional or different license or other terms prior to Customer’s use of or access to such software, hardware, or services on behalf of Customer.\n",
            "Sentence in the Salesforce_MSA_51: Customer recognizes, however, that certain third-party providers of ancillary software, hardware, or services may require Customer’s agreement to additional or different license or other terms prior to Customer’s use of or access to such software, hardware, or services on behalf of Customer.\n",
            "Sentence in the Salesforce_MSA_50: Salesforce.com represents and warrants that it will provide the Service in a manner consistent with general industry standards reasonably applicable to the provision thereof.\n",
            "Sentence in the Salesforce_MSA_51: Salesforce.com represents and warrants that it will provide the Service in a manner consistent with general industry standards reasonably applicable to the provision thereof and that the Service will perform substantially in accordance with the online salesforce.com help documentation under normal use and circumstances.\n",
            "Sentence in the Salesforce_MSA_50: Customer represents and warrants that it has not falsely identified itself nor provided any false information to gain access to the Service, that Customer’s billing information is correct.\n",
            "Sentence in the Salesforce_MSA_51: Customer represents and warrants that it has not falsely identified itself nor provided any false information to gain access to the Service, that Customer’s billing information is correct, and that Customer will comply with the Use Guidelines.\n",
            "Sentence in the Salesforce_MSA_51: Mutual Indemnification Customer shall indemnify and hold salesforce.com, its licensors and each such party's parent organizations, subsidiaries, affiliates, officers, directors, employees, attorneys and agents harmless from and against any and all claims, costs, damages, losses, liabilities and expenses (including attorneys' fees and costs) arising out of or in connection with: (i) a claim alleging that use of the Customer Data infringes the rights of, or has caused harm to, a third party; (ii) a claim, which if true, would constitute a violation by Customer of the representations and warranties; or (iii) a claim arising from the breach by Customer or Users of this Agreement, provided in any such case that salesforce.com (i) gives written notice of the claim promptly to Customer (ii) gives Customer sole control of the defense and settlement of the claim (provided that Customer may not settle or defend any claim unless it unconditionally releases salesforce.com of all liability and such settlement does not affect salesforce.com’s business or Service); (iii) provides to Customer all available information and assistance; and (iv) has not compromised or settled such claim.\n",
            "Sentence in the Salesforce_MSA_51: Salesforce.com shall indemnify and hold Customer and its parent organizations, subsidiaries, affiliates, officers, directors, employees, attorneys and agents harmless from and against any and all claims, costs, damages, losses, liabilities and expenses (including attorneys' fees and costs) arising out of or in connection with: (i) a claim alleging that the Service directly infringes a copyright, a U.S. patent issued as of the Effective Date, or trademark of a third party; (ii) a claim, which if true, would constitute a violation of salesforce.com of the representations or warranties; or (iii) a claim arising from breach of this Agreement by salesforce.com; provided that Customer (i) promptly gives written notice of the claim to salesforce.com; (ii) gives salesforce.com sole control of the defense and settlement of the claim (provided that salesforce.com may not settle or defend any claim unless it unconditionally releases Customer of all liability); (iii) provides to salesforce.com all available information and assistance; and (iv) has not compromised or settled such claim.\n",
            "Sentence in the Salesforce_MSA_50: Disclaimer of Warranties EXCEPT AS EXPRESSLY PROVIDED\n",
            "Sentence in the Salesforce_MSA_50: HEREIN, SALESFORCE.COM MAKES NO REPRESENTATION, WARRANTY (WHETHER EXPRESS, IMPLIED, STATUTORY OR OTHERWISE), OR GUARANTY OF ANY KIND AS TO THE RELIABILITY, TIMELINESS, QUALITY, SUITABILITY, TRUTH, AVAILABILITY, ACCURACY OR COMPLETENESS OF THE SERVICE OR ANY CONTENT.\n",
            "Sentence in the Salesforce_MSA_50: SALESFORCE.COM DOES NOT REPRESENT OR WARRANT THAT (A) THE USE OF THE SERVICE WILL BE SECURE, TIMELY, UNINTERRUPTED OR ERROR-FREE OR OPERATE IN COMBINATION WITH ANY OTHER HARDWARE, SOFTWARE, SYSTEM OR DATA, (B) THE SERVICE WILL MEET CUSTOMER’S REQUIREMENTS OR EXPECTATIONS, (C)\n",
            "Sentence in the Salesforce_MSA_50: ANY STORED DATA WILL BE ACCURATE OR RELIABLE, (D) THE QUALITY OF ANY PRODUCTS, SERVICES, INFORMATION, OR OTHER MATERIAL PURCHASED OR OBTAINED BY CUSTOMER THROUGH THE SERVICE WILL MEET CUSTOMER’S REQUIREMENTS OR EXPECTATIONS, (E) ERRORS OR DEFECTS WILL BE CORRECTED, OR (F) THE SERVICE OR THE SERVER(S) THAT MAKE THE SERVICE AVAILABLE ARE FREE OF VIRUSES OR OTHER HARMFUL COMPONENTS.\n",
            "Sentence in the Salesforce_MSA_50: SALESFORCE.COM HEREBY SPECIFICALLY DISCLAIMS\n",
            "Sentence in the Salesforce_MSA_50: ALL IMPLIED WARRANTIES OF MERCHANTABILITY, FITNESS FOR A PARTICULAR PURPOSE, TITLE AND NON-INFRINGEMENT OF THIRD PARTY RIGHTS, TO THE MAXIMUM EXTENT PERMITTED BY APPLICABLE LAW.\n",
            "Sentence in the Salesforce_MSA_50: Mutual Indemnification Subject to this Agreement, Customer shall defend, indemnify and hold salesforce.com harmless against all loss or damage incurred in connection with claims, demands, suits or proceedings (\"Claims\") made or brought against salesforce.com by a third party: (i) alleging that use of the Customer Data or use thereof by either party has caused harm to a third party or infringes a third party's rights in copyright, a United States patent issued as of the Effective Date, or a trademark;(ii) arising from the breach by Customer or Users of this Agreement, provided in any such case that salesforce.com (a) gives written notice of the Claim promptly to Customer (b) gives Customer sole control of the defense and settlement of the Claim (provided that Customer may not settle or defend any Claim unless it unconditionally releases salesforce.com of all liability and such settlement does not affect salesforce.com’s business or Service); (c) provides to Customer all available information and assistance; and (d) has not compromised or settled such Claim.\n",
            "Sentence in the Salesforce_MSA_50: Subject to this Agreement, Salesforce.com shall defend, indemnify and hold Customer harmless against all loss or damage incurred in connection with claims, demands, suits or proceedings (\"Claims\") made or brought against Customer by a third party: (i) alleging that Customer's use of the Service infringes a third party's rights in copyright, a United States patent issued as of the Effective Date, or a trademarks;(ii) arising from the breach by salesforce.com of this Agreement, provided in any such case that Customer (a) gives written notice of the Claim promptly to salesforce.com; (b) gives salesforce.com sole control of the defense and settlement of the Claim (provided that salesforce.com may not settle or defend any Claim unless it unconditionally releases Customer of all liability and such settlement does not affect Customer's business); (c) provides to salesforce.com all available information and assistance; and (d) has not compromised or settled such Claim.\n",
            "Sentence in the Salesforce_MSA_51: Disclaimer of Warranties SALESFORCE.COM AND ITS LICENSORS MAKE NO REPRESENTATION, WARRANTY, OR GUARANTY AS TO THE RELIABILITY, TIMELINESS, QUALITY, SUITABILITY, TRUTH, AVAILABILITY, ACCURACY OR COMPLETENESS OF THE SERVICE OR ANY CONTENT; SALESFORCE.COM AND ITS LICENSORS DO NOT REPRESENT OR WARRANT THAT (A) THE USE OF THE SERVICE WILL BE SECURE, TIMELY, UNINTERRUPTED OR ERROR-FREE OR OPERATE IN COMBINATION WITH ANY OTHER HARDWARE, SOFTWARE, SYSTEM OR DATA, (B) THE SERVICE WILL MEET CUSTOMER’S REQUIREMENTS OR EXPECTATIONS, (C)\n",
            "Sentence in the Salesforce_MSA_51: ANY STORED DATA WILL BE ACCURATE OR RELIABLE, (D) THE QUALITY OF ANY PRODUCTS, SERVICES, INFORMATION, OR OTHER MATERIAL PURCHASED OR OBTAINED BY CUSTOMER THROUGH THE SERVICE WILL MEET CUSTOMER’S REQUIREMENTS OR EXPECTATIONS, (E) ERRORS OR DEFECTS WILL BE CORRECTED, OR (F) THE SERVICE OR THE SERVER(S) THAT MAKE THE SERVICE AVAILABLE ARE FREE OF VIRUSES OR OTHER HARMFUL COMPONENTS;(III)\n",
            "Sentence in the Salesforce_MSA_51: THE SERVICE AND ALL CONTENT IS PROVIDED TO CUSTOMER STRICTLY\n",
            "Sentence in the Salesforce_MSA_51: ON\n",
            "Sentence in the Salesforce_MSA_51: AN \"AS IS\" BASIS; AND (IV) ALL CONDITIONS, REPRESENTATIONS AND WARRANTIES, WHETHER EXPRESS, IMPLIED, STATUTORY OR OTHERWISE, INCLUDING, WITHOUT LIMITATION, ANY IMPLIED WARRANTY OF MERCHANTABILITY, FITNESS FOR A PARTICULAR PURPOSE, OR NON-INFRINGEMENT OF THIRD PARTY RIGHTS, ARE HEREBY DISCLAIMED TO THE MAXIMUM\n",
            "Sentence in the Salesforce_MSA_51: EXTENT PERMITTED BY APPLICABLE LAW BY SALESFORCE.COM AND ITS LICENSORS.\n",
            "Sentence in the Salesforce_MSA_50: Limitation of Liability IN NO EVENT SHALL EITHER PARTY'S AGGREGATE LIABILITY ARISING OUT OF OR RELATED TO THIS AGREEMENT, WHETHER IN CONTRACT, TORT OR UNDER ANY OTHER THEORY OF LIABILITY, EXCEED THE AMOUNTS ACTUALLY PAID BY AND DUE FROM CUSTOMER IN THE TWELVE (12) MONTH PERIOD IMMEDIATELY\n",
            "Sentence in the Salesforce_MSA_51: Limitation of Liability IN NO EVENT SHALL EITHER PARTY'S AGGREGATE LIABILITY EXCEED THE AMOUNTS ACTUALLY PAID BY AND DUE FROM CUSTOMER IN THE TWELVE (12)\n",
            "Sentence in the Salesforce_MSA_51: MONTH PERIOD IMMEDIATELY\n",
            "Sentence in the Salesforce_MSA_50: IN NO EVENT SHALL EITHER PARTY BE LIABLE TO ANYONE FOR ANY INDIRECT, PUNITIVE, SPECIAL, EXEMPLARY, INCIDENTAL, CONSEQUENTIAL OR OTHER DAMAGES OF ANY TYPE OR KIND (INCLUDING LOSS OF DATA, REVENUE, PROFITS, USE OR OTHER ECONOMIC ADVANTAGE) ARISING OUT OF, OR IN ANY WAY CONNECTED WITH THIS AGREEMENT, INCLUDING BUT NOT LIMITED TO THE USE OR INABILITY TO USE THE SERVICE, OR FOR ANY CONTENT OBTAINED FROM OR THROUGH THE SERVICE, ANY INTERRUPTION, INACCURACY, ERROR OR OMISSION, REGARDLESS OF CAUSE, EVEN IF THE PARTY FROM WHICH DAMAGES ARE BEING SOUGHT HAS BEEN PREVIOUSLY ADVISED OF THE POSSIBILITY OF SUCH DAMAGES.\n",
            "Sentence in the Salesforce_MSA_51: IN NO EVENT SHALL EITHER PARTY AND/OR ITS LICENSORS BE LIABLE TO ANYONE FOR ANY INDIRECT, PUNITIVE, SPECIAL, EXEMPLARY, INCIDENTAL, CONSEQUENTIAL OR OTHER DAMAGES OF ANY TYPE OR KIND (INCLUDING LOSS OF DATA, REVENUE, PROFITS, USE OR OTHER ECONOMIC ADVANTAGE) ARISING OUT OF, OR IN ANY WAY CONNECTED WITH THIS SERVICE, INCLUDING BUT NOT LIMITED TO THE USE OR INABILITY TO USE THE SERVICE, OR FOR ANY CONTENT OBTAINED FROM OR THROUGH THE SERVICE, ANY INTERRUPTION, INACCURACY, ERROR OR OMISSION, REGARDLESS OF CAUSE IN THE CONTENT, EVEN IF THE PARTY FROM WHICH DAMAGES ARE BEING SOUGHT OR SUCH PARTY'S LICENSORS HAVE BEEN PREVIOUSLY ADVISED OF THE POSSIBILITY OF SUCH DAMAGES.\n",
            "Sentence in the Salesforce_MSA_50: Customer shall not transfer or otherwise export or re-export any of this site's underlying information, software, or technology to Afghanistan, Burma, Cuba, Iraq, Iran, Libya, Sudan, or any other countries to which the United States and/or the European Union maintains an embargo (collectively, \"Embargoed Countries\"), or to or by a national or resident thereof, or any person or entity on the U.S. Department of Treasury's List of Specially Designated Nationals or the U.S. Department of Commerce's Table of Denial Orders (collectively, \"Designated Nationals\").\n",
            "Sentence in the Salesforce_MSA_51: The user of this site (\"User\") acknowledges and agrees that the site shall not be used, and none of the underlying information, software, or technology may be transferred or otherwise exported or re-exported to Afghanistan, Burma, Cuba, Iraq, Iran, Libya, Sudan, or any other countries to which the United States and/or the European Union maintains an embargo (collectively, \"Embargoed Countries\"), or to or by a national or resident thereof, or any person or entity on the U.S. Department of Treasury's List of Specially Designated Nationals or the U.S. Department of Commerce's Table of Denial Orders (collectively, \"Designated Nationals\").\n",
            "Sentence in the Salesforce_MSA_50: By using this site, Customer represents and warrants that its Users are not located in, under the control of, or a national or resident of an Embargoed Country or Designated National.\n",
            "Sentence in the Salesforce_MSA_51: By using this site, User represents and warrants that it is not located in, under the control of, or a national or resident of an Embargoed Country or Designated National.\n",
            "Sentence in the Salesforce_MSA_50: Customer must comply strictly with all U.S. and European Union export laws and assumes sole responsibility for obtaining licenses to export or re-export as may be required.\n",
            "Sentence in the Salesforce_MSA_51: User agrees to comply strictly with all U.S. and European Union export laws and assumes sole responsibility for obtaining licenses to export or re-export as may be required.\n",
            "Sentence in the Salesforce_MSA_50: This site may use encryption technology that is subject to licensing requirements under the U.S. Export Administration Regulations, 15 C.F.R. Parts 730-774 and Council Regulation (EC) No. 1334/2000 Salesforce.com makes no representation that the Service is available for use in locations outside the United States of America.\n",
            "Sentence in the Salesforce_MSA_51: This site may use encryption technology that is subject to licensing requirements under the U.S. Export Administration Regulations, 15 C.F.R. Parts 730-774 and Council Regulation (EC) No. 1334/2000 Salesforce.com and its licensors make no representation that the Service is appropriate or available for use in other locations.\n",
            "Sentence in the Salesforce_MSA_50: Any diversion of the Salesforce.com Technology contrary to United States' or European Union (including European Union Member States) law is prohibited.\n",
            "Sentence in the Salesforce_MSA_51: Any diversion of the Content contrary to United States or European Union (including European Union Member States) law is prohibited.\n",
            "Sentence in the Salesforce_MSA_50: Customer represents and warrants that none of the Salesforce.com Technology, nor any information acquired through the use of the Service, is or will be used for nuclear activities, chemical or biological weapons, or missile projects, unless specifically authorized by the United States Government or appropriate European body for such purposes.\n",
            "Sentence in the Salesforce_MSA_51: None of the Content, nor any information acquired through the use of the Service, is or will be used for nuclear activities, chemical or biological weapons, or missile projects, unless specifically authorized by the United States Government or appropriate European body for such purposes.\n",
            "Sentence in the Salesforce_MSA_50: Continued use of the Service after any such changes shall constitute Customer’s consent to be legally bound by such changes.\n",
            "Sentence in the Salesforce_MSA_51: Continued use of the Service after any such changes shall constitute Customer’s consent to such changes.\n",
            "Sentence in the Salesforce_MSA_50: This provision will cease to apply when lesser User license terms are converted to annual User licenses.\n",
            "Sentence in the Salesforce_MSA_50: Assignment This Agreement may not be assigned by Customer without the prior written approval of salesforce.com\n",
            "Sentence in the Salesforce_MSA_51: Assignment This Agreement may not be assigned by Customer without the prior written approval of salesforce.com but may be assigned by salesforce.com\n",
            "Sentence in the Salesforce_MSA_51: to (i) a parent or subsidiary, (ii) an acquirer of assets, or (iii) a successor by merger.\n",
            "Sentence in the Salesforce_MSA_50: The rights and limitations in this Agreement are also for the benefit of salesforce.com’s licensors, each of whom shall have the right to enforce its rights hereunder directly and on its own behalf” Definitions As used in this Agreement and in any Order Forms now or hereafter attached hereto: “Agreement” means this online services agreement, and any Order Forms, whether written or submitted online via the Online Order Center, and any materials available on the salesforce.com website specifically incorporated by reference herein, as such materials, including the terms of this Agreement, may be updated by salesforce.com from time to time in its sole discretion; “Customer” means the individual or legal entity identified in the registration and identification data provided to salesforce.com via this web site; “Customer Data” means any data, information or material provided or submitted by Customer to salesforce.com in the course of utilizing the Service; “Effective Date” means the date this Agreement is accepted by Customer by selecting the “I Accept” option presented on the screen after this Agreement is displayed; “Initial Term” means the period during which Customer is obligated to pay for the Service equal to the billing frequency selected by Customer during the subscription process, i.e. if the billing frequency is monthly, the Initial Term is one month; “License Administrator(s)” means those Users designated by Customer and approved by salesforce.com who are authorized to purchase licenses online using the Online Order Center or by executing written Order Forms; “Order Form(s)” means the initial subscription for the Service and any subsequent order forms submitted online, specifying, among other things, the number of licenses and other services contracted for, the applicable fees, the billing period, and other charges as agreed to between the parties and each such Order Form shall be incorporated into and become a part of this Agreement.\n",
            "Sentence in the Salesforce_MSA_51: Definitions As used in this Agreement and in any Order Forms now or hereafter attached hereto: “Agreement” means this online services agreement, and any Order Forms, whether written or submitted online via the Online Order Center, and any materials available on the salesforce.com website specifically incorporated by reference herein, as such materials, including the terms of this Agreement, may be updated by salesforce.com from time to time in its sole discretion; “Content” means the audio and visual information, documents, software, products and services contained or made available to Customer in the course of using the Service; “Customer, You or Customer’s” means the individual or legal entity, its directors, officers, affiliates agents, and employees, as identified in the registration and identification data provided to salesforce.com via this web site; “Customer Data” means any data, information or material provided or submitted by Customer to salesforce.com in the course of utilizing the Service; “Effective Date” means the earlier of either the date this Agreement is accepted by selecting the “I Accept” option presented on the screen after this Agreement is displayed or the date Customer begins using the Service; “Initial Term” means the period during which Customer is obligated to pay for the Service equal to the billing frequency selected by Customer during the subscription process, i.e. if the billing frequency is monthly, the Initial Term is one month; “Intellectual Property Rights” means unpatented inventions, patent applications, patents, design rights, copyrights, trademarks, service marks, trade names, domain name rights, mask work rights, know-how and other trade secret rights, and all other intellectual property rights, derivatives thereof, and forms of protection of a similar nature; “License Administrator(s)” means those Users designated by Customer who are authorized to purchase licenses online using the Online Order Center or by executing written Order Forms; “License Term(s)” means the period(s), excluding the Initial Term, during which a specified number of Users are licensed to use the Service pursuant to the Order Form(s); “Order Form(s)” means the initial subscription for the Service and any subsequent order forms submitted online, specifying, among other things, the number of licenses and other services contracted for, the applicable fees, the billing period, and other charges as agreed to between the parties and each such Order Form shall be incorporated into and become a part of this Agreement.\n",
            "Sentence in the Salesforce_MSA_50: a Delaware corporation, having its principal place of business at TheLandmark@OneMarket, Suite 300, San Francisco, California 94105 and salesforce.com EMEA Limited (collectively “salesforce.com”) “Salesforce.com Technology” means the salesforce.com name, the salesforce.com logo, the salesforce.com domain name, the product names associated with the Service and other trademarks; (ii) certain audio and visual information, documents, software and other works of authorship; and (iii) other technology, software, hardware, products, processes, algorithms, user interfaces, know-how and other trade secrets, techniques, designs, inventions and other tangible or intangible technical material or information; “Service” means the online customer relationship management, billing, data analysis, and other corporate ERP and CRM services as made available by salesforce.com from time to time at http://www.salesforce.com or other designated web site or IP address, and any or ancillary services rendered to Customer by salesforce.com under this Agreement; “User(s)” means Customer, its employees, representatives, consultants, contractors or agents who are authorized to use the Service and have been supplied user identifications and passwords by Customer (or by salesforce.com at Customer’s request).\n",
            "Sentence in the Salesforce_MSA_51: a Delaware corporation, having its principal place of business at TheLandmark@OneMarket, Suite 300, San Francisco, California 94105 and salesforce.com EMEA Limited (collectively “salesforce.com”) “Salesforce.com Technology” means all of salesforce.com’s proprietary technology (including software, hardware, products, processes, algorithms, user interfaces, know-how, techniques, designs and other tangible or intangible technical material or information) made available to Customer by salesforce.com in providing the Service; “Service(s)” means the online customer relationship management, billing, data analysis, and other corporate ERP services developed, operated, and maintained by salesforce.com accessible via http://www.salesforce.com or other designated web site or IP address or ancillary services rendered to Customer by salesforce.com, to which Customer is being granted access under this Agreement, including the Saleforce.com Technology and the Content; “System Administrator(s)” means those Users designated by Customer who are authorized to create User accounts and otherwise administer Customer’s use of the Service; “Use Guidelines” means the guidelines for use of the Service promulgated from time to time by salesforce.com pursuant to this Agreement and found at http://www.salesforce.com/; “User(s)” means Customer, its employees, representatives, consultants, contractors or agents who are authorized to use the Service and have been supplied user identifications and passwords by Customer (or by salesforce.com at Customer’s request).\n"
          ]
        }
      ]
    }
  ]
}