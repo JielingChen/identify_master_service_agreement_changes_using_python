{
  "nbformat": 4,
  "nbformat_minor": 0,
  "metadata": {
    "colab": {
      "provenance": []
    },
    "kernelspec": {
      "name": "python3",
      "display_name": "Python 3"
    },
    "language_info": {
      "name": "python"
    }
  },
  "cells": [
    {
      "cell_type": "markdown",
      "source": [
        "### **Background**\n",
        "\n",
        "In some situations, we want to know what changes have been made to an updated Master Service Agreement. Identifying the changes with human eyes could be tedious; sometimes the change is so small that it could be easily ignored.  \n",
        "\n",
        "This tool addresses this problem by using Python to extract the text from two different Master Service Agreement files and compare the text sentence by sentence. Python will identify different sentences and print them out for us.  \n",
        "\n",
        "**The different sentences could be:**  \n",
        "\n",
        "**1. Sentences appear in both files, but the sentences are not exactly the same.**\n",
        "\n",
        "**2. Sentences appear in one file but not in the other file.**  \n",
        "\n",
        "\n",
        "\n",
        "The MSA(Master Service Agreement) files used in this notebook are from the Salesforce MSA archive: https://www.salesforce.com/company/legal/MSA-archive/"
      ],
      "metadata": {
        "id": "Qv5M1IQkFE9K"
      }
    },
    {
      "cell_type": "markdown",
      "source": [
        "### **1. Web Scraping to Automatically Download the MSA Files From the Website**\n",
        "\n",
        "Below are the code to automatically download the MSA files from the Salesforce website to Google Colab and rename those files.   \n",
        "The latest MSA will be named \"Salesforce_MSA_1\", and the larger the number, the older the version."
      ],
      "metadata": {
        "id": "Xgmio2fHICAE"
      }
    },
    {
      "cell_type": "code",
      "execution_count": null,
      "metadata": {
        "id": "Jle8mHnoH8SV"
      },
      "outputs": [],
      "source": [
        "# import libraries for web scraping\n",
        "import requests\n",
        "import urllib.request\n",
        "from bs4 import BeautifulSoup"
      ]
    },
    {
      "cell_type": "code",
      "source": [
        "# url of the website\n",
        "url = 'https://www.salesforce.com/company/legal/MSA-archive/'\n",
        "\n",
        "# create a response of the website\n",
        "response = requests.get(url)\n",
        "\n",
        "# parse the text of the website\n",
        "soup = BeautifulSoup(response.text, 'html.parser')\n",
        "\n",
        "# find all the links in the website\n",
        "links = soup.find_all('a')\n",
        "\n",
        "file_num = 0\n",
        "for link in links:\n",
        "  # find pdf links\n",
        "  if link['href'].endswith('.pdf'):\n",
        "    file_num += 1\n",
        "    pdf_link = link['href']\n",
        "\n",
        "    # get the url of the pdf link\n",
        "    pdf_url = 'https:' + pdf_link\n",
        "\n",
        "    # get the name of the pdf link\n",
        "    file_name = link.text[8:]\n",
        "\n",
        "    # download the pdf\n",
        "    urllib.request.urlretrieve(pdf_url, 'Salesforce_MSA_'+str(file_num)+'.pdf')\n",
        "    print(file_name, ' downloaded, named as Salesforce_MSA_'+str(file_num))\n",
        "\n",
        "print('Downloaded '+str(file_num)+' files')"
      ],
      "metadata": {
        "colab": {
          "base_uri": "https://localhost:8080/"
        },
        "id": "YyywaWV_JhBf",
        "outputId": "926dc96d-89d5-495a-c977-4d666b58f92b"
      },
      "execution_count": null,
      "outputs": [
        {
          "output_type": "stream",
          "name": "stdout",
          "text": [
            " Salesforce MSA (December 19, 2022 - Present)  downloaded, named as Salesforce_MSA_1\n",
            " Salesforce MSA (November 18, 2022 - December 18, 2022)  downloaded, named as Salesforce_MSA_2\n",
            " Salesforce MSA (September 15, 2022 - November 17, 2022)  downloaded, named as Salesforce_MSA_3\n",
            " Salesforce MSA (August 15, 2022 - September 14, 2022)   downloaded, named as Salesforce_MSA_4\n",
            " Salesforce MSA (August 4, 2022 - August 14, 2022)   downloaded, named as Salesforce_MSA_5\n",
            " Salesforce MSA (May 16, 2022 - August 3, 2022)  downloaded, named as Salesforce_MSA_6\n",
            " Salesforce MSA (April 4, 2022 - May 15, 2022)  downloaded, named as Salesforce_MSA_7\n",
            " Salesforce MSA (February 18, 2022 - April 3, 2022)  downloaded, named as Salesforce_MSA_8\n",
            " Salesforce MSA (November 22, 2021 - February 17, 2022)  downloaded, named as Salesforce_MSA_9\n",
            " Salesforce MSA (September 27, 2021 - November 21, 2021)  downloaded, named as Salesforce_MSA_10\n",
            " Salesforce MSA (April 23, 2021 - September 26, 2021)  downloaded, named as Salesforce_MSA_11\n",
            " Salesforce MSA (April 12, 2021 - April 22, 2021)  downloaded, named as Salesforce_MSA_12\n",
            " Salesforce MSA (June 6, 2020 - April 11, 2021)  downloaded, named as Salesforce_MSA_13\n",
            " Salesforce MSA (September 1, 2019 - June 5, 2020)  downloaded, named as Salesforce_MSA_14\n",
            " Salesforce MSA (June 1, 2019 - August 31, 2019)  downloaded, named as Salesforce_MSA_15\n",
            " Salesforce MSA (May 1, 2019 - May 31, 2019)  downloaded, named as Salesforce_MSA_16\n",
            " Salesforce MSA (November 10, 2018 - April 30, 2019)  downloaded, named as Salesforce_MSA_17\n",
            " Salesforce MSA (February 1, 2018 - November 9, 2018)  downloaded, named as Salesforce_MSA_18\n",
            " Salesforce MSA (September 12, 2017 - January 31, 2018)  downloaded, named as Salesforce_MSA_19\n",
            " Salesforce MSA (June 23, 2016 - September 11, 2017)  downloaded, named as Salesforce_MSA_20\n",
            " Salesforce MSA (January 9, 2016 - June 22, 2016)  downloaded, named as Salesforce_MSA_21\n",
            " Salesforce MSA (October 21, 2015 - January 8, 2016)  downloaded, named as Salesforce_MSA_22\n",
            " Salesforce MSA (October 8, 2015 - October 20, 2015)  downloaded, named as Salesforce_MSA_23\n",
            " Salesforce MSA (September 1, 2014 - October 7, 2015)  downloaded, named as Salesforce_MSA_24\n",
            " Salesforce MSA (November 27, 2013 - August 31, 2014)  downloaded, named as Salesforce_MSA_25\n",
            " Salesforce MSA (July 24, 2013 â November 26, 2013)  downloaded, named as Salesforce_MSA_26\n",
            " Salesforce MSA (May 31, 2013 â July 23, 2013)  downloaded, named as Salesforce_MSA_27\n",
            " Salesforce MSA (January 7, 2013 â May 30, 2013)  downloaded, named as Salesforce_MSA_28\n",
            " Salesforce MSA (September 15, 2011 â January 6, 2013)  downloaded, named as Salesforce_MSA_29\n",
            " Salesforce MSA (December 1, 2010 â September 14, 2011)  downloaded, named as Salesforce_MSA_30\n",
            " Salesforce MSA (June 21, 2010 â November 30, 2010)  downloaded, named as Salesforce_MSA_31\n",
            " Salesforce MSA (May 7, 2009 â June 20, 2010)  downloaded, named as Salesforce_MSA_32\n",
            " Salesforce MSA (April 2, 2009 â May 6, 2009)  downloaded, named as Salesforce_MSA_33\n",
            " Salesforce MSA (February 5, 2009 â April 1, 2009)  downloaded, named as Salesforce_MSA_34\n",
            " Salesforce MSA (October 17, 2008 â February 4, 2009)  downloaded, named as Salesforce_MSA_35\n",
            " Salesforce MSA (March 13, 2008 â October 16, 2008)  downloaded, named as Salesforce_MSA_36\n",
            " Salesforce MSA (July 18, 2007 â March 12, 2008)  downloaded, named as Salesforce_MSA_37\n",
            " Salesforce MSA (February 14, 2006 â July 17, 2007)  downloaded, named as Salesforce_MSA_38\n",
            " Salesforce MSA (December 1, 2005 â February 13, 2006)  downloaded, named as Salesforce_MSA_39\n",
            " Salesforce MSA (July 8, 2005 â November 30, 2005)  downloaded, named as Salesforce_MSA_40\n",
            " Salesforce MSA (February 28, 2005 â July 7, 2005)  downloaded, named as Salesforce_MSA_41\n",
            " Salesforce MSA (December 30, 2004 â February 27, 2005)  downloaded, named as Salesforce_MSA_42\n",
            " Salesforce MSA (October 8, 2004 â December 29, 2004)  downloaded, named as Salesforce_MSA_43\n",
            " Salesforce MSA (July 30, 2004 â October 7, 2004)  downloaded, named as Salesforce_MSA_44\n",
            " Salesforce MSA (March 21, 2004 â July 29, 2004)  downloaded, named as Salesforce_MSA_45\n",
            " Salesforce MSA (November 2, 2003 â March 20, 2004)  downloaded, named as Salesforce_MSA_46\n",
            " Salesforce MSA (September 16, 2003 â November 1, 2003)  downloaded, named as Salesforce_MSA_47\n",
            " Salesforce MSA (June 30, 2003 â September 15, 2003)  downloaded, named as Salesforce_MSA_48\n",
            " Salesforce MSA (February 20, 2003 â June 29, 2003)  downloaded, named as Salesforce_MSA_49\n",
            " Salesforce MSA (April 30, 2002 â February 19, 2003)  downloaded, named as Salesforce_MSA_50\n",
            " Salesforce MSA (April 1, 2002 â April 29, 2002)  downloaded, named as Salesforce_MSA_51\n",
            " Salesforce MSA (February 15, 2002 â March 31, 2002)  downloaded, named as Salesforce_MSA_52\n",
            " Salesforce MSA (January 1, 2002 â February 14, 2002)  downloaded, named as Salesforce_MSA_53\n",
            " Salesforce MSA (1999 â December 31, 2001)  downloaded, named as Salesforce_MSA_54\n",
            "Downloaded 54 files\n"
          ]
        }
      ]
    },
    {
      "cell_type": "markdown",
      "source": [
        "### **2. Extracting Text From PDF Files**\n",
        "\n",
        "Below are the codes to define a function to extract text from a PDF file:"
      ],
      "metadata": {
        "id": "IslAeU9pfYZs"
      }
    },
    {
      "cell_type": "code",
      "source": [
        "!pip install pdfminer.six"
      ],
      "metadata": {
        "id": "X3Dili246TIC"
      },
      "execution_count": null,
      "outputs": []
    },
    {
      "cell_type": "code",
      "source": [
        "# import libraries for extracting the text\n",
        "from IPython.lib.pretty import StringIO\n",
        "from io import StringIO\n",
        "from pdfminer.pdfinterp import PDFResourceManager, PDFPageInterpreter\n",
        "from pdfminer.converter import TextConverter\n",
        "from pdfminer.layout import LAParams\n",
        "from pdfminer.pdfpage import PDFPage"
      ],
      "metadata": {
        "id": "LgpZPPEL6S8u"
      },
      "execution_count": null,
      "outputs": []
    },
    {
      "cell_type": "code",
      "source": [
        "def extract_text_from_pdf(pdf_name):\n",
        "  '''\n",
        "  This function takes in a PDF file name as a parameter and returns the text content of the PDF file as a string\n",
        "  \n",
        "  '''\n",
        "\n",
        "  with open(str(pdf_name)+'.pdf', 'rb') as file:\n",
        "    # create a PDF resource manager object to store resources\n",
        "    resource_manager = PDFResourceManager()\n",
        "\n",
        "    # create a string buffer object to store the extracted text from the PDF file\n",
        "    string_io = StringIO()\n",
        "\n",
        "    # create a text converter object to convert the PDF content into text\n",
        "    converter = TextConverter(resource_manager, string_io, codec='utf-8', laparams = LAParams(char_margin=5, all_texts=True))\n",
        "\n",
        "    # creates a PDF page interpreter object to process the PDF pages and extract the text content\n",
        "    interpreter = PDFPageInterpreter(resource_manager, converter)\n",
        "\n",
        "    # extract the text from each page\n",
        "    for page in PDFPage.get_pages(file, caching=True, check_extractable=True):\n",
        "      interpreter.process_page(page)\n",
        "\n",
        "    # get the text content stored in the string_io buffer object\n",
        "    text = string_io.getvalue()\n",
        "  \n",
        "  return text"
      ],
      "metadata": {
        "id": "yPW3TF275j7F"
      },
      "execution_count": null,
      "outputs": []
    },
    {
      "cell_type": "markdown",
      "source": [
        "### **3. Cleaning the Extracted Text Using Regular Expression**\n",
        "\n",
        "There may be some messy formatting on the text, caused during extracting the text from PDF files (for example, extra spaces between words). Cleaning up the messy formatting can help the AI model better tokenize the text into sentences, and also reduce the influence of different formatting when comparing two documents. \n",
        "\n",
        "In addition, there may be some unique characteristics in the particular files we are dealing with (for example, the footnotes of each page). This unwanted information should be removed before we compare two documents if we want the result of the comparison to be less redundant. In this situation, the cleaning rules need to be set up on a case-by-case basis, so some parts of the code below are customized to clean Salesforce MSA files based on the unique characteristics of these files."
      ],
      "metadata": {
        "id": "G5xW4eCMUYWL"
      }
    },
    {
      "cell_type": "code",
      "source": [
        "# import library for cleaning string\n",
        "import re"
      ],
      "metadata": {
        "id": "LE6C3EMpMnjz"
      },
      "execution_count": null,
      "outputs": []
    },
    {
      "cell_type": "code",
      "source": [
        "def clean_text(text_string):\n",
        "  '''\n",
        "  This function takes a string and returned the cleaned string based on the regex rules\n",
        "\n",
        "  '''\n",
        "\n",
        "  # remove line breakers\n",
        "  cleaned_text = text_string.replace('\\n', '')\n",
        "\n",
        "  # remove extra whitespaces\n",
        "  cleaned_text = re.sub(r'\\s+', ' ', cleaned_text)\n",
        "\n",
        "  # clean extra whitespaces before a set of punctuations\n",
        "  cleaned_text = re.sub(r'\\s+([-.,;:)#/&*”>%@])', r'\\1', cleaned_text)\n",
        "\n",
        "  # clean extra whitespaces after a set of punctuations\n",
        "  cleaned_text = re.sub(r'([-(#/&*“<@]+)(\\s+)', r'\\1', cleaned_text)\n",
        "\n",
        "  # remove \"Back to Top\" navigator in the pdf file\n",
        "  cleaned_text = cleaned_text.replace('Back to Top', '')\n",
        "\n",
        "  # remove page footing of each page\n",
        "  cleaned_text = re.sub(r'Page \\d{1,2} of \\d{1,2}', '', cleaned_text)\n",
        "  cleaned_text = re.sub(r'SFDC-MSA, [A-Za-z]+ \\d{1,2}, \\d{4}', '', cleaned_text)\n",
        "  cleaned_text = re.sub(r'SFDC-MSA [A-Za-z]+ \\d{1,2}, \\d{4}', '', cleaned_text)\n",
        "  cleaned_text = re.sub(r'SFDC-MSA [A-Za-z]+ \\d{4}', '', cleaned_text)\n",
        "  cleaned_text = re.sub(r'SFDC-MSA [A-Za-z]+ \\d{1,2} \\d{4}', '', cleaned_text)\n",
        "  \n",
        "  # remove extra whitespaces\n",
        "  cleaned_text = re.sub(r'\\s+', ' ', cleaned_text)\n",
        "\n",
        "  return cleaned_text"
      ],
      "metadata": {
        "id": "0cRSpZfWqh3h"
      },
      "execution_count": null,
      "outputs": []
    },
    {
      "cell_type": "markdown",
      "source": [
        "### **4. Using A Pre-trained NLP Model to Tokenize Text into Sentences**\n",
        "\n",
        "After cleaning up the text, the next step is to split the text into sentences so that we can compare sentences from two different MSA.  \n",
        "\n",
        "spaCy is a popular NLP library that provides a pre-trained sentence tokenizer that is used to split the text into individual sentences. The spaCy sentence tokenizer uses complex algorithms and machine learning models to accurately identify sentence boundaries in text data. It can handle a wide variety of text data, including text in multiple languages, text with different writing styles, and text with complex punctuation and sentence structures."
      ],
      "metadata": {
        "id": "1bc1mW0sf_nq"
      }
    },
    {
      "cell_type": "code",
      "source": [
        "!pip install spacy"
      ],
      "metadata": {
        "id": "KAAh6MhxGoIg"
      },
      "execution_count": null,
      "outputs": []
    },
    {
      "cell_type": "code",
      "source": [
        "import spacy"
      ],
      "metadata": {
        "id": "AYR12sJkuhMe"
      },
      "execution_count": null,
      "outputs": []
    },
    {
      "cell_type": "code",
      "source": [
        "# define a function to use spaCy's pre-trained sentence tokenizer model\n",
        "\n",
        "def sentencize_text(text):\n",
        "  '''\n",
        "  This function takes in a string of text and returns a list of sentences.\n",
        "  \n",
        "  '''\n",
        "  # load the English NLP model\n",
        "  nlp = spacy.load(\"en_core_web_sm\")\n",
        "  \n",
        "  # use pipeline to process the text\n",
        "  doc = nlp(text)\n",
        "  sentences_list = [sent.text.strip() for sent in doc.sents]\n",
        "\n",
        "  return sentences_list"
      ],
      "metadata": {
        "id": "wKxT92CnMqvh"
      },
      "execution_count": null,
      "outputs": []
    },
    {
      "cell_type": "markdown",
      "source": [
        "### **5. Comparing Two Files Sentence by Sentence**\n",
        "\n",
        "Below are the code to define a function to compare the text of 2 PDF files sentence by sentence:"
      ],
      "metadata": {
        "id": "a7ryq6Rt8bWQ"
      }
    },
    {
      "cell_type": "code",
      "source": [
        "# import the library for string by string comparing\n",
        "import difflib"
      ],
      "metadata": {
        "id": "CMhabUCxb0oH"
      },
      "execution_count": null,
      "outputs": []
    },
    {
      "cell_type": "code",
      "source": [
        "# define a function to identify different sentences in 2 PDF files\n",
        "\n",
        "def find_different_sentences():\n",
        "  '''\n",
        "  This function takes two PDF file names from the user and prints out the different sentences between the two files.\n",
        "    \n",
        "  '''\n",
        "\n",
        "  # prompt the user to enter the names of two PDF files\n",
        "  pdf_name_1 = input('Enter the first file name and press enter: ')\n",
        "  pdf_name_2 = input('Enter the second file name and press enter: ')\n",
        "\n",
        "  # extract the text from the two PDF files\n",
        "  pdf1_text = extract_text_from_pdf(pdf_name_1)\n",
        "  pdf2_text = extract_text_from_pdf(pdf_name_2)\n",
        "\n",
        "  # clean the extracted text\n",
        "  pdf1_cleaned_text = clean_text(pdf1_text)\n",
        "  pdf2_cleaned_text = clean_text(pdf2_text)\n",
        "\n",
        "  # split the cleaned text into sentences\n",
        "  pdf1_sentences = sentencize_text(pdf1_cleaned_text)\n",
        "  pdf2_sentences = sentencize_text(pdf2_cleaned_text)\n",
        "\n",
        "  # compare the sentences of the two PDF files and stores the differences in a list\n",
        "  diff = difflib.ndiff(pdf1_sentences, pdf2_sentences)\n",
        "\n",
        "  # store the different sentences in a list\n",
        "  differences = [line for line in diff if (line.startswith('- ') or line.startswith('+ '))]\n",
        "\n",
        "  # print the different sentences along with the file name they belong to\n",
        "  if differences:\n",
        "    print(\"Below are the differences:\\n\")\n",
        "\n",
        "    for line in differences:\n",
        "      if line.startswith('- '):\n",
        "        line = 'Sentence in the ' + str(pdf_name_1) + ':' + line[1:] + '\\n'\n",
        "        print(line)\n",
        "      else:\n",
        "        line = 'Sentence in the ' + str(pdf_name_2) + ':' + line[1:] + '\\n'\n",
        "        print(line)\n",
        "\n",
        "  else:\n",
        "    print(\"The PDF files are identical\")"
      ],
      "metadata": {
        "id": "pn6HpVQ6Xt21"
      },
      "execution_count": null,
      "outputs": []
    },
    {
      "cell_type": "markdown",
      "source": [
        "### **6. Testing with Salesforce MSA Files**\n",
        "\n",
        "Below are the code to test the function `find_different_sentences()` with the Salesforce MSA files:\n",
        "\n",
        "\n"
      ],
      "metadata": {
        "id": "FhvaEFc0BAob"
      }
    },
    {
      "cell_type": "code",
      "source": [
        "find_different_sentences()"
      ],
      "metadata": {
        "colab": {
          "base_uri": "https://localhost:8080/"
        },
        "id": "5Rh8auZOvOwh",
        "outputId": "b6770ac1-d751-426e-925e-aa8d23c227c9"
      },
      "execution_count": null,
      "outputs": [
        {
          "output_type": "stream",
          "name": "stdout",
          "text": [
            "Enter the first file name and press enter: Salesforce_MSA_1\n",
            "Enter the second file name and press enter: Salesforce_MSA_2\n",
            "Below are the differences:\n",
            "\n",
            "Sentence in the Salesforce_MSA_1: This Agreement was last updated on December 19, 2022.\n",
            "\n",
            "Sentence in the Salesforce_MSA_2: This Agreement was last updated on November 18, 2022.\n",
            "\n",
            "Sentence in the Salesforce_MSA_1: With respect to Customers domiciled in the United Kingdom, Section 12.3 “Entire Agreement and Order of Precedence” of this Agreement is replaced with the following section: 12.3 Entire Agreement and Order of Precedence.\n",
            "\n",
            "Sentence in the Salesforce_MSA_2: Section 12.3 “Entire Agreement and Order of Precedence” of this Agreement is replaced with the following section: 12.3 Entire Agreement and Order of Precedence.\n",
            "\n"
          ]
        }
      ]
    },
    {
      "cell_type": "code",
      "source": [
        "find_different_sentences()"
      ],
      "metadata": {
        "colab": {
          "base_uri": "https://localhost:8080/"
        },
        "id": "lVgz3SKr8R7w",
        "outputId": "3059cd12-562e-4854-dc18-75159ae8c985"
      },
      "execution_count": null,
      "outputs": [
        {
          "output_type": "stream",
          "name": "stdout",
          "text": [
            "Enter the first file name and press enter: Salesforce_MSA_2\n",
            "Enter the second file name and press enter: Salesforce_MSA_3\n",
            "Below are the differences:\n",
            "\n",
            "Sentence in the Salesforce_MSA_2: This Agreement was last updated on November 18, 2022.\n",
            "\n",
            "Sentence in the Salesforce_MSA_3: This Agreement was last updated on, September 15, 2022.\n",
            "\n",
            "Sentence in the Salesforce_MSA_2: Customer will not permit any User to access or use any Service or Content in a U.S.-embargoed country or region (currently the Crimea, Luhansk or Donetsk regions, Cuba, Iran, North Korea, or Syria) or as may be updated from time to time at https://www.salesforce.com/company/legal/compliance/or in violation of any U.S. export law or regulation.\n",
            "\n",
            "Sentence in the Salesforce_MSA_3: Customer will not permit any User to access or use any Service or Content in a U.S.-embargoed country or region (currently the Crimea, Luhansk or Donetsk regions, Cuba, Iran, North Korea, Sudan or Syria) or as may be updated from time to time at https://www.salesforce.com/company/legal/compliance/or in violation of any U.S. export law or regulation.\n",
            "\n",
            "Sentence in the Salesforce_MSA_2: SFDC reserves the right to provide any invoice copy in electronic form via email in addition to the electronic invoicing described herein. 12.17 Local Law Requirements: United Kingdom.\n",
            "\n",
            "Sentence in the Salesforce_MSA_3: SFDC reserves the right to provide any invoice copy in electronic form via email in addition to the electronic invoicing described herein.\n",
            "\n",
            "Sentence in the Salesforce_MSA_2: Section 12.3 “Entire Agreement and Order of Precedence” of this Agreement is replaced with the following section: 12.3 Entire Agreement and Order of Precedence.\n",
            "\n",
            "Sentence in the Salesforce_MSA_2: This Agreement is the entire agreement between SFDC and Customer regarding Customer’s use of Services and Content and supersedes all prior and contemporaneous agreements, proposals or representations, written or oral, concerning its subject matter.\n",
            "\n",
            "Sentence in the Salesforce_MSA_2: No representation, undertaking or promise shall be taken to have been given or be implied from anything said or written in negotiations between the parties prior to this Agreement except as expressly stated in this Agreement.\n",
            "\n",
            "Sentence in the Salesforce_MSA_2: Neither party shall have any remedy in respect of any untrue statement made by the other upon which that party relied in entering this Agreement (unless such untrue statement was made fraudulently) and that party's only remedies shall be for breach of contract as provided in this Agreement.\n",
            "\n",
            "Sentence in the Salesforce_MSA_2: The parties agree that any term or condition stated in a Customer purchase order or in any other Customer order documentation (excluding Order Forms) is void.\n",
            "\n",
            "Sentence in the Salesforce_MSA_2: In the event of any conflict or inconsistency among the following documents, the order of precedence shall be: (1) the applicable Order Form, (2) this Agreement, and (3) the Documentation.\n",
            "\n",
            "Sentence in the Salesforce_MSA_2: Titles and headings of sections of this Agreement are for convenience only and shall not affect the construction of any provision of this Agreement.\n",
            "\n"
          ]
        }
      ]
    },
    {
      "cell_type": "markdown",
      "source": [
        "In the output above, there is a chunk of \"Sentence in the Salesforce_MSA_2\" without corresponding \"Sentence in the Salesforce_MSA_3\". This means that these lines only appear in Salesforce_MSA_2 - they are newly added content in the newer version of MSA."
      ],
      "metadata": {
        "id": "8U65KiJzbACk"
      }
    },
    {
      "cell_type": "code",
      "source": [
        "find_different_sentences()"
      ],
      "metadata": {
        "colab": {
          "base_uri": "https://localhost:8080/"
        },
        "id": "Cd-jGwi7JCfK",
        "outputId": "75527a9e-b825-46e4-aaca-7276486192c2"
      },
      "execution_count": null,
      "outputs": [
        {
          "output_type": "stream",
          "name": "stdout",
          "text": [
            "Enter the first file name and press enter: Salesforce_MSA_3\n",
            "Enter the second file name and press enter: Salesforce_MSA_4\n",
            "Below are the differences:\n",
            "\n",
            "Sentence in the Salesforce_MSA_3: This Agreement was last updated on, September 15, 2022.\n",
            "\n",
            "Sentence in the Salesforce_MSA_4: This Agreement was last updated on August 15, 2022.\n",
            "\n",
            "Sentence in the Salesforce_MSA_3: During an applicable subscription term (a) this Agreement, the Order Forms and the Documentation will accurately describe the applicable administrative, physical, and technical safeguards for protection of the security, confidentiality and integrity of Customer Data, (b) SFDC will not materially decrease the overall security of the Services, (c) the Services will perform materially in accordance with the applicable Documentation, and (d) subject to the “Integration with Non-SFDC Applications” section above, SFDC will not materially decrease the overall functionality of the Services.\n",
            "\n",
            "Sentence in the Salesforce_MSA_4: Pendant une période de souscription en vigueur, (a) le présent Contrat, les Formulaires de Commande et la Documentation décriront de manière précise les mesures de protection techniques, physiques et administratives mises en œuvre pour assurer la sécurité, la confidentialité et l'intégrité des Données du Client, (b) SFDC ne réduira pas de manière substantielle la sécurité globale des Services, (c) les Services fonctionneront substantiellement en conformité avec la Documentation applicable, et (d) sous réserve des stipulations de l'article « Intégration avec des Applications non SFDC » ci-dessus, SFDC ne réduira pas de manière substantielle les fonctionnalités générales des Services.\n",
            "\n",
            "Sentence in the Salesforce_MSA_3: (4) a new Section 12.12.3 is added as follows: 12.12.3 Language.\n",
            "\n",
            "Sentence in the Salesforce_MSA_4: (4) a new Section 12.12.3 is added as follows: 12.12.3 Langue.\n",
            "\n",
            "Sentence in the Salesforce_MSA_3: The Parties agree that this Agreement and/or any Documentation and other information or policies referenced or attached to this Agreement may be in English.\n",
            "\n",
            "Sentence in the Salesforce_MSA_4: Les parties conviennent que le Contrat et/ou toute Documentation ainsi que tout autre information ou politique référencée ou attachée à ce Contrat peuvent être en langue anglaise.\n",
            "\n",
            "Sentence in the Salesforce_MSA_3: (5) a new Section 12.12.4 is added as follows: 12.12.4 Independence Towards Third Parties.\n",
            "\n",
            "Sentence in the Salesforce_MSA_4: (5) a new Section 12.12.4 is added as follows: 12.12.4 Indépendance vis-à-vis des tiers.\n",
            "\n",
            "Sentence in the Salesforce_MSA_3: For the avoidance of doubt, any third parties, including those Customer contracted with to provide consulting and/or implementation services in relation to the Services, are independent of SFDC and SFDC shall in no event be responsible for their acts or omissions, including when such acts or omissions impact Customer’s use of the Services.\n",
            "\n",
            "Sentence in the Salesforce_MSA_4: A toutes fins utiles, il est précisé que tout tiers, en ce compris ceux avec lesquels le Client a contracté pour fournir des services de conseil et/ou d’intégration en lien avec les Services, sont indépendants de SFDC et\n",
            "\n",
            "Sentence in the Salesforce_MSA_4: SFDC ne sera en aucun cas responsable de leurs faits, y compris lorsque ces faits impactent l'utilisation des Services par le Client.\n",
            "\n",
            "Sentence in the Salesforce_MSA_3: 8.4 Remedies Resulting from Defects.\n",
            "\n",
            "Sentence in the Salesforce_MSA_4: 8.4 Remedies resulting from Defects.\n",
            "\n",
            "Sentence in the Salesforce_MSA_3: In the “Refund or Payment upon Termination” section, sentence 1 and sentence 3 shall apply accordingly.\n",
            "\n",
            "Sentence in the Salesforce_MSA_4: The “Refund or Payment upon Termination” section, sentence and 1 and sentence 3 shall apply accordingly.\n",
            "\n"
          ]
        }
      ]
    },
    {
      "cell_type": "code",
      "source": [
        "find_different_sentences()"
      ],
      "metadata": {
        "colab": {
          "base_uri": "https://localhost:8080/"
        },
        "id": "_NLsHAKrJSIi",
        "outputId": "69cb8a96-179d-4385-8f4a-87c5d30006fe"
      },
      "execution_count": null,
      "outputs": [
        {
          "output_type": "stream",
          "name": "stdout",
          "text": [
            "Enter the first file name and press enter: Salesforce_MSA_4\n",
            "Enter the second file name and press enter: Salesforce_MSA_5\n",
            "Below are the differences:\n",
            "\n",
            "Sentence in the Salesforce_MSA_4: This Agreement was last updated on August 15, 2022.\n",
            "\n",
            "Sentence in the Salesforce_MSA_5: This Agreement was last updated on August 4, 2022.\n",
            "\n",
            "Sentence in the Salesforce_MSA_4: Legal Department-Level 1, Block A, Nova Atria North, Sandyford Business District, Dublin 18, Ireland Salesforce.com Sarl, Route de la Longeraie 9, Morges, 1110, Switzerland, attn: Director, EMEA Sales Operations, with a copy to attn.:\n",
            "\n",
            "Sentence in the Salesforce_MSA_5: Legal Department-3rd and 4th Floor, 1 Central Park Block G, Central Park, Leopardstown, Dublin 18, Ireland Salesforce.com Sarl, Route de la Longeraie 9, Morges, 1110, Switzerland, attn: Director, EMEA Sales Operations, with a copy to attn.:\n",
            "\n"
          ]
        }
      ]
    },
    {
      "cell_type": "code",
      "source": [
        "find_different_sentences()"
      ],
      "metadata": {
        "colab": {
          "base_uri": "https://localhost:8080/"
        },
        "id": "0H9zl0_XvUr9",
        "outputId": "63eeeedd-facd-4b3b-8d64-781d8a74be2d"
      },
      "execution_count": null,
      "outputs": [
        {
          "output_type": "stream",
          "name": "stdout",
          "text": [
            "Enter the first file name and press enter: Salesforce_MSA_5\n",
            "Enter the second file name and press enter: Salesforce_MSA_6\n",
            "Below are the differences:\n",
            "\n",
            "Sentence in the Salesforce_MSA_5: This Agreement was last updated on August 4, 2022.\n",
            "\n",
            "Sentence in the Salesforce_MSA_6: This Agreement was last updated on May 16, 2022.\n",
            "\n",
            "Sentence in the Salesforce_MSA_5: Customer will defend SFDC and its Affiliates against any claim, demand, suit or proceeding made or brought against SFDC by a third party (a) alleging that the combination of a Non-SFDC Application or configuration provided by Customer and used with the Services, infringes or misappropriates such third party’s intellectual property rights, or (b) arising from (i) Customer’s use of the Services or Content in an unlawful manner or in violation of the Agreement, the Documentation, or Order Form, (ii) any Customer Data or Customer’s use of Customer Data with the Services, or (iii) a Non-SFDC Application provided by Customer(each a “Claim Against SFDC”), and will indemnify SFDC from any damages, attorney fees and costs finally awarded against SFDC as a result of, or for any amounts paid by SFDC under a settlement approved by Customer in writing of, a Claim Against SFDC, provided SFDC (A) promptly gives Customer written notice of the Claim Against SFDC, (B) gives Customer sole control of the defense and settlement of the Claim Against SFDC (except that Customer may not settle any Claim Against SFDC unless it unconditionally releases SFDC of all liability), and (C) gives Customer all reasonable assistance, at Customer’s expense.\n",
            "\n",
            "Sentence in the Salesforce_MSA_6: Customer will defend SFDC and its Affiliates against any claim, demand, suit or proceeding made or brought against SFDC by a third party (a) alleging that the combination of a Non-SFDC Application or configuration provided by Customer and used with the Services, infringes or misappropriates such third party’s intellectual property rights, or (b) arising from (i) Customer’s use of the Services or Content in an unlawful manner or in violation of the Agreement, the Documentation, or Order Form, (ii) any Customer Data or Customer’s use of Customer Data with the Services, or (iii) a Non-SFDC Application provided by Customer(each a “Claim Against SFDC”), and will indemnify SFDC from any damages, attorney fees and costs finally awarded against SFDC as a result of, or for any amounts paid by SFDC under a settlement approved by Customer in writing of, a Claim Against SFDC, provided SFDC (a) promptly gives Customer written notice of the Claim Against SFDC, (b) gives Customer sole control of the defense and settlement of the Claim Against SFDC (except that Customer may not settle any Claim Against SFDC unless it unconditionally releases SFDC of all liability), and (c) gives Customer all reasonable assistance, at Customer’s expense.\n",
            "\n",
            "Sentence in the Salesforce_MSA_5: Customer will not permit any User to access or use any Service or Content in a U.S.-embargoed country or region (currently the Crimea, Luhansk or Donetsk regions, Cuba, Iran, North Korea, Sudan or Syria) or as may be updated from time to time at https://www.salesforce.com/company/legal/compliance/or in violation of any U.S. export law or regulation.\n",
            "\n",
            "Sentence in the Salesforce_MSA_6: Customer will not permit any User to access or use any Service or Content in a U.S.-embargoed country or region (currently Cuba, Iran, North Korea, Syria or Crimea) or in violation of any U.S. export law or regulation.\n",
            "\n",
            "Sentence in the Salesforce_MSA_5: For Customers domiciled in North or South America If Customer is domiciled in: Any country other than Brazil or Canada The SFDC entity entering into this Agreement is: Salesforce, Inc. (f/k/a salesforce.com, inc.), a Delaware corporation Brazil Canada Salesforce Tecnologia Ltda. salesforce.com\n",
            "\n",
            "Sentence in the Salesforce_MSA_5: Canada Corporation, a Nova Scotia corporation Notices should be addressed to: Governing law is:\n",
            "\n",
            "Sentence in the Salesforce_MSA_5: Courts with Salesforce Tower, 415 Mission Street, 3rd Floor, San Francisco, California, 94105, U.S.A., attn: VP, Worldwide Sales Operations, with a copy to attn: General Counsel Av.\n",
            "\n",
            "Sentence in the Salesforce_MSA_6: If Customer is domiciled in: The United States of America, Mexico or a Country in Central or South America or the Caribbean The SFDC entity entering into this Agreement is: Salesforce, Inc. (f/k/a salesforce.com, inc.), a Delaware corporation Notices should be addressed to: Governing law is: Courts with Salesforce Tower, 415 Mission Street, 3rd Floor, San Francisco, California, 94105, U.S.A., attn: VP, Worldwide Sales Operations, with a copy to attn: General Counsel.\n",
            "\n",
            "Sentence in the Salesforce_MSA_6: California and controlling United States federal law exclusive jurisdiction are: San Francisco, California, U.S.A. Brazil Canada France Germany\n",
            "\n",
            "Sentence in the Salesforce_MSA_6: India Italy Spain Salesforce Tecnologia Ltda.\n",
            "\n",
            "Sentence in the Salesforce_MSA_6: salesforce.com\n",
            "\n",
            "Sentence in the Salesforce_MSA_6: Canada Corporation, a Nova Scotia corporation salesforce.com France, a French S.A.S company with a share capital of 37,000 €, registered with the Paris Trade Registry under number 483 993 226 RCS Paris, Registered office: 3 Avenue Octave Gréard, 75007 Paris, France salesforce.com Germany GmbH, a limited liability company, incorporated in Germany Salesforce.com India Private Limited, a company incorporated under the provisions of the Companies Act, 1956 of India Salesforce.com Italy S.r.l., an Italian limited liability company having its registered address at Piazza Filippo Meda 5, 20121 Milan (MI), VAT/Fiscal code n. 04959160963 Salesforce Systems Spain, S.L., a limited liability company incorporated in Spain United Kingdom Salesforce UK Limited, a limited liability company incorporated in England Brazil São Paulo, SP, Brazil Ontario and controlling Canadian federal law Toronto, Ontario, Canada France Paris, France Germany Munich, Germany India Bangalore, India Italy Milan, Italy Spain Madrid, Spain England London, England Av.\n",
            "\n",
            "Sentence in the Salesforce_MSA_5: Jornalista Roberto Marinho, 85, 14º Andar-Cidade Monções, CEP 04576-010 São Paulo-SP Salesforce Tower, 415 Mission Street, 3rd Floor, San Francisco, California, 94105, U.S.A., attn: VP, Worldwide Sales Operations, with a copy to attn:\n",
            "\n",
            "Sentence in the Salesforce_MSA_6: Jornalista Roberto Marinho, 85, 14º Andar-Cidade Monções, CEP 04576-010 São Paulo-SP Salesforce Tower, 415 Mission Street, 3rd Floor, San Francisco, California, 94105, U.S.A., attn: VP, Worldwide Sales Operations, with a copy to attn: General Counsel.\n",
            "\n",
            "Sentence in the Salesforce_MSA_6: Salesforce.com Sarl, Route de la Longeraie 9, Morges, 1110, Switzerland, attn: Director, EMEA Sales Operations, with a copy to attn.:\n",
            "\n",
            "Sentence in the Salesforce_MSA_6: Legal Department-Service Juridique, 3 Avenue Octave Gréard, 75007 Paris, France.\n",
            "\n",
            "Sentence in the Salesforce_MSA_6: Salesforce.com Sarl, Route de la Longeraie 9, Morges, 1110, Switzerland, attn: Director, EMEA Sales Operations, with a copy to attn.:\n",
            "\n",
            "Sentence in the Salesforce_MSA_5: General Counsel exclusive jurisdiction are: California and controlling United States federal law San Francisco, California, U.S.A. Brazil Ontario and controlling Canadian federal law São Paulo, SP, Brazil Toronto, Ontario, Canada For Customers domiciled in Europe, the Middle East, or Africa Notices should be addressed to: The SFDC entity entering into this Agreement is: SFDC Ireland Limited, a limited liability company incorporated in Ireland England Governing law is: Courts with exclusive jurisdiction are: London, England France Paris, France Salesforce.com Sarl, Route de la Longeraie 9, Morges, 1110, Switzerland, attn: Director, EMEA Sales Operations, with a copy to attn.:\n",
            "\n",
            "Sentence in the Salesforce_MSA_5: Legal Department-3rd and 4th Floor, 1 Central Park Block G, Central Park, Leopardstown, Dublin 18, Ireland Salesforce.com Sarl, Route de la Longeraie 9, Morges, 1110, Switzerland, attn: Director, EMEA Sales Operations, with a copy to attn.:\n",
            "\n",
            "Sentence in the Salesforce_MSA_5: Legal Department-Service Juridique, 3 Avenue Octave Gréard, 75007 Paris, France If Customer is domiciled in: Any country other than France, Germany, Italy, Spain, or the United Kingdom France Germany salesforce.com\n",
            "\n",
            "Sentence in the Salesforce_MSA_5: France, a French S.A.S company with a share capital of 37,000 €, registered with the Paris Trade Registry under number 483 993 226 RCS Paris, Registered office: 3 Avenue Octave Gréard, 75007 Paris, France salesforce.com Germany GmbH, a limited liability company, incorporated in Germany Germany Munich, Germany Salesforce.com Sarl, Route de la Longeraie 9, Morges, 1110, Switzerland, attn: Director, EMEA Sales Operations, with a copy to attn.:\n",
            "\n",
            "Sentence in the Salesforce_MSA_5: Legal Department-Erika-Mann-Strasse 31-37, 80636 München, Germany Italy Spain salesforce.com\n",
            "\n",
            "Sentence in the Salesforce_MSA_6: Legal Department-Erika-Mann-Strasse 31-37, 80636 München, Germany.\n",
            "\n",
            "Sentence in the Salesforce_MSA_6: Salesforce.com India Private Limited Torrey Pines, 3rd Floor, Embassy Golflinks Software Business Park Bangalore Karnataka 560071, India Salesforce.com Sarl, Route de la Longeraie 9, Morges, 1110, Switzerland, attn: Director, EMEA Sales Operations, with a copy to attn.:\n",
            "\n",
            "Sentence in the Salesforce_MSA_5: Italy S.r.l., an Italian limited liability company having its registered address at Piazza Filippo Meda 5, 20121 Milan (MI), VAT/Fiscal code n. 04959160963\n",
            "\n",
            "Sentence in the Salesforce_MSA_5: Salesforce Systems Spain, S.L., a limited liability company incorporated in Spain United Kingdom Salesforce UK Limited, a limited liability company incorporated in England Salesforce.com Sarl, Route de la Longeraie 9, Morges, 1110, Switzerland, attn: Director, EMEA Sales Operations, with a copy to attn.:\n",
            "\n",
            "Sentence in the Salesforce_MSA_5: Legal Department Italy Milan, Italy Spain Madrid, Spain England London, England Salesforce.com Sarl, Route de la Longeraie 9, Morges, 1110, Switzerland, attn: Director, EMEA Sales Operations, with a copy to attn.:\n",
            "\n",
            "Sentence in the Salesforce_MSA_6: Legal Department Salesforce.com Sarl, Route de la Longeraie 9, Morges, 1110, Switzerland, attn: Director, EMEA Sales Operations, with a copy to attn.:\n",
            "\n",
            "Sentence in the Salesforce_MSA_5: Legal Department-Paseo de la Castellana 79, Madrid, 28046, Spain Salesforce.com Sarl, Route de la Longeraie 9, Morges, 1110, Switzerland, attn: Director, EMEA Sales Operations, with a copy to attn: Legal Department, Salesforce UK Limited, Floor 26 Salesforce Tower, 110 Bishopsgate, London, EC2N 4AY, United Kingdom For Customers domiciled in Asia or the Pacific Region If Customer is domiciled in: Any country other than Australia, India, Japan, or New Zealand Australia or New Zealand The SFDC entity entering into this Agreement is: salesforce.com Singapore Pte Ltd, a Singapore private limited company SFDC Australia Pty Ltd India Japan salesforce.com\n",
            "\n",
            "Sentence in the Salesforce_MSA_5: India Private Limited, a company incorporated under the provisions of the Companies Act, 1956 of India Salesforce Japan Co., Ltd. (f/k/a Kabushiki Kaisha Salesforce.com), a Japan corporation Notices should be addressed to: Governing law is: Courts with exclusive jurisdiction are: Singapore Singapore New South Wales, Australia New South Wales, Australia India Bangalore, India Japan Tokyo, Japan 5 Temasek Boulevard#13-01, Suntec Tower 5, Singapore, 038985, attn: Director, APAC Sales Operations, with a copy to attn:\n",
            "\n",
            "Sentence in the Salesforce_MSA_6: Legal Department-Paseo de la Castellana 79, Madrid, 28046, Spain Salesforce.com Sarl, Route de la Longeraie 9, Morges, 1110, Switzerland, attn: Director, EMEA Sales Operations, with a copy to attn: Legal Department, Salesforce UK Limited, Floor 26\n",
            "\n",
            "Sentence in the Salesforce_MSA_6: Salesforce A Country in Europe, the Middle East or Africa, other than France, Germany, Italy, Spain, and the United Kingdom Japan A Country in Asia or the Pacific region, other than Japan, Australia or New Zealand Australia or New Zealand SFDC Ireland Limited, a limited liability company incorporated in Ireland Salesforce Japan Co., Ltd. (f/k/a Kabushiki Kaisha Salesforce.com), a Japan corporation Salesforce.com Singapore Pte Ltd, a Singapore private limited company SFDC Australia Pty Ltd Tower, 110 Bishopsgate, London, EC2N 4AY, United Kingdom.\n",
            "\n",
            "Sentence in the Salesforce_MSA_6: Salesforce.com Sarl, Route de la Longeraie 9, Morges, 1110, Switzerland, attn: Director, EMEA Sales Operations, with a copy to attn.:\n",
            "\n",
            "Sentence in the Salesforce_MSA_6: Legal Department-3rd and 4th Floor, 1 Central Park Block G, Central Park, Leopardstown, Dublin 18, Ireland JP Tower 12F, 2-7-2 Marunouchi, Chiyoda-ku, Tokyo 100-7012, Japan, attn: Senior Director, Japan Sales Operations, with a copy to attn: General Counsel.\n",
            "\n",
            "Sentence in the Salesforce_MSA_6: 5 Temasek Boulevard#13-01, Suntec Tower 5, Singapore, 038985, attn: Director, APAC Sales Operations, with a copy to attn: General Counsel.\n",
            "\n",
            "Sentence in the Salesforce_MSA_5: General Counsel 201 Sussex Street, Darling Park Tower 3, Level 12, Sydney NSW 2000, attn: Senior Director, Finance with a copy to attn:\n",
            "\n",
            "Sentence in the Salesforce_MSA_6: 201 Sussex Street, Darling Park Tower 3, Level 12, Sydney NSW 2000, attn: Senior Director, Finance with a copy to attn: General Counsel.\n",
            "\n",
            "Sentence in the Salesforce_MSA_6: England London, England Japan Tokyo, Japan Singapore Singapore New South Wales, Australia New South Wales, Australia 12.10 Manner of Giving Notice.\n",
            "\n",
            "Sentence in the Salesforce_MSA_5: General Counsel salesforce.com\n",
            "\n",
            "Sentence in the Salesforce_MSA_5: India Private Limited Torrey Pines, 3rd Floor, Embassy Golflinks Software Business Park Bangalore Karnataka 560071, India 1-1-3, Marunouchi, Chiyoda-ku, Tokyo 100-0005, Japan, attn: Senior Director, Japan Sales Operations, with a copy to attn: General Counsel 12.10 Manner of Giving Notice.\n",
            "\n",
            "Sentence in the Salesforce_MSA_5: Customer acknowledges that SFDC has adopted an Organization, Management and Control Model pursuant to Legislative Decree 231/2001 to prevent crimes provided for therein and commits to comply with the principles contained in the above Legislative Decree 231/2001 and in the SFDC link:\n",
            "\n",
            "Sentence in the Salesforce_MSA_6: Customer acknowledges that SFDC has adopted an Organization, Management and Control Model pursuant to Legislative Decree 231/2001 to prevent crimes provided for therein and commits to comply with the principles contained in the above Legislative Decree 231/2001 and in the SFDC Code link: https://www.salesforce.com/content/dam/web/en_us/www/documents/legal/compliance%20documents/salesforce-code-of-cond uct.pdf.\n",
            "\n",
            "Sentence in the Salesforce_MSA_5: Code https://www.salesforce.com/content/dam/web/en_us/www/documents/legal/compliance%20documents/salesforce-code-of-cond uct.pdf.\n",
            "\n"
          ]
        }
      ]
    },
    {
      "cell_type": "code",
      "source": [
        "find_different_sentences()"
      ],
      "metadata": {
        "colab": {
          "base_uri": "https://localhost:8080/"
        },
        "id": "h0dbrFMOhjI4",
        "outputId": "5dac8c41-583d-4d08-afc6-b47de0a5a4eb"
      },
      "execution_count": null,
      "outputs": [
        {
          "output_type": "stream",
          "name": "stdout",
          "text": [
            "Enter the first file name and press enter: Salesforce_MSA_6\n",
            "Enter the second file name and press enter: Salesforce_MSA_7\n",
            "Below are the differences:\n",
            "\n",
            "Sentence in the Salesforce_MSA_6: This Agreement was last updated on May 16, 2022.\n",
            "\n",
            "Sentence in the Salesforce_MSA_7: This Agreement was last updated on April 4, 2022.\n",
            "\n",
            "Sentence in the Salesforce_MSA_6: California and controlling United States federal law exclusive jurisdiction are: San Francisco, California, U.S.A. Brazil Canada France Germany\n",
            "\n",
            "Sentence in the Salesforce_MSA_7: California and controlling United States federal law exclusive jurisdiction are: San Francisco, California, U.S.A. Brazil Canada France Germany Italy\n",
            "\n",
            "Sentence in the Salesforce_MSA_6: India Italy Spain Salesforce Tecnologia Ltda.\n",
            "\n",
            "Sentence in the Salesforce_MSA_7: Spain Salesforce Tecnologia Ltda.\n",
            "\n",
            "Sentence in the Salesforce_MSA_6: Canada Corporation, a Nova Scotia corporation salesforce.com France, a French S.A.S company with a share capital of 37,000 €, registered with the Paris Trade Registry under number 483 993 226 RCS Paris, Registered office: 3 Avenue Octave Gréard, 75007 Paris, France salesforce.com Germany GmbH, a limited liability company, incorporated in Germany Salesforce.com India Private Limited, a company incorporated under the provisions of the Companies Act, 1956 of India Salesforce.com Italy S.r.l., an Italian limited liability company having its registered address at Piazza Filippo Meda 5, 20121 Milan (MI), VAT/Fiscal code n. 04959160963 Salesforce Systems Spain, S.L., a limited liability company incorporated in Spain United Kingdom Salesforce UK Limited, a limited liability company incorporated in England Brazil São Paulo, SP, Brazil Ontario and controlling Canadian federal law Toronto, Ontario, Canada France Paris, France Germany Munich, Germany India Bangalore, India Italy Milan, Italy Spain Madrid, Spain England London, England Av.\n",
            "\n",
            "Sentence in the Salesforce_MSA_7: Canada Corporation, a Nova Scotia corporation salesforce.com France, a French S.A.S company with a share capital of 37,000 €, registered with the Paris Trade Registry under number 483 993 226 RCS Paris, Registered office: 3 Avenue Octave Gréard, 75007 Paris, France salesforce.com Germany GmbH, a limited liability company, incorporated in Germany Salesforce.com Italy S.r.l., an Italian limited liability company having its registered address at Piazza Filippo Meda 5, 20121 Milan (MI), VAT/Fiscal code n. 04959160963\n",
            "\n",
            "Sentence in the Salesforce_MSA_7: Salesforce Systems Spain, S.L., a limited liability company incorporated in Spain United Kingdom Salesforce UK Limited, a limited liability company incorporated in England A Country in Europe, the Middle East or Africa, other than France, Germany, SFDC Ireland Limited, a limited liability company incorporated in Ireland Av.\n",
            "\n",
            "Sentence in the Salesforce_MSA_6: Salesforce.com India Private Limited Torrey Pines, 3rd Floor, Embassy Golflinks Software Business Park Bangalore Karnataka 560071, India Salesforce.com Sarl, Route de la Longeraie 9, Morges, 1110, Switzerland, attn: Director, EMEA Sales Operations, with a copy to attn.:\n",
            "\n",
            "Sentence in the Salesforce_MSA_7: Salesforce.com Sarl, Route de la Longeraie 9, Morges, 1110, Switzerland, attn: Director, EMEA Sales Operations, with a copy to attn.:\n",
            "\n",
            "Sentence in the Salesforce_MSA_6: Legal Department-Paseo de la Castellana 79, Madrid, 28046, Spain Salesforce.com Sarl, Route de la Longeraie 9, Morges, 1110, Switzerland, attn: Director, EMEA Sales Operations, with a copy to attn: Legal Department, Salesforce UK Limited, Floor 26\n",
            "\n",
            "Sentence in the Salesforce_MSA_7: Legal Department-Paseo de la Castellana 79, Madrid, 28046, Spain Salesforce.com Sarl, Route de la Longeraie 9, Morges, 1110, Switzerland, attn: Director, EMEA Sales Operations, with a copy to attn: Legal Department, Salesforce UK Limited, Floor 26 Salesforce Tower, 110 Bishopsgate, London, EC2N 4AY, United Kingdom.\n",
            "\n",
            "Sentence in the Salesforce_MSA_6: Salesforce A Country in Europe, the Middle East or Africa, other than France, Germany, Italy, Spain, and the United Kingdom Japan A Country in Asia or the Pacific region, other than Japan, Australia or New Zealand Australia or New Zealand SFDC Ireland Limited, a limited liability company incorporated in Ireland Salesforce Japan Co., Ltd. (f/k/a Kabushiki Kaisha Salesforce.com), a Japan corporation Salesforce.com Singapore Pte Ltd, a Singapore private limited company SFDC Australia Pty Ltd Tower, 110 Bishopsgate, London, EC2N 4AY, United Kingdom.\n",
            "\n",
            "Sentence in the Salesforce_MSA_6: Legal Department-3rd and 4th Floor, 1 Central Park Block G, Central Park, Leopardstown, Dublin 18, Ireland JP Tower 12F, 2-7-2 Marunouchi, Chiyoda-ku, Tokyo 100-7012, Japan, attn: Senior Director, Japan Sales Operations, with a copy to attn: General Counsel.\n",
            "\n",
            "Sentence in the Salesforce_MSA_7: Legal Department-3rd and Brazil São Paulo, SP, Brazil Ontario and controlling Canadian federal law Toronto, Ontario, Canada France Paris, France Germany Munich, Germany Italy Milan, Italy Spain Madrid, Spain England London, England England London, England Italy, Spain, and the United Kingdom Japan A Country in Asia or the Pacific region, other than Japan, Australia or New Zealand Australia or New Zealand Salesforce Japan Co., Ltd. (f/k/a Kabushiki Kaisha Salesforce.com), a Japan corporation Salesforce.com Singapore Pte Ltd, a Singapore private limited company SFDC Australia Pty Ltd 4th Floor, 1 Central Park Block G, Central Park, Leopardstown, Dublin 18, Ireland JP Tower 12F, 2-7-2 Marunouchi, Chiyoda-ku, Tokyo 100-7012, Japan, attn: Senior Director, Japan Sales Operations, with a copy to attn: General Counsel.\n",
            "\n",
            "Sentence in the Salesforce_MSA_6: England London, England Japan Tokyo, Japan Singapore Singapore New South Wales, Australia New South Wales, Australia 12.10 Manner of Giving Notice.\n",
            "\n",
            "Sentence in the Salesforce_MSA_7: Japan Tokyo, Japan Singapore Singapore New South Wales, Australia New South Wales, Australia 12.10 Manner of Giving Notice.\n",
            "\n",
            "Sentence in the Salesforce_MSA_6: 12.16 Local Law Requirements: India.\n",
            "\n",
            "Sentence in the Salesforce_MSA_6: With respect to Customers domiciled in India, the following shall apply: 12.16.1 Venue and Arbitration A. Subject to the “Arbitration” Section below, the courts located in Bangalore, India shall have exclusive jurisdiction over any dispute relating to this Agreement, and each party hereby consents to the exclusive jurisdiction of such courts.\n",
            "\n",
            "Sentence in the Salesforce_MSA_6: Without prejudice to the generality of the foregoing, the courts at Bengaluru, India shall have exclusive jurisdiction on matters arising from, relating to, or in connection with an award made under the “Arbitration” Section below.\n",
            "\n",
            "Sentence in the Salesforce_MSA_6: B. Arbitration.\n",
            "\n",
            "Sentence in the Salesforce_MSA_6: In the event of any dispute, controversy or claim between the Parties hereto arising out of or relating to this Agreement, the Parties shall first seek to resolve the dispute in good faith through informal discussion.\n",
            "\n",
            "Sentence in the Salesforce_MSA_6: If such dispute, controversy, or claim cannot be resolved informally within a period of 10 (ten) business days from the date on which the dispute arose, the Parties agree that it shall be settled by binding arbitration to be held before a panel consisting of 3 (three arbitrators), where each Party shall appoint an arbitrator and such arbitrators shall appoint the third and presiding arbitrator.\n",
            "\n",
            "Sentence in the Salesforce_MSA_6: The arbitration shall be conducted in accordance with provisions of the (Indian) Arbitration and Conciliation Act, 1996, as amended from time to time (Arbitration Act).\n",
            "\n",
            "Sentence in the Salesforce_MSA_6: The seat and venue of the arbitration shall be Bangalore, India.\n",
            "\n",
            "Sentence in the Salesforce_MSA_6: The language of the arbitration shall be English.\n",
            "\n",
            "Sentence in the Salesforce_MSA_6: The Parties agree that any of them may seek interim measures under section 9 of the Arbitration Act, including injunctive relief in relation to the provisions of this Agreement or the Parties' performance of it from courts in Bengaluru, India, without prejudice to\n",
            "\n",
            "Sentence in the Salesforce_MSA_6: any other right\n",
            "\n",
            "Sentence in the Salesforce_MSA_6: the Parties may have under the Arbitration Act and other applicable laws.\n",
            "\n",
            "Sentence in the Salesforce_MSA_6: The arbitration panel's decision shall be final, conclusive and binding on the parties to the arbitration.\n",
            "\n",
            "Sentence in the Salesforce_MSA_6: The Parties shall each pay one-half of the costs and expenses of such arbitration, and each shall separately pay its respective counsel fees and expenses.\n",
            "\n",
            "Sentence in the Salesforce_MSA_6: The prevailing Party may, in the judgement of the arbitration panel, be entitled to recover its fees and expenses.\n",
            "\n",
            "Sentence in the Salesforce_MSA_6: All dispute resolution proceedings, all matters pertaining to such proceedings and all documents and submissions made pursuant thereto shall be strictly confidential and subject to the provisions of “Confidentiality” Section of this Agreement.\n",
            "\n",
            "Sentence in the Salesforce_MSA_6: 12.16.2 Section 5.2 “Invoicing and Payment” of this Agreement is replaced with the following section: 5.2 Invoicing and Payment 5.2.1 Invoicing and Payment.\n",
            "\n",
            "Sentence in the Salesforce_MSA_6: Unless otherwise stated in the Order Form, invoiced fees are due net 30 days from the invoice date.\n",
            "\n",
            "Sentence in the Salesforce_MSA_6: Customer is responsible for providing complete and accurate billing and contact information to SFDC and notifying SFDC of any changes to such information.\n",
            "\n",
            "Sentence in the Salesforce_MSA_6: The parties acknowledge that invoices are also to be submitted electronically by SFDC in accordance with the “Electronic Invoicing” section below through the Government of India’s e-invoicing system (“GST Portal”) and any delay due to such submission shall not affect the foregoing payment term.\n",
            "\n",
            "Sentence in the Salesforce_MSA_6: Customer shall be responsible for providing complete and accurate billing and contact information to SFDC and shall notify SFDC of any changes to such information.\n",
            "\n",
            "Sentence in the Salesforce_MSA_6: 5.2.2 Electronic Invoicing.\n",
            "\n",
            "Sentence in the Salesforce_MSA_6: Customer shall provide to SFDC at least the following information in writing to facilitate electronic invoicing:\n",
            "\n",
            "Sentence in the Salesforce_MSA_6: Customers full registered company/legal entity name, registered office address, goods and services tax identification number, address and/or relevant information required under applicable law.\n",
            "\n",
            "Sentence in the Salesforce_MSA_6: In any event, the parties shall cooperate diligently to enable such electronic invoicing process.\n",
            "\n",
            "Sentence in the Salesforce_MSA_6: Any error/delay in issuance of the electronic invoice due to: (a) the provision by Customer of incorrect or insufficient invoicing information preventing SFDC from successfully submitting the electronic invoice to the GST Portal; or (b) the GST Portal and/or any other government authority (or their designated agent/agency) not being able to duly and effectively process such invoice; or (c) any event which requires SFDC to issue an invoice again; shall not result in an extension of the payment term set out in the “Invoicing and Payment” section above, and such term shall still be calculated from the date of the original invoice.\n",
            "\n",
            "Sentence in the Salesforce_MSA_6: SFDC reserves the right to provide any invoice copy in electronic form via email in addition to the electronic invoicing described herein.\n",
            "\n"
          ]
        }
      ]
    },
    {
      "cell_type": "code",
      "source": [
        "find_different_sentences()"
      ],
      "metadata": {
        "colab": {
          "base_uri": "https://localhost:8080/"
        },
        "id": "456Ig0ChvSF2",
        "outputId": "e598e00f-68bb-4495-fb7f-4663ae473def"
      },
      "execution_count": null,
      "outputs": [
        {
          "output_type": "stream",
          "name": "stdout",
          "text": [
            "Enter the first file name and press enter: Salesforce_MSA_9\n",
            "Enter the second file name and press enter: Salesforce_MSA_10\n",
            "Below are the differences:\n",
            "\n",
            "Sentence in the Salesforce_MSA_9: This Agreement was last updated on November 22, 2021.\n",
            "\n",
            "Sentence in the Salesforce_MSA_10: This Agreement was last updated on September 27, 2021.\n",
            "\n",
            "Sentence in the Salesforce_MSA_9: “Documentation” at https://trust.salesforce.com/en/trust-and-compliance-documentation/and its usage guides and policies, as updated from time to time, accessible via help.salesforce.com or login to the applicable Service.\n",
            "\n",
            "Sentence in the Salesforce_MSA_10: “Documentation” means the applicable Service’s Trust and Compliance documentation at https://trust.salesforce.com/en/trust-and-compliance-documentation/and its usage guides and policies, as updated from time to time, accessible via help.salesforce.com or login to the applicable Service.\n",
            "\n",
            "Sentence in the Salesforce_MSA_9: documentation Compliance applicable Service’s means Trust and the “Free Services” means Services that SFDC makes available to Customer free of charge.\n",
            "\n",
            "Sentence in the Salesforce_MSA_10: “Free Services” means Services that SFDC makes available to Customer free of charge.\n",
            "\n",
            "Sentence in the Salesforce_MSA_9: by than Customer 2.2 Protection of Customer Data.\n",
            "\n",
            "Sentence in the Salesforce_MSA_10: 2.2 Protection of Customer Data.\n",
            "\n",
            "Sentence in the Salesforce_MSA_9: Those safeguards will include, but will not be limited to, measures designed to prevent unauthorized access to or disclosure of Customer Data (other at https://www.salesforce.com/company/legal/agreements.jsp (“DPA”) posted as of the Effective Date are hereby incorporated by reference.\n",
            "\n",
            "Sentence in the Salesforce_MSA_10: Those safeguards will include, but will not be limited to, measures designed to prevent unauthorized access to or disclosure of Customer Data (other than by Customer or Users).\n",
            "\n",
            "Sentence in the Salesforce_MSA_10: The terms of the data processing addendum at https://www.salesforce.com/company/legal/agreements.jsp (“DPA”) posted as of the Effective Date are hereby incorporated by reference.\n",
            "\n",
            "Sentence in the Salesforce_MSA_9: After such 30-day period, SFDC will have no obligation to maintain processing addendum Users).\n",
            "\n",
            "Sentence in the Salesforce_MSA_9: terms data The the or of or provide any Customer Data, and as provided in the Documentation will thereafter delete or destroy all copies of Customer Data in its systems or otherwise in its possession or control, unless legally prohibited.\n",
            "\n",
            "Sentence in the Salesforce_MSA_10: After such 30-day period, SFDC will have no obligation to maintain or provide any Customer Data, and as provided in the Documentation will thereafter delete or destroy all copies of Customer Data in its systems or otherwise in its possession or control, unless legally prohibited.\n",
            "\n",
            "Sentence in the Salesforce_MSA_9: salesforce.com\n",
            "\n",
            "Sentence in the Salesforce_MSA_10: Av.\n",
            "\n",
            "Sentence in the Salesforce_MSA_10: Jornalista Roberto Marinho, 85, 14º Andar-Cidade Monções, CEP 04576-010 São Paulo-SP Brazil Brazil salesforce.com\n",
            "\n",
            "Sentence in the Salesforce_MSA_10: Salesforce Systems Spain, S.L.U., a limited liability company incorporated in Spain Salesforce Tower, 415 Mission Street, 3rd Floor, San Francisco, California, 94105, U.S.A., attn: VP, Worldwide Sales Operations, with a copy to attn: General Counsel.\n",
            "\n",
            "Sentence in the Salesforce_MSA_9: Salesforce Systems Spain, S.L.U., a limited liability company incorporated in Spain United Kingdom Salesforce UK Limited, a limited liability company incorporated in England A Country in Europe, the Middle East or Africa, other than France, Germany, SFDC Ireland Limited, a limited liability company incorporated in Ireland Av.\n",
            "\n",
            "Sentence in the Salesforce_MSA_9: Jornalista Roberto Marinho, 85, 14º Andar-Cidade Monções, CEP 04576-010 São Paulo-SP Salesforce Tower, 415 Mission Street, 3rd Floor, San Francisco, California, 94105, U.S.A., attn: VP, Worldwide Sales Operations, with a copy to attn: General Counsel.\n",
            "\n",
            "Sentence in the Salesforce_MSA_9: Salesforce.com Sarl, Route de la Longeraie 9, Morges, 1110, Switzerland, attn: Director, EMEA Sales Operations, with a copy to attn.:\n",
            "\n",
            "Sentence in the Salesforce_MSA_9: Legal Department-3rd and Brazil São Paulo, SP, Brazil Ontario and controlling Canadian federal law Toronto, Ontario, Canada France Paris, France Germany Munich, Germany Italy Milan, Italy Spain Madrid, Spain England London, England England London, England Italy, Spain, and the United Kingdom Japan Kabushiki Kaisha Salesforce.com, a Japan corporation A Country in Asia or the Pacific region, other than Japan, Australia or New Zealand Australia or New Zealand Salesforce.com Singapore Pte Ltd, a Singapore private limited company SFDC Australia Pty Ltd 4th Floor, 1 Central Park Block G, Central Park, Leopardstown, Dublin 18, Ireland JP Tower 12F, 2-7-2 Marunouchi, Chiyoda-ku, Tokyo 100-7012, Japan, attn: Senior Director, Japan Sales Operations, with a copy to attn: General Counsel.\n",
            "\n",
            "Sentence in the Salesforce_MSA_10: Salesforce.com Sarl, Route de la Longeraie 9, Morges, 1110, Switzerland, attn: Director, EMEA Ontario and controlling Canadian federal law Toronto, Ontario, Canada France Paris, France Germany Munich, Germany Italy Milan, Italy Spain Madrid, Spain England London, England England London, England United Kingdom Salesforce UK Limited, a limited liability company incorporated in England A Country in Europe, the Middle East or Africa, other than SFDC Ireland Limited, a limited liability company incorporated in Ireland France, Germany, Italy, Spain, and the United Kingdom Japan A Country in Asia or the Pacific region, other than Japan, Australia or New Zealand Australia or New Zealand Sales Operations, with a copy to attn.:\n",
            "\n",
            "Sentence in the Salesforce_MSA_10: Legal Department-3rd and 4th Floor, 1 Central Park Block G, Central Park, Leopardstown, Dublin 18, Ireland JP Tower 12F, 2-7-2 Marunouchi, Chiyoda-ku, Tokyo 100-7012, Japan, attn: Senior Director, Japan Sales Operations, with a copy to attn: General Counsel.\n",
            "\n",
            "Sentence in the Salesforce_MSA_9: 201 Sussex Street, Darling Park Tower 3, Level 12, Sydney NSW 2000, attn: Senior Director, Finance with a copy to attn: General Counsel.\n",
            "\n",
            "Sentence in the Salesforce_MSA_10: Kabushiki Kaisha Salesforce.com, a Japan corporation Salesforce.com Singapore Pte Ltd, a Singapore private limited company Japan Tokyo, Japan Singapore Singapore SFDC Australia Pty Ltd 201 Sussex Street, Darling Park Tower 3, Level 12, Sydney NSW 2000, attn: Senior Director, Finance with a copy to attn: General Counsel.\n",
            "\n",
            "Sentence in the Salesforce_MSA_9: Japan Tokyo, Japan Singapore Singapore New South Wales, Australia New South Wales, Australia 12.10 Manner of Giving Notice.\n",
            "\n",
            "Sentence in the Salesforce_MSA_10: New South Wales, Australia New South Wales, Australia 12.10 Manner of Giving Notice.\n",
            "\n",
            "Sentence in the Salesforce_MSA_9: Customer acknowledges that SFDC has adopted an Organization, Management and Control Model pursuant to Legislative Decree 231/2001 to prevent crimes provided for therein and commits to comply with the principles contained in the above Legislative Decree 231/2001 and in the SFDC Code link: https://www.salesforce.com/content/dam/web/en_us/www/documents/legal/compliance%20documents/salesforce-code-of-cond uct.pdf.\n",
            "\n",
            "Sentence in the Salesforce_MSA_10: Customer acknowledges that SFDC has adopted an Organization, Management and Control Model pursuant to Legislative Decree 231/2001 to prevent crimes provided for therein and commits to comply with the principles contained in the above Legislative Decree 231/2001 and in the SFDC Code of link: available https://www.salesforce.com/content/dam/web/en_us/www/documents/legal/compliance%20documents/salesforce-code-of-conduct.pdf.\n",
            "\n",
            "Sentence in the Salesforce_MSA_9: following available Conduct which the of at is 12.15 Local Law Requirements: Spain.\n",
            "\n",
            "Sentence in the Salesforce_MSA_10: following Conduct which the at is 12.15 Local Law Requirements: Spain.\n",
            "\n"
          ]
        }
      ]
    },
    {
      "cell_type": "code",
      "source": [
        "find_different_sentences()"
      ],
      "metadata": {
        "colab": {
          "base_uri": "https://localhost:8080/"
        },
        "id": "W1Q3tLEnvUJk",
        "outputId": "ed05b6cf-ea2f-45c4-ca36-a3aaa18240ae"
      },
      "execution_count": null,
      "outputs": [
        {
          "output_type": "stream",
          "name": "stdout",
          "text": [
            "Enter the first file name and press enter: Salesforce_MSA_10\n",
            "Enter the second file name and press enter: Salesforce_MSA_11\n",
            "Below are the differences:\n",
            "\n",
            "Sentence in the Salesforce_MSA_10: This Agreement was last updated on September 27, 2021.\n",
            "\n",
            "Sentence in the Salesforce_MSA_11: This Agreement was last updated on April 23, 2021.\n",
            "\n",
            "Sentence in the Salesforce_MSA_10: “Content” means information obtained by SFDC from publicly available sources or its third-party content providers and made available to Customer through the Services, Beta Services or pursuant to an Order Form, as more fully described in the Documentation.\n",
            "\n",
            "Sentence in the Salesforce_MSA_11: “Content” means information obtained by SFDC from publicly available sources or its third party content providers and made available to Customer through the Services, Beta Services or pursuant to an Order Form, as more fully described in the Documentation.\n",
            "\n",
            "Sentence in the Salesforce_MSA_10: “Documentation” means the applicable Service’s Trust and Compliance documentation at https://trust.salesforce.com/en/trust-and-compliance-documentation/and its usage guides and policies, as updated from time to time, accessible via help.salesforce.com or login to the applicable Service.\n",
            "\n",
            "Sentence in the Salesforce_MSA_10: “Free Services” means Services that SFDC makes available to Customer free of charge.\n",
            "\n",
            "Sentence in the Salesforce_MSA_11: “Documentation” at https://trust.salesforce.com/en/trust-and-compliance-documentation/and its usage guides and policies, as updated from time to time, accessible via help.salesforce.com or login to the applicable Service.\n",
            "\n",
            "Sentence in the Salesforce_MSA_11: documentation Compliance applicable Service’s means Trust and the “Free Services” means Services that SFDC makes available to Customer free of charge.\n",
            "\n",
            "Sentence in the Salesforce_MSA_10: “Marketplace” means an online directory, catalog or marketplace of applications that interoperate with the Services, including, for example, the AppExchange at http://www.salesforce.com/appexchange, Mulesoft Anypoint Exchange at https://www.mulesoft.com/exchange, or the Heroku Elements Marketplace at https://elements.heroku.com/, and any successor websites.\n",
            "\n",
            "Sentence in the Salesforce_MSA_11: “Marketplace” means an online directory, catalog or marketplace of applications that interoperate with the Services, including, for example, the AppExchange at http://www.salesforce.com/appexchange, or the Heroku add-ons catalog at https://elements.heroku.com/, and any successor websites.\n",
            "\n",
            "Sentence in the Salesforce_MSA_10: “Non-SFDC Application” means Web-based, mobile, offline or other software functionality that interoperates with a Service, that is provided by Customer or a third party and/or listed on a Marketplace including as Salesforce Labs or under similar designation.\n",
            "\n",
            "Sentence in the Salesforce_MSA_11: “Non-SFDC Application” means a Web-based, mobile, offline or other software application functionality that interoperates with a Service, that is provided by Customer or a third party and/or listed on a Marketplace including as Salesforce Labs or under similar designation.\n",
            "\n",
            "Sentence in the Salesforce_MSA_10: SFDC will (a) make the Services and Content available to Customer pursuant to this Agreement, and the applicable Order Forms and Documentation, (b) provide applicable SFDC standard support for the Purchased Services to Customer at no additional charge, and/or upgraded support if purchased, (c) use commercially reasonable efforts to make the online Purchased Services available 24 hours a day, 7 days a week, except for: (i) planned downtime (of which SFDC shall give advance electronic notice), and (ii) any unavailability caused by circumstances beyond SFDC’s reasonable control, including, for example, an act of God, act of government, flood, fire, earthquake, civil unrest, act of terror, strike or other labor problem (other than one involving SFDC employees), Internet service provider failure or delay, Non-SFDC Application, or denial of service attack, and (d) provide the Services in accordance with laws and government regulations applicable to SFDC’s provision of its Services to its customers generally (i.e., without regard for Customer’s particular use of the Services), and subject to Customer’s and Users’ use of the Services in accordance with this Agreement, the Documentation and the applicable Order Form.\n",
            "\n",
            "Sentence in the Salesforce_MSA_11: SFDC will (a) make the Services and Content available to Customer pursuant to this Agreement, and the applicable Order Forms and Documentation, (b) provide applicable SFDC standard support for the Purchased Services to Customer at no additional charge, and/or upgraded support if purchased, (c) use commercially reasonable efforts to make the online Purchased Services available 24 hours a day, 7 days a week, except for: (i) planned downtime (of which SFDC shall give advance electronic notice), and (ii) any unavailability caused by circumstances beyond SFDC’s reasonable control, including, for example, an act of God, act of government, flood, fire, earthquake, civil unrest, act of terror, strike or other labor problem (other than one involving SFDC employees), Internet service provider failure or delay, Non-SFDC Application, or denial of service attack, and (d) provide the Services in accordance with laws and government regulations applicable to SFDC’s provision of its Services to its customers generally (i.e., without regard for Customer’s particular use of the Services), and subject to Customer’s use of the Services in accordance with this Agreement, the Documentation and the applicable Order Form. or by The than Users).\n",
            "\n",
            "Sentence in the Salesforce_MSA_10: 2.2 Protection of Customer Data.\n",
            "\n",
            "Sentence in the Salesforce_MSA_11: Customer 2.2 Protection of Customer Data.\n",
            "\n",
            "Sentence in the Salesforce_MSA_11: Those safeguards will include, but will not be limited to, measures designed to prevent unauthorized access to or disclosure of Customer Data at (other https://www.salesforce.com/company/legal/agreements.jsp (“DPA”) posted as of the Effective Date are hereby incorporated by reference.\n",
            "\n",
            "Sentence in the Salesforce_MSA_11: To the extent Personal Data from the European Economic Area (EEA), the United Kingdom and Switzerland are processed by SFDC, its Processor Binding Corporate Rules, the EU-US and/or Swiss-US Privacy Shield, and/or the Standard Contractual Clauses shall apply, as further set forth in the DPA.\n",
            "\n",
            "Sentence in the Salesforce_MSA_10: Those safeguards will include, but will not be limited to, measures designed to prevent unauthorized access to or disclosure of Customer Data (other than by Customer or Users).\n",
            "\n",
            "Sentence in the Salesforce_MSA_10: The terms of the data processing addendum at https://www.salesforce.com/company/legal/agreements.jsp (“DPA”) posted as of the Effective Date are hereby incorporated by reference.\n",
            "\n",
            "Sentence in the Salesforce_MSA_10: To the extent Personal Data from the European Economic Area (EEA), the United Kingdom and Switzerland are processed by SFDC, its Processor Binding Corporate Rules,, and/or the Standard Contractual Clauses shall apply, as further set forth in the DPA.\n",
            "\n",
            "Sentence in the Salesforce_MSA_10: 2.3 SFDC Personnel.\n",
            "\n",
            "Sentence in the Salesforce_MSA_11: processing addendum terms data the of 2.3 SFDC Personnel.\n",
            "\n",
            "Sentence in the Salesforce_MSA_10: Customer will not (a) make any Service or Content available to anyone other than Customer or Users, or use any Service or Content for the benefit of anyone other than Customer or its Affiliates, unless expressly stated otherwise in an Order Form or the Documentation, (b) sell, resell, license, sublicense, distribute, rent or lease any Service or Content, or include any Service or Content in a service bureau or outsourcing offering, (c) use a Service or Non-SFDC Application to store or transmit infringing, libelous, or otherwise unlawful or tortious material, or to store or transmit material in violation of third-party privacy rights, (d) use a Service or Non-SFDC Application to store or transmit Malicious Code, (e) interfere with or disrupt the integrity or performance of any Service or third-party data contained therein, (f) attempt to gain unauthorized access to any Service or Content or its related systems or networks, (g) permit direct or indirect access to or use of any Services or Content in a way that circumvents a contractual usage limit, or use any Services to access, copy or use any of SFDC intellectual property except as permitted under this Agreement, an Order Form, or the Documentation, (h) modify, copy, or create derivative works of a Service or any part, feature, function or user interface thereof, (i) copy Content except as permitted herein or in an Order Form or the Documentation, (j) frame or mirror any part of any Service or Content, other than framing on Customer's own intranets or otherwise for its own internal business purposes or as permitted in the Documentation, (k) except to the extent permitted by applicable law, disassemble, reverse engineer, or decompile a Service or Content or access it to (1) build a competitive product or service, (2) build a product or service using similar ideas, features, functions or graphics of the Service, (3) copy any ideas, features, functions or graphics of the Service, or (4) determine whether the Services are within the scope of any patent.\n",
            "\n",
            "Sentence in the Salesforce_MSA_11: Customer will not (a) make any Service or Content available to anyone other than Customer or Users, or use any Service or Content for the benefit of anyone other than Customer or its Affiliates, unless expressly stated otherwise in an Order Form or the Documentation, (b) sell, resell, license, sublicense, distribute, make available, rent or lease any Service or Content, or include any Service or Content in a service bureau or outsourcing offering, (c) use a Service or Non-SFDC Application to store or transmit infringing, libelous, or otherwise unlawful or tortious material, or to store or transmit material in violation of third-party privacy rights, (d) use a Service or Non-SFDC Application to store or transmit Malicious Code, (e) interfere with or disrupt the integrity or performance of any Service or third-party data contained therein, (f) attempt to gain unauthorized access to any Service or Content or its related systems or networks, (g) permit direct or indirect access to or use of any Services or Content in a way that circumvents a contractual usage limit, or use any Services to access or use any of SFDC intellectual property except as permitted under this Agreement, an Order Form, or the Documentation, (h) modify, copy, or create derivative works based on a Service or any part, feature, function or user interface thereof, (i) copy Content except as permitted herein or in an Order Form or the Documentation, (j) frame or mirror any part of any Service or Content, other than framing on Customer's own intranets or otherwise for its own internal business purposes or as permitted in the Documentation, (k) except to the extent permitted by applicable law, disassemble, reverse engineer, or decompile a Service or Content or access it to (1) build a competitive product or service, (2) build a product or service using similar ideas, features, functions or graphics of the Service, (3) copy any ideas, features, functions or graphics of the Service, or (4) determine whether the Services are within the scope of any patent.\n",
            "\n",
            "Sentence in the Salesforce_MSA_10: If Customer receives notice, including from SFDC, that Content or a Non-SFDC Application may no longer be used or must be removed, modified and/or disabled to avoid violating applicable law, third-party rights, or the Acceptable Use and External Facing Services Policy, Customer will promptly do so.\n",
            "\n",
            "Sentence in the Salesforce_MSA_10: If Customer does not take required action, including deleting any Content Customer may have downloaded from the Services, in accordance with the above, or if in SFDC’s judgment continued violation is likely to reoccur, SFDC may disable the applicable Content, Service and/or Non-SFDC Application.\n",
            "\n",
            "Sentence in the Salesforce_MSA_10: If requested by SFDC, Customer shall confirm deletion and discontinuance of use of such Content and/or Non-SFDC Application in writing and SFDC shall be authorized to provide a copy of such confirmation to any such third-party claimant or governmental authority, as applicable.\n",
            "\n",
            "Sentence in the Salesforce_MSA_10: In addition, if SFDC is required by any third-party rights holder to remove Content, or receives information that Content provided to Customer may violate applicable law or third-party rights, SFDC may discontinue Customer’s access to Content through the Services.\n",
            "\n",
            "Sentence in the Salesforce_MSA_11: If Customer receives notice that Content or a Non-SFDC Application must be removed, modified and/or disabled to avoid violating applicable law, third-party rights, or the Acceptable Use and External Facing Services Policy, Customer will promptly do so.\n",
            "\n",
            "Sentence in the Salesforce_MSA_11: If Customer does not take required action in accordance with the above, or if in SFDC’s judgment continued violation is likely to reoccur, SFDC may disable the applicable Content, Service and/or Non-SFDC Application.\n",
            "\n",
            "Sentence in the Salesforce_MSA_11: If requested by SFDC, Customer shall confirm such deletion and discontinuance of use in writing and SFDC shall be authorized to provide a copy of such confirmation to any such third party claimant or governmental authority, as applicable.\n",
            "\n",
            "Sentence in the Salesforce_MSA_11: In addition, if SFDC is required by any third party rights holder to remove Content, or receives information that Content provided to Customer may violate applicable law or third-party rights, SFDC may discontinue Customer’s access to Content through the Services.\n",
            "\n",
            "Sentence in the Salesforce_MSA_10: Customer grants to SFDC and its Affiliates a worldwide, perpetual, irrevocable, royalty-free license to use, distribute, disclose, and make and incorporate into its services any suggestion, enhancement request, recommendation, correction or other feedback provided by Customer or Users relating to the operation of SFDC’s or its Affiliates’ services.\n",
            "\n",
            "Sentence in the Salesforce_MSA_11: Customer grants to SFDC and its Affiliates a worldwide, perpetual, irrevocable, royalty-free license to use and incorporate into its services any suggestion, enhancement request, recommendation, correction or other feedback provided by Customer or Users relating to the operation of SFDC’s or its Affiliates’ services.\n",
            "\n",
            "Sentence in the Salesforce_MSA_10: However, Confidential Information does not include any information that (i) is or becomes generally known to the public without breach of any obligation owed to the Disclosing Party, (ii) was known to the Receiving Party prior to its disclosure by the Disclosing Party without breach of any obligation owed to the Disclosing Party, (iii) is received from a third party without knowledge of any breach of any obligation owed to the Disclosing Party, or (iv) was independently developed by the Receiving Party.\n",
            "\n",
            "Sentence in the Salesforce_MSA_11: However, Confidential Information does not include any information that (i) is or becomes generally known to the public without breach of any obligation owed to the Disclosing Party, (ii) was known to the Receiving Party prior to its disclosure by the Disclosing Party without breach of any obligation owed to the Disclosing Party, (iii) is received from a third party without breach of any obligation owed to the Disclosing Party, or (iv) was independently developed by the Receiving Party.\n",
            "\n",
            "Sentence in the Salesforce_MSA_10: Notwithstanding the foregoing, SFDC may disclose the terms of this Agreement and any applicable Order Form to a contractor or Non-SFDC Application Provider to the extent necessary to perform SFDC’s obligations under this Agreement, under terms of confidentiality materially as protective as set forth herein.\n",
            "\n",
            "Sentence in the Salesforce_MSA_11: Notwithstanding the foregoing, SFDC may disclose the terms of this Agreement and any applicable Order Form to a subcontractor or Non-SFDC Application Provider to the extent necessary to perform SFDC’s obligations under this Agreement, under terms of confidentiality materially as protective as set forth herein.\n",
            "\n",
            "Sentence in the Salesforce_MSA_11: CONTENT AND BETA SERVICES ARE PROVIDED “AS IS,” AND AS AVAILABLE EXCLUSIVE OF ANY WARRANTY WHATSOEVER.\n",
            "\n",
            "Sentence in the Salesforce_MSA_10: SERVICES PROVIDED FREE OF CHARGE, CONTENT AND BETA SERVICES ARE PROVIDED “AS IS,”\n",
            "\n",
            "Sentence in the Salesforce_MSA_10: AND AS AVAILABLE EXCLUSIVE OF ANY WARRANTY WHATSOEVER.\n",
            "\n",
            "Sentence in the Salesforce_MSA_10: The above defense and indemnification obligations do not apply if (I) the allegation does not state with specificity that the Services are the basis of the Claim Against Customer; (II) a Claim Against Customer arises from the use or combination of the Services or any part thereof with software, hardware, data, or processes not provided by SFDC, if the Services or use thereof would not infringe without such combination; (III) a Claim Against Customer arises from Services under an Order Form for which there is no charge; or (IV) a Claim against Customer arises from Content, a Non-SFDC Application or Customer’s breach of this Agreement, the Documentation or applicable Order Forms.\n",
            "\n",
            "Sentence in the Salesforce_MSA_11: The above defense and indemnification obligations do not apply if (1) the allegation does not state with specificity that the Services are the basis of the Claim Against Customer; (2) a Claim Against Customer arises from the use or combination of the Services or any part thereof with software, hardware, data, or processes not provided by SFDC, if the Services or use thereof would not infringe without such combination; (3) a Claim Against Customer arises from Services under an Order Form for which there is no charge; or (4) a Claim against Customer arises from Content, a Non-SFDC Application or Customer’s breach of this Agreement, the Documentation or applicable Order Forms.\n",
            "\n",
            "Sentence in the Salesforce_MSA_10: Customer will defend SFDC and its Affiliates against any claim, demand, suit or proceeding made or brought against SFDC by a third party (a) alleging that the combination of a Non-SFDC Application or configuration provided by Customer and used with the Services, infringes or misappropriates such third party’s intellectual property rights, or (b) arising from (i) Customer’s use of the Services or Content in an unlawful manner or in violation of the Agreement, the Documentation, or Order Form, (ii) any Customer Data or Customer’s use of Customer Data with the Services, or (iii) a Non-SFDC Application provided by Customer(each a “Claim Against SFDC”), and will indemnify SFDC from any damages, attorney fees and costs finally awarded against SFDC as a result of, or for any amounts paid by SFDC under a settlement approved by Customer in writing of, a Claim Against SFDC, provided SFDC (a) promptly gives Customer written notice of the Claim Against SFDC, (b) gives Customer sole control of the defense and settlement of the Claim Against SFDC (except that Customer may not settle any Claim Against SFDC unless it unconditionally releases SFDC of all liability), and (c) gives Customer all reasonable assistance, at Customer’s expense.\n",
            "\n",
            "Sentence in the Salesforce_MSA_11: Customer will defend SFDC and its Affiliates against any claim, demand, suit or proceeding made or brought against SFDC by a third party alleging (a) that any Customer Data or Customer’s use of Customer Data with the Services, (b) a Non-SFDC Application provided by Customer, or (c) the combination of a Non-SFDC Application provided by Customer and used with the Services, infringes or misappropriates such third party’s intellectual property rights, or arising from Customer’s use of the Services or Content in an unlawful manner or in violation of the Agreement, the Documentation, or Order Form (each a “Claim Against SFDC”), and will indemnify SFDC from any damages, attorney fees and costs finally awarded against SFDC as a result of, or for any amounts paid by SFDC under a settlement approved by Customer in writing of, a Claim Against SFDC, provided SFDC (a) promptly gives Customer written notice of the Claim Against SFDC, (b) gives Customer sole control of the defense and settlement of the Claim Against SFDC (except that Customer may not settle any Claim Against SFDC unless it unconditionally releases SFDC of all liability), and (c) gives Customer all reasonable assistance, at Customer’s expense.\n",
            "\n",
            "Sentence in the Salesforce_MSA_10: This “Mutual Indemnification” section states the indemnifying party’s sole liability to, and the indemnified party’s exclusive remedy against, the other party for any third-party claim described in this section.\n",
            "\n",
            "Sentence in the Salesforce_MSA_11: This “Mutual Indemnification” section states the indemnifying party’s sole liability to, and the indemnified party’s exclusive remedy against, the other party for any third party claim described in this section.\n",
            "\n",
            "Sentence in the Salesforce_MSA_10: Except as otherwise specified in an Order Form, subscriptions will automatically renew for additional one year terms, unless either party gives the other written notice (email acceptable) at least 30 days before the end of the relevant subscription term.\n",
            "\n",
            "Sentence in the Salesforce_MSA_11: Except as otherwise specified in an Order Form, subscriptions will automatically renew for additional periods equal to the expiring subscription term or one year (whichever is shorter), unless either party gives the other written notice (email acceptable) at least 30 days before the end of the relevant subscription term.\n",
            "\n",
            "Sentence in the Salesforce_MSA_10: SFDC and Customer each represents that it is not on any U.S. government denied-party list.\n",
            "\n",
            "Sentence in the Salesforce_MSA_11: SFDC and Customer each represents that it is not named on any U.S. government denied-party list.\n",
            "\n",
            "Sentence in the Salesforce_MSA_10: Customer will not permit any User to access or use any Service or Content in a U.S.-embargoed country or region (currently Cuba, Iran, North Korea, Syria or Crimea) or in violation of any U.S. export law or regulation.\n",
            "\n",
            "Sentence in the Salesforce_MSA_11: Customer will not permit any User to access or use any Service or Content in a U.S.-embargoed country or region (currently Cuba, Iran, North Korea, Sudan, Syria or Crimea) or in violation of any U.S. export law or regulation.\n",
            "\n",
            "Sentence in the Salesforce_MSA_10: The SFDC entity entering into this Agreement is: salesforce.com, inc., a Delaware corporation If Customer is domiciled in: The United States of America, Mexico or a Country in Central or South America or the Caribbean Notices should be addressed to: Governing law is: Courts with Salesforce Tower, 415 Mission Street, 3rd Floor, San Francisco, California, 94105, U.S.A., attn: VP, Worldwide Sales Operations, with a copy to attn: General Counsel.\n",
            "\n",
            "Sentence in the Salesforce_MSA_11: Notices should be addressed to: Governing law is: Courts with The SFDC entity entering into this Agreement is: salesforce.com, inc., a Delaware corporation If Customer is domiciled in: The United States of America, Mexico or a Country in Central or South America or the Caribbean Salesforce Tower, 415 Mission Street, 3rd Floor, San Francisco, California, 94105, U.S.A., attn: VP, Worldwide Sales Operations, with a copy to attn: General Counsel.\n",
            "\n",
            "Sentence in the Salesforce_MSA_10: California and controlling United States federal law exclusive jurisdiction are: San Francisco, California, U.S.A. Brazil Canada France Germany Italy\n",
            "\n",
            "Sentence in the Salesforce_MSA_11: California and controlling United States federal law exclusive jurisdiction are: San Francisco, California, U.S.A. São Paulo, SP, Brazil Salesforce Tecnologia Ltda.\n",
            "\n",
            "Sentence in the Salesforce_MSA_10: Spain Salesforce Tecnologia Ltda.\n",
            "\n",
            "Sentence in the Salesforce_MSA_10: Jornalista Roberto Marinho, 85, 14º Andar-Cidade Monções, CEP 04576-010 São Paulo-SP Brazil Brazil salesforce.com\n",
            "\n",
            "Sentence in the Salesforce_MSA_11: Jornalista Roberto Marinho, 85, 14º Andar-Cidade Monções, CEP 04576-010 São Paulo-SP Brazil Brazil Canada France Germany Italy Spain salesforce.com\n",
            "\n",
            "Sentence in the Salesforce_MSA_10: Legal Department Salesforce.com Sarl, Route de la Longeraie 9, Morges, 1110, Switzerland, attn: Director, EMEA Sales Operations, with a copy to attn.:\n",
            "\n",
            "Sentence in the Salesforce_MSA_11: Legal Department Ontario and controlling Canadian federal law Toronto, Ontario, Canada France Paris, France Germany Munich, Germany Italy Milan, Italy Salesforce.com Sarl, Route de la Longeraie 9, Morges, 1110, Switzerland, attn: Director, EMEA Sales Operations, with a copy to Spain Madrid, Spain United Kingdom Salesforce UK Limited (f/k/a salesforce.com EMEA Limited), a limited liability company incorporated in England SFDC Ireland Limited, a limited liability company incorporated in Ireland A Country in Europe, the Middle East or Africa, other than France, Germany, Italy, Spain, and the United Kingdom Japan Kabushiki Kaisha Salesforce.com, a Japan corporation Salesforce.com Singapore Pte Ltd, a Singapore private limited company A Country in Asia or the Pacific region, other than Japan, Australia or New Zealand Australia or New Zealand attn.:\n",
            "\n",
            "Sentence in the Salesforce_MSA_10: Legal Department-Paseo de la Castellana 79, Madrid, 28046, Spain Salesforce.com Sarl, Route de la Longeraie 9, Morges, 1110, Switzerland, attn: Director, EMEA Sales Operations, with a copy to attn: Legal Department, Salesforce UK Limited, Floor 26 Salesforce Tower, 110 Bishopsgate, London, EC2N 4AY, United Kingdom.\n",
            "\n",
            "Sentence in the Salesforce_MSA_11: Legal Department-Paseo de la Castellana 79, Madrid, 28046, Spain Salesforce.com Sarl, Route de la Longeraie 9, Morges, 1110, Switzerland, attn: Director, EMEA Sales Operations, with a copy to attn: Legal Department, Salesforce UK Limited (f/k/a salesforce.com EMEA Limited), Floor 26 Salesforce Tower, 110 Bishopsgate, London, EC2N 4AY, United Kingdom.\n",
            "\n",
            "Sentence in the Salesforce_MSA_10: Salesforce.com Sarl, Route de la Longeraie 9, Morges, 1110, Switzerland, attn: Director, EMEA Ontario and controlling Canadian federal law Toronto, Ontario, Canada France Paris, France Germany Munich, Germany Italy Milan, Italy Spain Madrid, Spain England London, England England London, England United Kingdom Salesforce UK Limited, a limited liability company incorporated in England A Country in Europe, the Middle East or Africa, other than SFDC Ireland Limited, a limited liability company incorporated in Ireland France, Germany, Italy, Spain, and the United Kingdom Japan A Country in Asia or the Pacific region, other than Japan, Australia or New Zealand Australia or New Zealand Sales Operations, with a copy to attn.:\n",
            "\n",
            "Sentence in the Salesforce_MSA_11: Salesforce.com Sarl, Route de la Longeraie 9, Morges, 1110, Switzerland, attn: Director, EMEA Sales Operations, with a copy to attn.:\n",
            "\n",
            "Sentence in the Salesforce_MSA_10: Kabushiki Kaisha Salesforce.com, a Japan corporation Salesforce.com Singapore Pte Ltd, a Singapore private limited company Japan Tokyo, Japan Singapore Singapore SFDC Australia Pty Ltd 201 Sussex Street, Darling Park Tower 3, Level 12, Sydney NSW 2000, attn: Senior Director, Finance with a copy to attn: General Counsel.\n",
            "\n",
            "Sentence in the Salesforce_MSA_11: England London, England England London, England Japan Tokyo, Japan Singapore Singapore SFDC Australia Pty Ltd 201 Sussex Street, Darling Park Tower 3, Level 12, Sydney NSW 2000, attn: Senior Director, Finance with a copy to attn: General Counsel.\n",
            "\n",
            "Sentence in the Salesforce_MSA_10: Customer acknowledges that SFDC has adopted an Organization, Management and Control Model pursuant to Legislative Decree 231/2001 to prevent crimes provided for therein and commits to comply with the principles contained in the above Legislative Decree 231/2001 and in the SFDC Code of link: available https://www.salesforce.com/content/dam/web/en_us/www/documents/legal/compliance%20documents/salesforce-code-of-conduct.pdf.\n",
            "\n",
            "Sentence in the Salesforce_MSA_11: Customer acknowledges that SFDC has adopted an Organization, Management and Control Model pursuant to Legislative Decree 231/2001 to prevent crimes provided for therein and commits to comply with the principles contained in the above Legislative Decree 231/2001 and in the SFDC Code link: https://www.salesforce.com/content/dam/web/en_us/www/documents/legal/compliance%20documents/salesforce-code-of-cond uct.pdf.\n",
            "\n",
            "Sentence in the Salesforce_MSA_10: following Conduct which the at is 12.15 Local Law Requirements: Spain.\n",
            "\n",
            "Sentence in the Salesforce_MSA_11: following available Conduct which the of at is 12.15 Local Law Requirements: Spain.\n",
            "\n"
          ]
        }
      ]
    },
    {
      "cell_type": "code",
      "source": [
        "find_different_sentences()"
      ],
      "metadata": {
        "colab": {
          "base_uri": "https://localhost:8080/"
        },
        "id": "n0-A-NLwklHF",
        "outputId": "9dfd815a-d978-4b22-d1e7-4188994ea5df"
      },
      "execution_count": null,
      "outputs": [
        {
          "output_type": "stream",
          "name": "stdout",
          "text": [
            "Enter the first file name and press enter: Salesforce_MSA_11\n",
            "Enter the second file name and press enter: Salesforce_MSA_12\n",
            "Below are the differences:\n",
            "\n",
            "Sentence in the Salesforce_MSA_11: This Agreement was last updated on April 23, 2021.\n",
            "\n",
            "Sentence in the Salesforce_MSA_12: This Agreement was last updated on April 12, 2021.\n",
            "\n",
            "Sentence in the Salesforce_MSA_11: It is effective between Customer and SFDC as of the date of Customer’s accepting this Agreement (the “Effective Date”).\n",
            "\n",
            "Sentence in the Salesforce_MSA_12: It is effective between Customer and SFDC as of the date of Customer’s accepting this Agreement.\n",
            "\n"
          ]
        }
      ]
    },
    {
      "cell_type": "code",
      "source": [
        "find_different_sentences()"
      ],
      "metadata": {
        "id": "rah6yL1fhgii",
        "colab": {
          "base_uri": "https://localhost:8080/"
        },
        "outputId": "a518eb4d-8dc1-4b0c-d00e-5b857f0e5d3e"
      },
      "execution_count": null,
      "outputs": [
        {
          "output_type": "stream",
          "name": "stdout",
          "text": [
            "Enter the first file name and press enter: Salesforce_MSA_20\n",
            "Enter the second file name and press enter: Salesforce_MSA_21\n",
            "Below are the differences:\n",
            "\n",
            "Sentence in the Salesforce_MSA_20: This Agreement was last updated on June 23rd, 2016.\n",
            "\n",
            "Sentence in the Salesforce_MSA_21: This Agreement was last updated on January 9, 2016.\n",
            "\n",
            "Sentence in the Salesforce_MSA_20: “Marketplace” means an online directory, catalog or marketplace of applications that interoperate with the Services, including, for example, the AppExchange located at http://www.salesforce.com/appexchange, ExactTarget’s HubExchange located at https://hubexchange.exacttarget.com/, or the Heroku add-ons catalog located at https://elements.heroku.com/, and any successor websites.\n",
            "\n",
            "Sentence in the Salesforce_MSA_21: “Marketplace” means an online directory, catalog or marketplace of applications that interoperate with the Services, including, for example, the AppExchange located at http://www.salesforce.com/appexchange, ExactTarget’s HubExchange located at https://hubexchange.exacttarget.com/, or the Heroku add-ons catalog located at https://addons.heroku.com/, and any successor websites.\n",
            "\n",
            "Sentence in the Salesforce_MSA_20: For the purposes of the Standard Contractual Clauses in Schedule 3 to the DPA, You are the data exporter, and Your acceptance of this Agreement shall be treated as Your signature of the Standard Contractual Clauses and appendices.\n",
            "\n",
            "Sentence in the Salesforce_MSA_21: For the purposes of the Standard Contractual Clauses in Attachment 1 to the DPA, You are the data exporter, and Your acceptance of this Agreement shall be treated as Your signature of the Standard Contractual Clauses and appendices.\n",
            "\n",
            "Sentence in the Salesforce_MSA_20: 4.4 Usage Restrictions.\n",
            "\n",
            "Sentence in the Salesforce_MSA_20: 4.5 External-Facing Services.\n",
            "\n",
            "Sentence in the Salesforce_MSA_21: 4.4 External-Facing Services.\n",
            "\n",
            "Sentence in the Salesforce_MSA_20: 4.6 Removal of Content and Non-Salesforce.com Applications.\n",
            "\n",
            "Sentence in the Salesforce_MSA_21: 4.5 Removal of Content and Non-Salesforce.com Applications.\n",
            "\n",
            "Sentence in the Salesforce_MSA_21: Term of Subscriptions.\n",
            "\n",
            "Sentence in the Salesforce_MSA_20: If You are domiciled in: You are contracting with: Notices should be addressed to: The governing law is: The courts having exclusive jurisdiction are: The United States of America, Mexico or a Country in Central or South America or the Caribbean salesforce.com, inc., a Delaware corporation Canada salesforce.com Canada Corporation, a Nova Scotia corporation The Landmark@One Market, Suite 300, San Francisco, California, 94105, U.S.A., attn: VP, Worldwide Sales Operations, with a copy to attn: General Counsel.\n",
            "\n",
            "Sentence in the Salesforce_MSA_21: If You are domiciled in: You are contracting with: Notices should be addressed to: The governing law is: The United States of America, Mexico or a Country in Central or South America or the Caribbean salesforce.com, inc., a Delaware corporation Canada salesforce.com Canada Corporation, a Nova Scotia corporation The Landmark@One Market, Suite 300, San Francisco, California, 94105, U.S.A., attn: VP, Worldwide Sales Operations, with a copy to attn: General Counsel.\n",
            "\n",
            "Sentence in the Salesforce_MSA_20: The Landmark@One Market, Suite 300, San Francisco, California, 94105, U.S.A., attn: VP, Worldwide Sales Operations, with a copy to attn: General Counsel.\n",
            "\n",
            "Sentence in the Salesforce_MSA_21: California and controlling United States federal law The Landmark@One Market, Suite 300, San Francisco, California, 94105, U.S.A., attn: VP, Worldwide Sales Operations, with a copy to attn: General Counsel.\n",
            "\n",
            "Sentence in the Salesforce_MSA_20: California and controlling United States federal law SanFrancisco, California, U.S.A. Toronto, Ontario, Canada Ontario and controlling Canadian federal law A Country in Europe, the Middle East or Africa EMEA salesforce.com Limited, a limited liability company incorporated in England Japan Kabushiki Kaisha Salesforce.com, a Japan corporation A Country in Asia or the Pacific region, other than Japan Salesforce.com Singapore Pte Ltd, a Singapore limited private company 9, Salesforce.com Sarl, Route de la Longeraie Morges, 1110, Switzerland, attn: Director, EMEA Sales Operations, with a copy to attn: General Counsel.\n",
            "\n",
            "Sentence in the Salesforce_MSA_20: JP Tower 12F, 2-7-2 Marunouchi, Chiyoda-ku, Tokyo 100-7012, Japan, attn: England Japan England Tokyo, Japan Senior Director, Japan Sales Operations, with a copy to attn: General Counsel.\n",
            "\n",
            "Sentence in the Salesforce_MSA_21: Ontario and controlling Canadian federal law A Country in Europe, the Middle East or Africa EMEA salesforce.com Limited, a limited liability company incorporated in England Japan Kabushiki Kaisha Salesforce.com, a Japan corporation England Salesforce.com Sarl, Route de la Longeraie Morges, 1110, Switzerland, attn: Director, EMEA Sales Operations, with a copy to attn: General Counsel.\n",
            "\n",
            "Sentence in the Salesforce_MSA_21: 9, The courts having exclusive jurisdiction are: San Francisco, California, U.S.A. Toronto, Ontario, Canada England Japan Tokyo, Japan JP Tower 12F, 2-7-2 Marunouchi, Chiyoda-ku, Tokyo 100-7012, Japan, attn: Senior Director, Japan Sales Operations, with a copy to attn: General Counsel.\n",
            "\n",
            "Sentence in the Salesforce_MSA_20: 9 Temasek Boulevard#40-01, Suntec Tower 2, Singapore, 038989, attn: Director, APAC Sales Operations, with a copy to attn: General Counsel.\n",
            "\n",
            "Sentence in the Salesforce_MSA_21: Singapore Singapore 9 Temasek Boulevard#40-01, Suntec Tower 2, Singapore, 038989, attn: Director, APAC Sales Operations, with a copy to attn: General Counsel.\n",
            "\n",
            "Sentence in the Salesforce_MSA_20: Singapore Singapore 13.2.\n",
            "\n",
            "Sentence in the Salesforce_MSA_21: A Country in Asia or the Pacific region, other than Japan Salesforce.com Singapore Pte Ltd, a Singapore private limited company 13.2.\n",
            "\n"
          ]
        }
      ]
    },
    {
      "cell_type": "code",
      "source": [
        "find_different_sentences()"
      ],
      "metadata": {
        "id": "n5pfnmgmhooY",
        "colab": {
          "base_uri": "https://localhost:8080/"
        },
        "outputId": "09624ab8-d487-4db8-869a-cf22a0d3fb83"
      },
      "execution_count": null,
      "outputs": [
        {
          "output_type": "stream",
          "name": "stdout",
          "text": [
            "Enter the first file name and press enter: Salesforce_MSA_30\n",
            "Enter the second file name and press enter: Salesforce_MSA_31\n",
            "Below are the differences:\n",
            "\n",
            "Sentence in the Salesforce_MSA_30: Master Subscription Agreement THIS MASTER SUBSCRIPTION AGREEMENT (“AGREEMENT”) GOVERNS YOUR FREE TRIAL OF THE SERVICES.\n",
            "\n",
            "Sentence in the Salesforce_MSA_31: http://www.salesforce.com/company/msa.jsp Master Subscription Agreement THIS MASTER SUBSCRIPTION AGREEMENT (“AGREEMENT”) GOVERNS YOUR 30-DAY FREE TRIAL OF THE SERVICES.\n",
            "\n",
            "Sentence in the Salesforce_MSA_30: This Agreement was last updated on December 1, 2010.\n",
            "\n",
            "Sentence in the Salesforce_MSA_31: This Agreement was last updated on January 31, 2009.\n",
            "\n",
            "Sentence in the Salesforce_MSA_31: Definitions 2. 30-Day Free Trial 3.\n",
            "\n",
            "Sentence in the Salesforce_MSA_30: Definitions 2.\n",
            "\n",
            "Sentence in the Salesforce_MSA_30: Free Trial 3.\n",
            "\n",
            "Sentence in the Salesforce_MSA_30: \"Purchased Services\" means Services that You or Your Affiliates purchase under an Order Form, as distinguished from those provided pursuant to a free trial.\n",
            "\n",
            "Sentence in the Salesforce_MSA_31: \"Purchased Services\" means Services that You or Your Affiliates purchase under an Order Form, as distinguished from those provided pursuant to a 30-day free trial.\n",
            "\n",
            "Sentence in the Salesforce_MSA_30: \"Services\" means the online, Web-based applications and platform provided by Us via http://www.salesforce.com and/or other designated websites as described in the User Guide, that are ordered by You as part of a free trial or under an Order Form, including associated offline components but excluding Third Party Applications.\n",
            "\n",
            "Sentence in the Salesforce_MSA_31: \"Services\" means the online, Web-based applications and platform provided by Us via http://www.salesforce.com and/or other designated websites as described in the User Guide, that are ordered by You as part of a 30-day free trial or under an Order Form, including associated offline components but excluding Third Party Applications.\n",
            "\n",
            "Sentence in the Salesforce_MSA_30: You acknowledge that You have had the opportunity to review the User Guide during the free trial described in Section 2 (30-Day Free Trial) below.\n",
            "\n",
            "Sentence in the Salesforce_MSA_31: You acknowledge that You have had the opportunity to review the User Guide during the 30-day free trial described in Section 2 (30-Day Free Trial) below.\n",
            "\n",
            "Sentence in the Salesforce_MSA_30: 2. FREE TRIAL\n",
            "\n",
            "Sentence in the Salesforce_MSA_31: 2. 30-DAY FREE TRIAL\n",
            "\n",
            "Sentence in the Salesforce_MSA_30: We will make one or more Services available to You on a trial basis free of charge until the earlier of (a) the end of the free trial period for which you registered or are registering to use the applicable Service or (b) the start date of any Purchased Services ordered by You.\n",
            "\n",
            "Sentence in the Salesforce_MSA_31: We will make one or more Services available to You on a trial basis free of charge until the earlier of (a) the thirtieth day after Your acceptance of this Agreement or (b) the start date of any Purchased Services ordered by You.\n",
            "\n",
            "Sentence in the Salesforce_MSA_30: ANY DATA YOU ENTER INTO THE SERVICES, AND ANY CUSTOMIZATIONS MADE TO THE SERVICES BY OR FOR YOU, DURING YOUR FREE TRIAL WILL BE PERMANENTLY LOST UNLESS YOU PURCHASE A SUBSCRIPTION TO THE SAME SERVICES AS THOSE COVERED BY THE TRIAL, PURCHASE UPGRADED SERVICES, OR EXPORT SUCH DATA, BEFORE THE END OF THE TRIAL PERIOD.\n",
            "\n",
            "Sentence in the Salesforce_MSA_31: ANY DATA YOU ENTER INTO THE SERVICES, AND ANY CUSTOMIZATIONS MADE TO THE SERVICES BY OR FOR YOU, DURING YOUR 30-DAY FREE TRIAL WILL BE PERMANENTLY LOST UNLESS YOU PURCHASE A SUBSCRIPTION TO THE SAME SERVICES AS THOSE COVERED BY THE TRIAL, PURCHASE UPGRADED SERVICES, OR EXPORT SUCH DATA, BEFORE THE END OF THE 30-DAY TRIAL PERIOD.\n",
            "\n",
            "Sentence in the Salesforce_MSA_30: YOU CANNOT TRANSFER DATA ENTERED OR CUSTOMIZATIONS MADE DURING THE FREE TRIAL TO A SERVICE THAT WOULD BE A DOWNGRADE FROM THAT COVERED BY THE TRIAL (E.G., FROM ENTERPRISE EDITION TO PROFESSIONAL EDITION OR FROM PROFESSIONAL EDITION TO GROUP EDITION); THEREFORE, IF YOU PURCHASE A SERVICE THAT WOULD BE A DOWNGRADE FROM THAT COVERED BY THE TRIAL, YOU MUST EXPORT YOUR DATA BEFORE THE END OF THE TRIAL PERIOD OR YOUR DATA WILL BE PERMANENTLY LOST.\n",
            "\n",
            "Sentence in the Salesforce_MSA_31: YOU CANNOT TRANSFER DATA ENTERED OR CUSTOMIZATIONS MADE DURING THE 30-DAY FREE TRIAL TO A SERVICE THAT WOULD BE A DOWNGRADE FROM THAT COVERED BY THE TRIAL (E.G., FROM ENTERPRISE EDITION TO PROFESSIONAL EDITION OR FROM PROFESSIONAL EDITION TO GROUP EDITION); THEREFORE, IF YOU PURCHASE A SERVICE THAT WOULD BE A DOWNGRADE FROM THAT COVERED BY THE TRIAL, YOU MUST EXPORT YOUR DATA BEFORE THE END OF THE 30-DAY TRIAL PERIOD OR YOUR DATA WILL BE PERMANENTLY LOST.\n",
            "\n",
            "Sentence in the Salesforce_MSA_30: NOTWITHSTANDING SECTION 9 (WARRANTIES AND DISCLAIMERS), DURING THE FREE TRIAL THE SERVICES ARE PROVIDED “AS-IS” WITHOUT ANY WARRANTY.\n",
            "\n",
            "Sentence in the Salesforce_MSA_31: NOTWITHSTANDING SECTION 9 (WARRANTIES AND DISCLAIMERS), DURING THE 30-DAY FREE TRIAL THE SERVICES ARE PROVIDED “AS-IS” WITHOUT ANY WARRANTY.\n",
            "\n",
            "Sentence in the Salesforce_MSA_30: If You elect to use the Services for a free trial period and do not purchase a subscription before the end of that period, this Agreement will terminate at the end of the free trial period.\n",
            "\n",
            "Sentence in the Salesforce_MSA_31: If You elect to use the Services for a 30-day free trial period and do not purchase a subscription before the end of that period, this Agreement will terminate at the end of the 30-day free trial period.\n",
            "\n",
            "Sentence in the Salesforce_MSA_31: If You are domiciled in: You are contracting with: A Country in North, South or Central America or the Caribbean Salesforce.com, inc., The Landmark@One Market, Suite 300, San Francisco, California, 94105, U.S.A. A Country in Europe, the Middle East or Africa salesforce.com\n",
            "\n",
            "Sentence in the Salesforce_MSA_31: Sàrl, Rue St-Louis 2, Morges, 1110, Switzerland The governing law is: The courts having exclusive jurisdiction are: California and controlling United States federal law San Francisco, California, U.S.A. Switzerland Switzerland Notices should be addressed to: VP, Worldwide Sales Operations Fax: +1-415-901-7040 Director, EMEA Sales Operations Fax +41-21-6953701 Japan Salesforce.com Kabushiki Kaisha, Ebisu Business Tower 18F 1-19-19 Ebisu, Shibuya-ku, Tokyo, 150-0013, Japan Director, Japan Sales Operations Fax +81-3-5793-8302 A Country in Asia or the Pacific region, other than Japan Salesforce.com Singapore Pte Ltd, 9 Temasek Boulevard#40-01, Suntec Tower 2, Singapore, 038989 Director, APAC Sales Operations Fax +65 6302 5777 Japan Tokyo, Japan Singapore Singapore 13.2.\n",
            "\n",
            "Sentence in the Salesforce_MSA_30: If You are domiciled in: You are contracting with: A Country in North, South or Central America or the Caribbean A Country in Europe, the Middle East or Africa Salesforce.com, inc., The Landmark@One Market, Suite 300, San Francisco, California, 94105, U.S.A. salesforce.com\n",
            "\n",
            "Sentence in the Salesforce_MSA_30: Sàrl, Route de la Longeraie 9, Morges, 1110, Switzerland Japan Salesforce.com Kabushiki Kaisha, Japan A Country in Asia or the Pacific region, other than Japan Salesforce.com Singapore Pte Ltd, 9 Temasek Boulevard#40-01, Suntec Tower 2, Singapore, 038989 Notices should be addressed to: VP, Worldwide Sales Operations Fax: +1-415-901-7040 Director, EMEA Sales Operations Fax +41-21-6953701 Director, Japan Sales Operations Fax +81-3-5793-8302 Director, APAC Sales Operations Fax +65 6302\n",
            "\n",
            "Sentence in the Salesforce_MSA_30: 5777\n",
            "\n",
            "Sentence in the Salesforce_MSA_30: The governing law is: The courts having exclusive jurisdiction are: California and controlling United States federal law San Francisco, California, U.S.A. Switzerland Switzerland Japan Tokyo, Japan Singapore Singapore 13.2.\n",
            "\n"
          ]
        }
      ]
    },
    {
      "cell_type": "code",
      "source": [
        "find_different_sentences()"
      ],
      "metadata": {
        "colab": {
          "base_uri": "https://localhost:8080/"
        },
        "id": "MZAWT6Y7k3WY",
        "outputId": "dae92051-4d05-42ec-9799-364922979686"
      },
      "execution_count": null,
      "outputs": [
        {
          "output_type": "stream",
          "name": "stdout",
          "text": [
            "Enter the first file name and press enter: Salesforce_MSA_40\n",
            "Enter the second file name and press enter: Salesforce_MSA_41\n",
            "Below are the differences:\n",
            "\n",
            "Sentence in the Salesforce_MSA_40: Master Subscription Agreement BY CLICKING THE \"I ACCEPT\" BUTTON DISPLAYED AS PART OF THE ORDERING PROCESS, YOU AGREE TO THE FOLLOWING TERMS AND CONDITIONS (THE \"AGREEMENT\") GOVERNING YOUR USE OF SALESFORCE.COM'S ONLINE SERVICE, INCLUDING OFFLINE COMPONENTS (COLLECTIVELY, THE \"SERVICE\").\n",
            "\n",
            "Sentence in the Salesforce_MSA_41: Master Subscription Agreement Master Subscription Agreement BY CLICKING THE \"I ACCEPT\" BUTTON DISPLAYED AS PART OF THE ORDERING PROCESS, YOU AGREE TO THE FOLLOWING TERMS AND CONDITIONS (THE \"AGREEMENT\") GOVERNING YOUR USE OF SALESFORCE.COM'S ONLINE SERVICE (THE \"SERVICE\").\n",
            "\n",
            "Sentence in the Salesforce_MSA_40: Intellectual Property Ownership Salesforce.com alone (and its licensors, where applicable) shall own all right, title and interest, including all related Intellectual Property Rights, in and to the Salesforce.com Technology, the Content and the Service and any suggestions, ideas, enhancement requests, feedback, recommendations or other information provided by you or any other party relating to the Service.\n",
            "\n",
            "Sentence in the Salesforce_MSA_41: Intellectual Property Ownership Salesforce.com alone (and its licensors, where applicable) shall own all right, title and interest, including all related Intellectual Property Rights, in and to the salesforce.com Technology, the Content and the Service and any suggestions, ideas, enhancement requests, feedback, recommendations or other information provided by you or any other party relating to the Service.\n",
            "\n",
            "Sentence in the Salesforce_MSA_40: Delinquent invoices (accounts in arrears) are subject to interest of 1.0% per month on any outstanding balance, or the maximum permitted by law, whichever is less, plus all expenses of collection.\n",
            "\n",
            "Sentence in the Salesforce_MSA_41: Delinquent invoices (accounts in arrears) are subject to interest of 1% per month on any outstanding balance, or the maximum permitted by law, whichever is less, plus all expenses of collection.\n",
            "\n",
            "Sentence in the Salesforce_MSA_40: The user of this site (\"User\") acknowledges and agrees that the site shall not be used, and none of the underlying information, software, or technology may be transferred or otherwise exported or re-exported to countries as to which the United States, Switzerland and/or the European Union maintains an embargo (collectively, \"Embargoed Countries\"), or to or by a national or resident thereof, or any person or entity on the U.S. Department of Treasury's List of Specially Designated Nationals or the U.S. Department of Commerce's Table of Denial Orders (collectively, \"Designated Nationals\").\n",
            "\n",
            "Sentence in the Salesforce_MSA_41: The user of this site (\"User\") acknowledges and agrees that the site shall not be used, and none of the underlying information, software, or technology may be transferred or otherwise exported or re-exported to countries as to which the United States, Switzerland and/or the European Union maintain an embargo (collectively, \"Embargoed Countries\"), or to or by a national or resident thereof, or any person or entity on the U.S. Department of Treasury's List of Specially Designated Nationals or the U.S. Department of Commerce's Table of Denial Orders (collectively, \"Designated Nationals\").\n",
            "\n",
            "Sentence in the Salesforce_MSA_40: De la Dent d'Oche, CH1024 Ecublens, Switzerland, in either case, addressed to the attention of: Chief Financial Officer.\n",
            "\n",
            "Sentence in the Salesforce_MSA_41: De la Dent d’Oche, CH1024 Ecublens, Switzerland, in either case, addressed to the attention of: Chief Financial Officer.\n",
            "\n",
            "Sentence in the Salesforce_MSA_40: Sàrl, a limited liability company, having its registered office at Ch. de la Dent d'Oche, CH1024 Ecublens, Switzerland; \"Salesforce.com Technology\" means all of salesforce.com's proprietary technology (including software, hardware, products, processes, algorithms, user interfaces, know-how, techniques, designs and other tangible or intangible technical material or information) made available to you by salesforce.com in providing the Service; \"Service(s)\" means the specific edition of salesforce.com's online customer relationship management, billing, data analysis, or other corporate ERP services identified during the ordering process, developed, operated, and maintained by salesforce.com, accessible via http://www.salesforce.com or another designated web site or IP address, or ancillary online or offline products and services provided to you by salesforce.com, to which you are being granted access under this Agreement, including the Saleforce.com Technology and the Content; \"User(s)\" means your employees, representatives, consultants, contractors or agents who are authorized to use the Service and have been supplied user identifications and passwords by you (or by salesforce.com at your request).\n",
            "\n",
            "Sentence in the Salesforce_MSA_41: Sàrl, a limited liability company, having its registered office at Ch. de la Dent d’Oche, CH1024 Ecublens, Switzerland; \"Salesforce.com Technology\" means all of salesforce.com's proprietary technology (including software, hardware, products, processes, algorithms, user interfaces, know-how, techniques, designs and other tangible or intangible technical material or information) made available to you by salesforce.com in providing the Service; \"Service(s)\" means the specific edition of salesforce.com's online customer relationship management, billing, data analysis, or other corporate ERP services identified during the ordering process, developed, operated, and maintained by salesforce.com, accessible via http://www.salesforce.com or another designated web site or IP address, or ancillary services rendered to you by salesforce.com, to which you are being granted access under this Agreement, including the Saleforce.com Technology and the Content; \"User(s)\" means your employees, representatives, consultants, contractors or agents who are authorized to use the Service and have been supplied user identifications and passwords by you (or by salesforce.com at your request).\n",
            "\n",
            "Sentence in the Salesforce_MSA_41: © Copyright 2000-2005 salesforce.com, inc. • All rights reserved •\n",
            "\n",
            "Sentence in the Salesforce_MSA_41: Various trademarks held by their respective owners.\n",
            "\n"
          ]
        }
      ]
    }
  ]
}